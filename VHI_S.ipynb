{
 "cells": [
  {
   "cell_type": "code",
   "execution_count": 113,
   "metadata": {},
   "outputs": [],
   "source": [
    "import seaborn as sns\n",
    "import pandas as pd\n",
    "import matplotlib.pyplot as plt\n",
    "\n",
    "from scipy.optimize import curve_fit\n",
    "import numpy as np\n",
    "\n",
    "import statsmodels.api as sm\n",
    "import statsmodels.formula.api as smf\n",
    "\n",
    "import matplotlib.cm as cm\n",
    "\n",
    "import math\n",
    "\n",
    "\n",
    "\n",
    "%matplotlib inline"
   ]
  },
  {
   "cell_type": "code",
   "execution_count": 30,
   "metadata": {},
   "outputs": [],
   "source": [
    "URL = r\"file:///C:\\Users\\nakamura\\test\\result.csv\""
   ]
  },
  {
   "cell_type": "code",
   "execution_count": 31,
   "metadata": {
    "pixiedust": {
     "displayParams": {}
    }
   },
   "outputs": [
    {
     "name": "stdout",
     "output_type": "stream",
     "text": [
      "Downloading 'file:///C:\\Users\\nakamura\\test\\result.csv' from file:///C:\\Users\\nakamura\\test\\result.csv\n",
      "Downloaded 724 bytes\n",
      "Creating pandas DataFrame for 'file:///C:\\Users\\nakamura\\test\\result.csv'. Please wait...\n",
      "Loading file using 'pandas'\n",
      "Successfully created pandas DataFrame for 'file:///C:\\Users\\nakamura\\test\\result.csv'\n"
     ]
    }
   ],
   "source": [
    "import pixiedust\n",
    "df = pixiedust.sampleData(URL)\n"
   ]
  },
  {
   "cell_type": "code",
   "execution_count": 32,
   "metadata": {
    "pixiedust": {
     "displayParams": {
      "color": "condition",
      "filter": "{}",
      "handlerId": "lineChart",
      "keyFields": "condition",
      "kind": "kde",
      "no_margin": "true",
      "rendererId": "bokeh",
      "valueFields": "value"
     }
    }
   },
   "outputs": [
    {
     "data": {
      "text/html": [
       "<style type=\"text/css\">.pd_warning{display:none;}</style><div class=\"pd_warning\"><em>Hey, there's something awesome here! To see it, open this notebook outside GitHub, in a viewer like Jupyter</em></div>\n",
       "        <div class=\"pd_save is-viewer-good\" style=\"padding-right:10px;text-align: center;line-height:initial !important;font-size: xx-large;font-weight: 500;color: coral;\">\n",
       "            \n",
       "        </div>\n",
       "    \n",
       "        <div id=\"chartFigure2c6fadc0\" class=\"pd_save\" style=\"overflow-x:auto\">\n",
       "            \n",
       "                    <script class=\"pd_save\">\n",
       "                    function setChartScript() {\n",
       "                        if (!window.Bokeh) {\n",
       "                            setTimeout(setChartScript, 250)\n",
       "                        } else {\n",
       "                            var d = document.getElementById(\"pd-bkchartdiv-2c6fadc0\")\n",
       "                            if (d){\n",
       "                                var el = document.createElement('div')\n",
       "                                el.innerHTML = `\n",
       "<script type=\"text/javascript\">\n",
       "  (function() {\n",
       "    var fn = function() {\n",
       "      Bokeh.safely(function() {\n",
       "        (function(root) {\n",
       "          function embed_document(root) {\n",
       "            \n",
       "          var docs_json = '{\"b01988dd-60cc-4775-b48c-e7f5033293a5\":{\"roots\":{\"references\":[{\"attributes\":{\"tools\":[{\"id\":\"83448045-f52f-4f7a-8672-16c33e846041\",\"type\":\"PanTool\"},{\"id\":\"13cf74dc-65a7-4941-8b1a-7300f232eea1\",\"type\":\"WheelZoomTool\"},{\"id\":\"923c0fe0-5b9e-4ef4-b06e-344fd1580531\",\"type\":\"BoxZoomTool\"},{\"id\":\"f04796c9-0af0-4585-a44b-70a5bdd5a33e\",\"type\":\"SaveTool\"},{\"id\":\"f72ebad7-5113-40b4-8a48-9e2d7a50ea98\",\"type\":\"ResetTool\"},{\"id\":\"b0a08ef7-5547-4f79-8eb0-d27a57b7f95e\",\"type\":\"HelpTool\"}]},\"id\":\"4b8d8cc0-8cbb-47d8-af7b-9f5280b39f19\",\"type\":\"ProxyToolbar\"},{\"attributes\":{\"children\":[{\"id\":\"3a74dd79-cae8-4806-ac6c-8ce3175a9d4e\",\"type\":\"Row\"}]},\"id\":\"ff993686-a7b5-4743-b287-cc89519442fa\",\"type\":\"Column\"},{\"attributes\":{},\"id\":\"13cf74dc-65a7-4941-8b1a-7300f232eea1\",\"type\":\"WheelZoomTool\"},{\"attributes\":{\"callback\":null,\"column_names\":[\"x\",\"y\"],\"data\":{\"x\":[0.0,1.0,2.0,3.0,4.0,5.0,6.0,7.0,8.0,9.0,10.0,11.0],\"y\":[1.8,2.4000000000000004,3.0,3.45,3.5000000000000004,4.8,4.8,5.0,4.3,5.2,4.3,5.7]}},\"id\":\"885dfe27-d332-4c86-a0ac-810a67b0f307\",\"type\":\"ColumnDataSource\"},{\"attributes\":{\"axis_label\":\"condition\",\"formatter\":{\"id\":\"22435aa0-f43f-46f1-b534-01563a024c5b\",\"type\":\"BasicTickFormatter\"},\"plot\":{\"id\":\"bf16d8b2-dca8-49f3-bab4-2e55d787e540\",\"subtype\":\"Figure\",\"type\":\"Plot\"},\"ticker\":{\"id\":\"221fbc16-5f0d-4f4e-a9bf-2e1e6d6d1a18\",\"type\":\"BasicTicker\"}},\"id\":\"4c9b73fb-acf9-4584-abc0-7ca623dbd373\",\"type\":\"LinearAxis\"},{\"attributes\":{\"dimension\":1,\"plot\":{\"id\":\"bf16d8b2-dca8-49f3-bab4-2e55d787e540\",\"subtype\":\"Figure\",\"type\":\"Plot\"},\"ticker\":{\"id\":\"a3b2d09e-c4bf-4091-8ea3-bc99a72b6c6d\",\"type\":\"BasicTicker\"}},\"id\":\"22c6b8df-debd-4a31-8a9a-0204a147997b\",\"type\":\"Grid\"},{\"attributes\":{},\"id\":\"f04796c9-0af0-4585-a44b-70a5bdd5a33e\",\"type\":\"SaveTool\"},{\"attributes\":{},\"id\":\"b0a08ef7-5547-4f79-8eb0-d27a57b7f95e\",\"type\":\"HelpTool\"},{\"attributes\":{\"source\":{\"id\":\"885dfe27-d332-4c86-a0ac-810a67b0f307\",\"type\":\"ColumnDataSource\"}},\"id\":\"6822aef3-40d6-4cbc-b460-302d999600da\",\"type\":\"CDSView\"},{\"attributes\":{},\"id\":\"22435aa0-f43f-46f1-b534-01563a024c5b\",\"type\":\"BasicTickFormatter\"},{\"attributes\":{\"bottom_units\":\"screen\",\"fill_alpha\":{\"value\":0.5},\"fill_color\":{\"value\":\"lightgrey\"},\"left_units\":\"screen\",\"level\":\"overlay\",\"line_alpha\":{\"value\":1.0},\"line_color\":{\"value\":\"black\"},\"line_dash\":[4,4],\"line_width\":{\"value\":2},\"plot\":null,\"render_mode\":\"css\",\"right_units\":\"screen\",\"top_units\":\"screen\"},\"id\":\"b122f7c7-8a53-41f7-9f77-99656c511999\",\"type\":\"BoxAnnotation\"},{\"attributes\":{\"overlay\":{\"id\":\"b122f7c7-8a53-41f7-9f77-99656c511999\",\"type\":\"BoxAnnotation\"}},\"id\":\"923c0fe0-5b9e-4ef4-b06e-344fd1580531\",\"type\":\"BoxZoomTool\"},{\"attributes\":{},\"id\":\"93e8a88c-8fe2-4413-a45c-7db28be9c616\",\"type\":\"BasicTickFormatter\"},{\"attributes\":{\"callback\":null},\"id\":\"dc8e280e-d78d-4d06-be3d-d1c20c3f9df9\",\"type\":\"DataRange1d\"},{\"attributes\":{},\"id\":\"f72ebad7-5113-40b4-8a48-9e2d7a50ea98\",\"type\":\"ResetTool\"},{\"attributes\":{\"children\":[{\"id\":\"bf16d8b2-dca8-49f3-bab4-2e55d787e540\",\"subtype\":\"Figure\",\"type\":\"Plot\"}]},\"id\":\"3a74dd79-cae8-4806-ac6c-8ce3175a9d4e\",\"type\":\"Row\"},{\"attributes\":{\"axis_label\":\"value\",\"formatter\":{\"id\":\"93e8a88c-8fe2-4413-a45c-7db28be9c616\",\"type\":\"BasicTickFormatter\"},\"plot\":{\"id\":\"bf16d8b2-dca8-49f3-bab4-2e55d787e540\",\"subtype\":\"Figure\",\"type\":\"Plot\"},\"ticker\":{\"id\":\"a3b2d09e-c4bf-4091-8ea3-bc99a72b6c6d\",\"type\":\"BasicTicker\"}},\"id\":\"075e749e-f1b4-47cd-bc18-5da26ff88b21\",\"type\":\"LinearAxis\"},{\"attributes\":{},\"id\":\"83448045-f52f-4f7a-8672-16c33e846041\",\"type\":\"PanTool\"},{\"attributes\":{\"plot\":{\"id\":\"bf16d8b2-dca8-49f3-bab4-2e55d787e540\",\"subtype\":\"Figure\",\"type\":\"Plot\"},\"ticker\":{\"id\":\"221fbc16-5f0d-4f4e-a9bf-2e1e6d6d1a18\",\"type\":\"BasicTicker\"}},\"id\":\"7215cecf-ae41-4247-95e7-41bc20479069\",\"type\":\"Grid\"},{\"attributes\":{},\"id\":\"a3b2d09e-c4bf-4091-8ea3-bc99a72b6c6d\",\"type\":\"BasicTicker\"},{\"attributes\":{},\"id\":\"221fbc16-5f0d-4f4e-a9bf-2e1e6d6d1a18\",\"type\":\"BasicTicker\"},{\"attributes\":{\"label\":{\"value\":\"value\"},\"renderers\":[{\"id\":\"86690b02-d662-468f-8cbb-5e7b631008a5\",\"type\":\"GlyphRenderer\"}]},\"id\":\"8d51ef0c-b756-4173-8b49-f37c741a6a54\",\"type\":\"LegendItem\"},{\"attributes\":{},\"id\":\"99265d49-f2a1-4f4c-8c84-789256a2e89e\",\"type\":\"LinearScale\"},{\"attributes\":{\"toolbar\":{\"id\":\"4b8d8cc0-8cbb-47d8-af7b-9f5280b39f19\",\"type\":\"ProxyToolbar\"},\"toolbar_location\":\"above\"},\"id\":\"c53fcca4-fec5-4955-8755-3618b45670c5\",\"type\":\"ToolbarBox\"},{\"attributes\":{\"line_alpha\":0.1,\"line_color\":\"#1f77b4\",\"line_width\":2,\"x\":{\"field\":\"x\"},\"y\":{\"field\":\"y\"}},\"id\":\"14eb058c-cbe8-42d0-8cba-b2c5c9ecebf6\",\"type\":\"Line\"},{\"attributes\":{\"below\":[{\"id\":\"4c9b73fb-acf9-4584-abc0-7ca623dbd373\",\"type\":\"LinearAxis\"}],\"left\":[{\"id\":\"075e749e-f1b4-47cd-bc18-5da26ff88b21\",\"type\":\"LinearAxis\"}],\"plot_height\":495,\"plot_width\":1005,\"renderers\":[{\"id\":\"4c9b73fb-acf9-4584-abc0-7ca623dbd373\",\"type\":\"LinearAxis\"},{\"id\":\"7215cecf-ae41-4247-95e7-41bc20479069\",\"type\":\"Grid\"},{\"id\":\"075e749e-f1b4-47cd-bc18-5da26ff88b21\",\"type\":\"LinearAxis\"},{\"id\":\"22c6b8df-debd-4a31-8a9a-0204a147997b\",\"type\":\"Grid\"},{\"id\":\"b122f7c7-8a53-41f7-9f77-99656c511999\",\"type\":\"BoxAnnotation\"},{\"id\":\"8b38562c-3666-4d78-b67d-a0e53f0a71ba\",\"type\":\"Legend\"},{\"id\":\"86690b02-d662-468f-8cbb-5e7b631008a5\",\"type\":\"GlyphRenderer\"}],\"title\":null,\"toolbar\":{\"id\":\"910d4a0e-cb7d-4b83-a670-5775e5ef21bd\",\"type\":\"Toolbar\"},\"toolbar_location\":null,\"x_range\":{\"id\":\"f90f6464-8c4d-48cf-ab76-d3449d8ee865\",\"type\":\"DataRange1d\"},\"x_scale\":{\"id\":\"99265d49-f2a1-4f4c-8c84-789256a2e89e\",\"type\":\"LinearScale\"},\"y_range\":{\"id\":\"dc8e280e-d78d-4d06-be3d-d1c20c3f9df9\",\"type\":\"DataRange1d\"},\"y_scale\":{\"id\":\"d4436a32-902b-4f07-9779-7c4d6a23da97\",\"type\":\"LinearScale\"}},\"id\":\"bf16d8b2-dca8-49f3-bab4-2e55d787e540\",\"subtype\":\"Figure\",\"type\":\"Plot\"},{\"attributes\":{\"items\":[{\"id\":\"8d51ef0c-b756-4173-8b49-f37c741a6a54\",\"type\":\"LegendItem\"}],\"location\":\"top_left\",\"plot\":{\"id\":\"bf16d8b2-dca8-49f3-bab4-2e55d787e540\",\"subtype\":\"Figure\",\"type\":\"Plot\"}},\"id\":\"8b38562c-3666-4d78-b67d-a0e53f0a71ba\",\"type\":\"Legend\"},{\"attributes\":{\"data_source\":{\"id\":\"885dfe27-d332-4c86-a0ac-810a67b0f307\",\"type\":\"ColumnDataSource\"},\"glyph\":{\"id\":\"3c8957ae-dad8-4eb7-899a-c76ed185bf43\",\"type\":\"Line\"},\"hover_glyph\":null,\"muted_glyph\":null,\"nonselection_glyph\":{\"id\":\"14eb058c-cbe8-42d0-8cba-b2c5c9ecebf6\",\"type\":\"Line\"},\"selection_glyph\":null,\"view\":{\"id\":\"6822aef3-40d6-4cbc-b460-302d999600da\",\"type\":\"CDSView\"}},\"id\":\"86690b02-d662-468f-8cbb-5e7b631008a5\",\"type\":\"GlyphRenderer\"},{\"attributes\":{\"active_drag\":\"auto\",\"active_inspect\":\"auto\",\"active_scroll\":\"auto\",\"active_tap\":\"auto\",\"tools\":[{\"id\":\"83448045-f52f-4f7a-8672-16c33e846041\",\"type\":\"PanTool\"},{\"id\":\"13cf74dc-65a7-4941-8b1a-7300f232eea1\",\"type\":\"WheelZoomTool\"},{\"id\":\"923c0fe0-5b9e-4ef4-b06e-344fd1580531\",\"type\":\"BoxZoomTool\"},{\"id\":\"f04796c9-0af0-4585-a44b-70a5bdd5a33e\",\"type\":\"SaveTool\"},{\"id\":\"f72ebad7-5113-40b4-8a48-9e2d7a50ea98\",\"type\":\"ResetTool\"},{\"id\":\"b0a08ef7-5547-4f79-8eb0-d27a57b7f95e\",\"type\":\"HelpTool\"}]},\"id\":\"910d4a0e-cb7d-4b83-a670-5775e5ef21bd\",\"type\":\"Toolbar\"},{\"attributes\":{\"children\":[{\"id\":\"c53fcca4-fec5-4955-8755-3618b45670c5\",\"type\":\"ToolbarBox\"},{\"id\":\"ff993686-a7b5-4743-b287-cc89519442fa\",\"type\":\"Column\"}]},\"id\":\"b586b876-128f-47ca-855b-908c93aba021\",\"type\":\"Column\"},{\"attributes\":{\"callback\":null},\"id\":\"f90f6464-8c4d-48cf-ab76-d3449d8ee865\",\"type\":\"DataRange1d\"},{\"attributes\":{},\"id\":\"d4436a32-902b-4f07-9779-7c4d6a23da97\",\"type\":\"LinearScale\"},{\"attributes\":{\"line_color\":\"#1f77b4\",\"line_width\":2,\"x\":{\"field\":\"x\"},\"y\":{\"field\":\"y\"}},\"id\":\"3c8957ae-dad8-4eb7-899a-c76ed185bf43\",\"type\":\"Line\"}],\"root_ids\":[\"b586b876-128f-47ca-855b-908c93aba021\"]},\"title\":\"Bokeh Application\",\"version\":\"0.12.14\"}}';\n",
       "          var render_items = [{\"docid\":\"b01988dd-60cc-4775-b48c-e7f5033293a5\",\"elementid\":\"7730232a-b2ee-4b09-a0d7-a20d093020e5\",\"modelid\":\"b586b876-128f-47ca-855b-908c93aba021\"}];\n",
       "          root.Bokeh.embed.embed_items(docs_json, render_items);\n",
       "        \n",
       "          }\n",
       "          if (root.Bokeh !== undefined) {\n",
       "            embed_document(root);\n",
       "          } else {\n",
       "            var attempts = 0;\n",
       "            var timer = setInterval(function(root) {\n",
       "              if (root.Bokeh !== undefined) {\n",
       "                embed_document(root);\n",
       "                clearInterval(timer);\n",
       "              }\n",
       "              attempts++;\n",
       "              if (attempts > 100) {\n",
       "                console.log(\"Bokeh: ERROR: Unable to run BokehJS code because BokehJS library is missing\")\n",
       "                clearInterval(timer);\n",
       "              }\n",
       "            }, 10, root)\n",
       "          }\n",
       "        })(window);\n",
       "      });\n",
       "    };\n",
       "    if (document.readyState != \"loading\") fn();\n",
       "    else document.addEventListener(\"DOMContentLoaded\", fn);\n",
       "  })();\n",
       "<\\/script>`\n",
       "                                var chartscript = el.childNodes[1]\n",
       "                                var s = document.createElement(\"script\")\n",
       "                                s.innerHTML = chartscript.innerHTML\n",
       "                                d.parentNode.insertBefore(s, d)\n",
       "                            }\n",
       "                        }\n",
       "                    }\n",
       "                    if (!window.Bokeh && !window.autoload){\n",
       "                        window.autoload=true;\n",
       "                        \n",
       "(function(root) {\n",
       "  function now() {\n",
       "    return new Date();\n",
       "  }\n",
       "\n",
       "  var force = 1;\n",
       "\n",
       "  if (typeof (root._bokeh_onload_callbacks) === \"undefined\" || force === true) {\n",
       "    root._bokeh_onload_callbacks = [];\n",
       "    root._bokeh_is_loading = undefined;\n",
       "  }\n",
       "\n",
       "  \n",
       "\n",
       "  \n",
       "  if (typeof (root._bokeh_timeout) === \"undefined\" || force === true) {\n",
       "    root._bokeh_timeout = Date.now() + 5000;\n",
       "    root._bokeh_failed_load = false;\n",
       "  }\n",
       "\n",
       "  var NB_LOAD_WARNING = {'data': {'text/html':\n",
       "     \"<div style='background-color: #fdd'>\\n\"+\n",
       "     \"<p>\\n\"+\n",
       "     \"BokehJS does not appear to have successfully loaded. If loading BokehJS from CDN, this \\n\"+\n",
       "     \"may be due to a slow or bad network connection. Possible fixes:\\n\"+\n",
       "     \"</p>\\n\"+\n",
       "     \"<ul>\\n\"+\n",
       "     \"<li>re-rerun `output_notebook()` to attempt to load from CDN again, or</li>\\n\"+\n",
       "     \"<li>use INLINE resources instead, as so:</li>\\n\"+\n",
       "     \"</ul>\\n\"+\n",
       "     \"<code>\\n\"+\n",
       "     \"from bokeh.resources import INLINE\\n\"+\n",
       "     \"output_notebook(resources=INLINE)\\n\"+\n",
       "     \"</code>\\n\"+\n",
       "     \"</div>\"}};\n",
       "\n",
       "  function display_loaded() {\n",
       "    var el = document.getElementById(\"\");\n",
       "    if (el != null) {\n",
       "      el.textContent = \"BokehJS is loading...\";\n",
       "    }\n",
       "    if (root.Bokeh !== undefined) {\n",
       "      if (el != null) {\n",
       "        el.textContent = \"BokehJS \" + root.Bokeh.version + \" successfully loaded.\";\n",
       "      }\n",
       "    } else if (Date.now() < root._bokeh_timeout) {\n",
       "      setTimeout(display_loaded, 100)\n",
       "    }\n",
       "  }\n",
       "\n",
       "\n",
       "  function run_callbacks() {\n",
       "    try {\n",
       "      root._bokeh_onload_callbacks.forEach(function(callback) { callback() });\n",
       "    }\n",
       "    finally {\n",
       "      delete root._bokeh_onload_callbacks\n",
       "    }\n",
       "    console.info(\"Bokeh: all callbacks have finished\");\n",
       "  }\n",
       "\n",
       "  function load_libs(js_urls, callback) {\n",
       "    root._bokeh_onload_callbacks.push(callback);\n",
       "    if (root._bokeh_is_loading > 0) {\n",
       "      console.log(\"Bokeh: BokehJS is being loaded, scheduling callback at\", now());\n",
       "      return null;\n",
       "    }\n",
       "    if (js_urls == null || js_urls.length === 0) {\n",
       "      run_callbacks();\n",
       "      return null;\n",
       "    }\n",
       "    console.log(\"Bokeh: BokehJS not loaded, scheduling load and callback at\", now());\n",
       "    root._bokeh_is_loading = js_urls.length;\n",
       "    for (var i = 0; i < js_urls.length; i++) {\n",
       "      var url = js_urls[i];\n",
       "      var s = document.createElement('script');\n",
       "      s.src = url;\n",
       "      s.async = false;\n",
       "      s.onreadystatechange = s.onload = function() {\n",
       "        root._bokeh_is_loading--;\n",
       "        if (root._bokeh_is_loading === 0) {\n",
       "          console.log(\"Bokeh: all BokehJS libraries loaded\");\n",
       "          run_callbacks()\n",
       "        }\n",
       "      };\n",
       "      s.onerror = function() {\n",
       "        console.warn(\"failed to load library \" + url);\n",
       "      };\n",
       "      console.log(\"Bokeh: injecting script tag for BokehJS library: \", url);\n",
       "      document.getElementsByTagName(\"head\")[0].appendChild(s);\n",
       "    }\n",
       "  };\n",
       "\n",
       "  var js_urls = [\"https://cdn.pydata.org/bokeh/release/bokeh-0.12.14.min.js\", \"https://cdn.pydata.org/bokeh/release/bokeh-widgets-0.12.14.min.js\", \"https://cdn.pydata.org/bokeh/release/bokeh-tables-0.12.14.min.js\", \"https://cdn.pydata.org/bokeh/release/bokeh-gl-0.12.14.min.js\"];\n",
       "\n",
       "  var inline_js = [\n",
       "    function(Bokeh) {\n",
       "      Bokeh.set_log_level(\"info\");\n",
       "    },\n",
       "    function(Bokeh) {\n",
       "      console.log(\"Bokeh: injecting CSS: https://cdn.pydata.org/bokeh/release/bokeh-0.12.14.min.css\");\n",
       "      Bokeh.embed.inject_css(\"https://cdn.pydata.org/bokeh/release/bokeh-0.12.14.min.css\");\n",
       "      console.log(\"Bokeh: injecting CSS: https://cdn.pydata.org/bokeh/release/bokeh-widgets-0.12.14.min.css\");\n",
       "      Bokeh.embed.inject_css(\"https://cdn.pydata.org/bokeh/release/bokeh-widgets-0.12.14.min.css\");\n",
       "      console.log(\"Bokeh: injecting CSS: https://cdn.pydata.org/bokeh/release/bokeh-tables-0.12.14.min.css\");\n",
       "      Bokeh.embed.inject_css(\"https://cdn.pydata.org/bokeh/release/bokeh-tables-0.12.14.min.css\");\n",
       "    }\n",
       "  ];\n",
       "\n",
       "  function run_inline_js() {\n",
       "    \n",
       "    if ((root.Bokeh !== undefined) || (force === true)) {\n",
       "      for (var i = 0; i < inline_js.length; i++) {\n",
       "        inline_js[i].call(root, root.Bokeh);\n",
       "      }} else if (Date.now() < root._bokeh_timeout) {\n",
       "      setTimeout(run_inline_js, 100);\n",
       "    } else if (!root._bokeh_failed_load) {\n",
       "      console.log(\"Bokeh: BokehJS failed to load within specified timeout.\");\n",
       "      root._bokeh_failed_load = true;\n",
       "    } else if (force !== true) {\n",
       "      var cell = $(document.getElementById(\"\")).parents('.cell').data().cell;\n",
       "      cell.output_area.append_execute_result(NB_LOAD_WARNING)\n",
       "    }\n",
       "\n",
       "  }\n",
       "\n",
       "  if (root._bokeh_is_loading === 0) {\n",
       "    console.log(\"Bokeh: BokehJS loaded, going straight to plotting\");\n",
       "    run_inline_js();\n",
       "  } else {\n",
       "    load_libs(js_urls, function() {\n",
       "      console.log(\"Bokeh: BokehJS plotting callback run at\", now());\n",
       "      run_inline_js();\n",
       "    });\n",
       "  }\n",
       "}(window));\n",
       "                    }\n",
       "                    setChartScript()\n",
       "                    </script>\n",
       "                    <div style=\"padding:5px\" id=\"pd-bkchartdiv-2c6fadc0\">\n",
       "<div class=\"bk-root\">\n",
       "    <div class=\"bk-plotdiv\" id=\"7730232a-b2ee-4b09-a0d7-a20d093020e5\"></div>\n",
       "</div></div>\n",
       "                    \n",
       "                \n",
       "        </div>\n",
       "    "
      ],
      "text/plain": [
       "<IPython.core.display.HTML object>"
      ]
     },
     "metadata": {},
     "output_type": "display_data"
    }
   ],
   "source": [
    "display(df)\n"
   ]
  },
  {
   "cell_type": "code",
   "execution_count": 38,
   "metadata": {},
   "outputs": [
    {
     "name": "stderr",
     "output_type": "stream",
     "text": [
      "C:\\ProgramData\\Anaconda3\\lib\\site-packages\\matplotlib\\font_manager.py:1328: UserWarning: findfont: Font family ['serif'] not found. Falling back to DejaVu Sans\n",
      "  (prop.get_family(), self.defaultFamily[fontext]))\n"
     ]
    },
    {
     "data": {
      "image/png": "[encoded data removed]",
      "text/plain": [
       "<Figure size 432x288 with 1 Axes>"
      ]
     },
     "metadata": {},
     "output_type": "display_data"
    }
   ],
   "source": [
    "sns.boxplot(x='condition', y=\"value\",data=df, palette=\"PRGn\")\n",
    "sns.despine(offset=10, trim=True)"
   ]
  },
  {
   "cell_type": "code",
   "execution_count": 40,
   "metadata": {},
   "outputs": [
    {
     "name": "stderr",
     "output_type": "stream",
     "text": [
      "C:\\ProgramData\\Anaconda3\\lib\\site-packages\\matplotlib\\font_manager.py:1328: UserWarning: findfont: Font family ['serif'] not found. Falling back to DejaVu Sans\n",
      "  (prop.get_family(), self.defaultFamily[fontext]))\n"
     ]
    },
    {
     "data": {
      "image/png": "[encoded data removed]",
      "text/plain": [
       "<Figure size 432x288 with 1 Axes>"
      ]
     },
     "metadata": {},
     "output_type": "display_data"
    }
   ],
   "source": [
    "sns.violinplot(x='condition', y=\"value\", data = df, split=True)\n",
    "sns.despine(offset=10, trim=True)"
   ]
  },
  {
   "cell_type": "code",
   "execution_count": null,
   "metadata": {},
   "outputs": [],
   "source": []
  },
  {
   "cell_type": "markdown",
   "metadata": {},
   "source": [
    "conditionを面積に変換"
   ]
  },
  {
   "cell_type": "code",
   "execution_count": 42,
   "metadata": {},
   "outputs": [],
   "source": [
    "condition_l = {0:20,1:20,2:10,3:20,4:40,5:40,6:40,7:40,8:60,9:60,10:60,11:60}\n",
    "condition_d = {0:40,1:45,2:50,3:55,4:40,5:45,6:50,7:55,8:40,9:45,10:50,11:50}"
   ]
  },
  {
   "cell_type": "code",
   "execution_count": 49,
   "metadata": {},
   "outputs": [
    {
     "data": {
      "text/html": [
       "<div>\n",
       "<style scoped>\n",
       "    .dataframe tbody tr th:only-of-type {\n",
       "        vertical-align: middle;\n",
       "    }\n",
       "\n",
       "    .dataframe tbody tr th {\n",
       "        vertical-align: top;\n",
       "    }\n",
       "\n",
       "    .dataframe thead th {\n",
       "        text-align: right;\n",
       "    }\n",
       "</style>\n",
       "<table border=\"1\" class=\"dataframe\">\n",
       "  <thead>\n",
       "    <tr style=\"text-align: right;\">\n",
       "      <th></th>\n",
       "      <th>subject</th>\n",
       "      <th>condition</th>\n",
       "      <th>value</th>\n",
       "      <th>l</th>\n",
       "      <th>d</th>\n",
       "    </tr>\n",
       "  </thead>\n",
       "  <tbody>\n",
       "    <tr>\n",
       "      <th>0</th>\n",
       "      <td>âè</td>\n",
       "      <td>8</td>\n",
       "      <td>1.3</td>\n",
       "      <td>60</td>\n",
       "      <td>40</td>\n",
       "    </tr>\n",
       "    <tr>\n",
       "      <th>1</th>\n",
       "      <td>âè</td>\n",
       "      <td>1</td>\n",
       "      <td>0.8</td>\n",
       "      <td>20</td>\n",
       "      <td>45</td>\n",
       "    </tr>\n",
       "    <tr>\n",
       "      <th>2</th>\n",
       "      <td>âè</td>\n",
       "      <td>11</td>\n",
       "      <td>0.6</td>\n",
       "      <td>60</td>\n",
       "      <td>50</td>\n",
       "    </tr>\n",
       "    <tr>\n",
       "      <th>3</th>\n",
       "      <td>âè</td>\n",
       "      <td>10</td>\n",
       "      <td>0.5</td>\n",
       "      <td>60</td>\n",
       "      <td>50</td>\n",
       "    </tr>\n",
       "    <tr>\n",
       "      <th>4</th>\n",
       "      <td>âè</td>\n",
       "      <td>7</td>\n",
       "      <td>1.0</td>\n",
       "      <td>40</td>\n",
       "      <td>55</td>\n",
       "    </tr>\n",
       "  </tbody>\n",
       "</table>\n",
       "</div>"
      ],
      "text/plain": [
       "  subject  condition  value   l   d\n",
       "0    âè          8    1.3  60  40\n",
       "1    âè          1    0.8  20  45\n",
       "2    âè         11    0.6  60  50\n",
       "3    âè         10    0.5  60  50\n",
       "4    âè          7    1.0  40  55"
      ]
     },
     "execution_count": 49,
     "metadata": {},
     "output_type": "execute_result"
    }
   ],
   "source": [
    "df.loc[:,\"l\"] = df.loc[:,\"condition\"].map(condition_l)\n",
    "df.loc[:,\"d\"] = df.loc[:,\"condition\"].map(condition_d)\n",
    "df.head()"
   ]
  },
  {
   "cell_type": "code",
   "execution_count": 51,
   "metadata": {},
   "outputs": [
    {
     "data": {
      "text/html": [
       "<div>\n",
       "<style scoped>\n",
       "    .dataframe tbody tr th:only-of-type {\n",
       "        vertical-align: middle;\n",
       "    }\n",
       "\n",
       "    .dataframe tbody tr th {\n",
       "        vertical-align: top;\n",
       "    }\n",
       "\n",
       "    .dataframe thead th {\n",
       "        text-align: right;\n",
       "    }\n",
       "</style>\n",
       "<table border=\"1\" class=\"dataframe\">\n",
       "  <thead>\n",
       "    <tr style=\"text-align: right;\">\n",
       "      <th></th>\n",
       "      <th>subject</th>\n",
       "      <th>condition</th>\n",
       "      <th>value</th>\n",
       "      <th>l</th>\n",
       "      <th>d</th>\n",
       "      <th>S</th>\n",
       "    </tr>\n",
       "  </thead>\n",
       "  <tbody>\n",
       "    <tr>\n",
       "      <th>0</th>\n",
       "      <td>âè</td>\n",
       "      <td>8</td>\n",
       "      <td>1.3</td>\n",
       "      <td>60</td>\n",
       "      <td>40</td>\n",
       "      <td>2400</td>\n",
       "    </tr>\n",
       "    <tr>\n",
       "      <th>1</th>\n",
       "      <td>âè</td>\n",
       "      <td>1</td>\n",
       "      <td>0.8</td>\n",
       "      <td>20</td>\n",
       "      <td>45</td>\n",
       "      <td>900</td>\n",
       "    </tr>\n",
       "    <tr>\n",
       "      <th>2</th>\n",
       "      <td>âè</td>\n",
       "      <td>11</td>\n",
       "      <td>0.6</td>\n",
       "      <td>60</td>\n",
       "      <td>50</td>\n",
       "      <td>3000</td>\n",
       "    </tr>\n",
       "    <tr>\n",
       "      <th>3</th>\n",
       "      <td>âè</td>\n",
       "      <td>10</td>\n",
       "      <td>0.5</td>\n",
       "      <td>60</td>\n",
       "      <td>50</td>\n",
       "      <td>3000</td>\n",
       "    </tr>\n",
       "    <tr>\n",
       "      <th>4</th>\n",
       "      <td>âè</td>\n",
       "      <td>7</td>\n",
       "      <td>1.0</td>\n",
       "      <td>40</td>\n",
       "      <td>55</td>\n",
       "      <td>2200</td>\n",
       "    </tr>\n",
       "  </tbody>\n",
       "</table>\n",
       "</div>"
      ],
      "text/plain": [
       "  subject  condition  value   l   d     S\n",
       "0    âè          8    1.3  60  40  2400\n",
       "1    âè          1    0.8  20  45   900\n",
       "2    âè         11    0.6  60  50  3000\n",
       "3    âè         10    0.5  60  50  3000\n",
       "4    âè          7    1.0  40  55  2200"
      ]
     },
     "execution_count": 51,
     "metadata": {},
     "output_type": "execute_result"
    }
   ],
   "source": [
    "df.loc[:,\"S\"] = df.loc[:,\"l\"] * df.loc[:,\"d\"]\n",
    "df.head()"
   ]
  },
  {
   "cell_type": "code",
   "execution_count": 52,
   "metadata": {
    "pixiedust": {
     "displayParams": {
      "handlerId": "scatterPlot",
      "keyFields": "S",
      "valueFields": "value"
     }
    }
   },
   "outputs": [
    {
     "data": {
      "text/html": [
       "<style type=\"text/css\">.pd_warning{display:none;}</style><div class=\"pd_warning\"><em>Hey, there's something awesome here! To see it, open this notebook outside GitHub, in a viewer like Jupyter</em></div>\n",
       "        <div class=\"pd_save is-viewer-good\" style=\"padding-right:10px;text-align: center;line-height:initial !important;font-size: xx-large;font-weight: 500;color: coral;\">\n",
       "            \n",
       "        </div>\n",
       "    <div id=\"chartFigure77aa8719\" class=\"pd_save is-viewer-good\" style=\"overflow-x:auto\">\n",
       "            \n",
       "                    \n",
       "                            <center><img style=\"max-width:initial !important\" src=\"data:image/png;base64,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\" class=\"pd_save\"></center>\n",
       "                        \n",
       "                    \n",
       "                \n",
       "        </div>"
      ],
      "text/plain": [
       "<IPython.core.display.HTML object>"
      ]
     },
     "metadata": {},
     "output_type": "display_data"
    }
   ],
   "source": [
    "display(df)\n"
   ]
  },
  {
   "cell_type": "code",
   "execution_count": 54,
   "metadata": {},
   "outputs": [
    {
     "name": "stderr",
     "output_type": "stream",
     "text": [
      "C:\\ProgramData\\Anaconda3\\lib\\site-packages\\matplotlib\\font_manager.py:1328: UserWarning: findfont: Font family ['serif'] not found. Falling back to DejaVu Sans\n",
      "  (prop.get_family(), self.defaultFamily[fontext]))\n"
     ]
    },
    {
     "data": {
      "image/png": "[encoded data removed]",
      "text/plain": [
       "<Figure size 432x288 with 1 Axes>"
      ]
     },
     "metadata": {},
     "output_type": "display_data"
    }
   ],
   "source": [
    "sns.boxplot(x='S', y=\"value\",data=df, palette=\"PRGn\")\n",
    "sns.despine(offset=10, trim=True)"
   ]
  },
  {
   "cell_type": "markdown",
   "metadata": {},
   "source": [
    "べき乗則 (感覚値)=c*x^kでフィッティングしてみる"
   ]
  },
  {
   "cell_type": "code",
   "execution_count": 71,
   "metadata": {},
   "outputs": [
    {
     "data": {
      "text/plain": [
       "<matplotlib.axes._subplots.AxesSubplot at 0xe800390>"
      ]
     },
     "execution_count": 71,
     "metadata": {},
     "output_type": "execute_result"
    },
    {
     "name": "stderr",
     "output_type": "stream",
     "text": [
      "C:\\ProgramData\\Anaconda3\\lib\\site-packages\\matplotlib\\font_manager.py:1328: UserWarning: findfont: Font family ['serif'] not found. Falling back to DejaVu Sans\n",
      "  (prop.get_family(), self.defaultFamily[fontext]))\n"
     ]
    },
    {
     "data": {
      "image/png": "[encoded data removed]",
      "text/plain": [
       "<Figure size 432x288 with 1 Axes>"
      ]
     },
     "metadata": {},
     "output_type": "display_data"
    }
   ],
   "source": [
    "list_y = []\n",
    "array_x = df[\"S\"].values\n",
    "array_y = df[\"value\"].values\n",
    "\n",
    "sns.pointplot(x=array_x, y=array_y, join=False)"
   ]
  },
  {
   "cell_type": "code",
   "execution_count": 65,
   "metadata": {},
   "outputs": [],
   "source": [
    "def power_low(x,c,k):\n",
    "    return c*(x**k)"
   ]
  },
  {
   "cell_type": "code",
   "execution_count": 80,
   "metadata": {},
   "outputs": [
    {
     "name": "stdout",
     "output_type": "stream",
     "text": [
      "c= 0.0219776681327442\n",
      "k= 0.4831332447711093\n"
     ]
    }
   ],
   "source": [
    "param, cov = curve_fit(power_low, df[\"S\"].values, df[\"value\"].values)\n",
    "print(\"c=\",param[0])\n",
    "print(\"k=\",param[1])"
   ]
  },
  {
   "cell_type": "code",
   "execution_count": 95,
   "metadata": {},
   "outputs": [
    {
     "name": "stderr",
     "output_type": "stream",
     "text": [
      "C:\\ProgramData\\Anaconda3\\lib\\site-packages\\matplotlib\\font_manager.py:1328: UserWarning: findfont: Font family ['serif'] not found. Falling back to DejaVu Sans\n",
      "  (prop.get_family(), self.defaultFamily[fontext]))\n"
     ]
    },
    {
     "data": {
      "image/png": "[encoded data removed]",
      "text/plain": [
       "<Figure size 432x288 with 2 Axes>"
      ]
     },
     "metadata": {},
     "output_type": "display_data"
    }
   ],
   "source": [
    "fig = plt.figure()\n",
    "ax1 = fig.add_subplot(111)\n",
    "list_y = []\n",
    "axis_x = np.arange(500,3000,10)\n",
    "\n",
    "for num in axis_x:\n",
    "    list_y.append( param[0]*(num**param[1]) )\n",
    "\n",
    "\n",
    "ln1=ax1.plot(axis_x, np.array(list_y).reshape(-1),'C0')\n",
    "\n",
    "ax2 = ax1.twinx()\n",
    "ln2=ax2.plot(array_x,array_y,'C1',marker=\".\",linestyle='None')\n"
   ]
  },
  {
   "cell_type": "markdown",
   "metadata": {},
   "source": [
    "statsmodelでOLSでべき乗そくをフィッティング"
   ]
  },
  {
   "cell_type": "code",
   "execution_count": 101,
   "metadata": {},
   "outputs": [],
   "source": [
    "data = df.loc[df[\"value\"] != 0,:] #logとるので0を除く\n",
    "formula = 'np.log(value) ~ np.log(S)'\n",
    "results = smf.ols(formula, data=data).fit()"
   ]
  },
  {
   "cell_type": "code",
   "execution_count": 102,
   "metadata": {},
   "outputs": [
    {
     "name": "stdout",
     "output_type": "stream",
     "text": [
      "                            OLS Regression Results                            \n",
      "==============================================================================\n",
      "Dep. Variable:          np.log(value)   R-squared:                       0.253\n",
      "Model:                            OLS   Adj. R-squared:                  0.240\n",
      "Method:                 Least Squares   F-statistic:                     19.33\n",
      "Date:                Tue, 11 Sep 2018   Prob (F-statistic):           4.86e-05\n",
      "Time:                        12:28:04   Log-Likelihood:                -50.512\n",
      "No. Observations:                  59   AIC:                             105.0\n",
      "Df Residuals:                      57   BIC:                             109.2\n",
      "Df Model:                           1                                         \n",
      "Covariance Type:            nonrobust                                         \n",
      "==============================================================================\n",
      "                 coef    std err          t      P>|t|      [0.025      0.975]\n",
      "------------------------------------------------------------------------------\n",
      "Intercept     -4.7990      1.013     -4.739      0.000      -6.827      -2.771\n",
      "np.log(S)      0.6005      0.137      4.396      0.000       0.327       0.874\n",
      "==============================================================================\n",
      "Omnibus:                       11.742   Durbin-Watson:                   1.588\n",
      "Prob(Omnibus):                  0.003   Jarque-Bera (JB):               11.926\n",
      "Skew:                          -0.985   Prob(JB):                      0.00257\n",
      "Kurtosis:                       3.986   Cond. No.                         101.\n",
      "==============================================================================\n",
      "\n",
      "Warnings:\n",
      "[1] Standard Errors assume that the covariance matrix of the errors is correctly specified.\n"
     ]
    }
   ],
   "source": [
    "print(results.summary())"
   ]
  },
  {
   "cell_type": "code",
   "execution_count": 110,
   "metadata": {},
   "outputs": [
    {
     "data": {
      "text/plain": [
       "[<matplotlib.lines.Line2D at 0x120fb128>]"
      ]
     },
     "execution_count": 110,
     "metadata": {},
     "output_type": "execute_result"
    },
    {
     "name": "stderr",
     "output_type": "stream",
     "text": [
      "C:\\ProgramData\\Anaconda3\\lib\\site-packages\\matplotlib\\font_manager.py:1328: UserWarning: findfont: Font family ['serif'] not found. Falling back to DejaVu Sans\n",
      "  (prop.get_family(), self.defaultFamily[fontext]))\n"
     ]
    },
    {
     "data": {
      "image/png": "[encoded data removed]",
      "text/plain": [
       "<Figure size 576x432 with 1 Axes>"
      ]
     },
     "metadata": {},
     "output_type": "display_data"
    }
   ],
   "source": [
    "#yがlogスケールのプロット\n",
    "x = data[\"S\"]\n",
    "y = data[\"value\"]\n",
    "\n",
    "\n",
    "ig, ax = plt.subplots(figsize=(8,6))\n",
    "\n",
    "ax.plot(x, np.log(y), 'o', label=\"data\")\n",
    "ax.plot(x, results.fittedvalues, 'r--.', label=\"OLS\",linestyle='None')\n"
   ]
  },
  {
   "cell_type": "code",
   "execution_count": 115,
   "metadata": {},
   "outputs": [
    {
     "name": "stderr",
     "output_type": "stream",
     "text": [
      "C:\\ProgramData\\Anaconda3\\lib\\site-packages\\matplotlib\\font_manager.py:1328: UserWarning: findfont: Font family ['serif'] not found. Falling back to DejaVu Sans\n",
      "  (prop.get_family(), self.defaultFamily[fontext]))\n"
     ]
    },
    {
     "data": {
      "image/png": "[encoded data removed]",
      "text/plain": [
       "<Figure size 432x288 with 2 Axes>"
      ]
     },
     "metadata": {},
     "output_type": "display_data"
    }
   ],
   "source": [
    "#ｙを元のスケールに戻してプロット\n",
    "results.params\n",
    "fig = plt.figure()\n",
    "ax1 = fig.add_subplot(111)\n",
    "list_y = []\n",
    "axis_x = np.arange(500,3000,10)\n",
    "\n",
    "for num in axis_x:\n",
    "    list_y.append(math.e**results.params[0]*(num**results.params[1]) )\n",
    "\n",
    "\n",
    "ln1=ax1.plot(axis_x, np.array(list_y).reshape(-1),'C0')\n",
    "\n",
    "ax2 = ax1.twinx()\n",
    "ln2=ax2.plot(array_x,array_y,'C1',marker=\".\",linestyle='None')"
   ]
  },
  {
   "cell_type": "code",
   "execution_count": null,
   "metadata": {},
   "outputs": [],
   "source": []
  }
 ],
 "metadata": {
  "kernelspec": {
   "display_name": "Python 3",
   "language": "python",
   "name": "python3"
  },
  "language_info": {
   "codemirror_mode": {
    "name": "ipython",
    "version": 3
   },
   "file_extension": ".py",
   "mimetype": "text/x-python",
   "name": "python",
   "nbconvert_exporter": "python",
   "pygments_lexer": "ipython3",
   "version": "3.6.4"
  }
 },
 "nbformat": 4,
 "nbformat_minor": 2
}

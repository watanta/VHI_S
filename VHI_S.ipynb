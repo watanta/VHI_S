{
 "cells": [
  {
   "cell_type": "code",
   "execution_count": 1,
   "metadata": {},
   "outputs": [],
   "source": [
    "import seaborn as sns\n",
    "import pandas as pd\n",
    "import matplotlib.pyplot as plt\n",
    "\n",
    "from scipy.optimize import curve_fit\n",
    "import numpy as np\n",
    "\n",
    "import statsmodels.api as sm\n",
    "import statsmodels.formula.api as smf\n",
    "\n",
    "import matplotlib.cm as cm\n",
    "\n",
    "import math\n",
    "\n",
    "from sklearn.model_selection import KFold\n",
    "from sklearn.metrics import mean_squared_error\n",
    "from sklearn.metrics import mean_absolute_error\n",
    "\n",
    "from patsy import dmatrices, dmatrix, demo_data\n",
    "\n",
    "\n",
    "%matplotlib inline"
   ]
  },
  {
   "cell_type": "code",
   "execution_count": 37,
   "metadata": {},
   "outputs": [],
   "source": [
    "df = pd.read_csv(\"data/VHI_S_result.csv\", encoding=\"shift-jis\")"
   ]
  },
  {
   "cell_type": "code",
   "execution_count": 40,
   "metadata": {},
   "outputs": [
    {
     "data": {
      "text/html": [
       "<div>\n",
       "<style scoped>\n",
       "    .dataframe tbody tr th:only-of-type {\n",
       "        vertical-align: middle;\n",
       "    }\n",
       "\n",
       "    .dataframe tbody tr th {\n",
       "        vertical-align: top;\n",
       "    }\n",
       "\n",
       "    .dataframe thead th {\n",
       "        text-align: right;\n",
       "    }\n",
       "</style>\n",
       "<table border=\"1\" class=\"dataframe\">\n",
       "  <thead>\n",
       "    <tr style=\"text-align: right;\">\n",
       "      <th></th>\n",
       "      <th>subject</th>\n",
       "      <th>condition</th>\n",
       "      <th>value</th>\n",
       "    </tr>\n",
       "  </thead>\n",
       "  <tbody>\n",
       "    <tr>\n",
       "      <th>0</th>\n",
       "      <td>岩崎</td>\n",
       "      <td>8</td>\n",
       "      <td>1.3</td>\n",
       "    </tr>\n",
       "    <tr>\n",
       "      <th>1</th>\n",
       "      <td>岩崎</td>\n",
       "      <td>1</td>\n",
       "      <td>0.8</td>\n",
       "    </tr>\n",
       "    <tr>\n",
       "      <th>2</th>\n",
       "      <td>岩崎</td>\n",
       "      <td>11</td>\n",
       "      <td>0.6</td>\n",
       "    </tr>\n",
       "    <tr>\n",
       "      <th>3</th>\n",
       "      <td>岩崎</td>\n",
       "      <td>10</td>\n",
       "      <td>0.5</td>\n",
       "    </tr>\n",
       "    <tr>\n",
       "      <th>4</th>\n",
       "      <td>岩崎</td>\n",
       "      <td>7</td>\n",
       "      <td>1.0</td>\n",
       "    </tr>\n",
       "  </tbody>\n",
       "</table>\n",
       "</div>"
      ],
      "text/plain": [
       "  subject  condition  value\n",
       "0      岩崎          8    1.3\n",
       "1      岩崎          1    0.8\n",
       "2      岩崎         11    0.6\n",
       "3      岩崎         10    0.5\n",
       "4      岩崎          7    1.0"
      ]
     },
     "execution_count": 40,
     "metadata": {},
     "output_type": "execute_result"
    }
   ],
   "source": [
    "df.head()"
   ]
  },
  {
   "cell_type": "code",
   "execution_count": 38,
   "metadata": {},
   "outputs": [
    {
     "data": {
      "text/plain": [
       "<matplotlib.axes._subplots.AxesSubplot at 0x103813c8>"
      ]
     },
     "execution_count": 38,
     "metadata": {},
     "output_type": "execute_result"
    },
    {
     "data": {
      "image/png": "[encoded data removed]",
      "text/plain": [
       "<Figure size 432x288 with 1 Axes>"
      ]
     },
     "metadata": {
      "needs_background": "light"
     },
     "output_type": "display_data"
    }
   ],
   "source": [
    "g = sns.boxplot(x='condition', y=\"value\",data=df, palette=\"PRGn\")\n",
    "sns.despine(offset=10, trim=True)\n",
    "sns.swarmplot(x=\"condition\", y=\"value\", color=\"k\", size=3, data=df)\n"
   ]
  },
  {
   "cell_type": "code",
   "execution_count": 39,
   "metadata": {},
   "outputs": [
    {
     "name": "stderr",
     "output_type": "stream",
     "text": [
      "C:\\ProgramData\\Anaconda3\\lib\\site-packages\\scipy\\stats\\stats.py:1713: FutureWarning: Using a non-tuple sequence for multidimensional indexing is deprecated; use `arr[tuple(seq)]` instead of `arr[seq]`. In the future this will be interpreted as an array index, `arr[np.array(seq)]`, which will result either in an error or a different result.\n",
      "  return np.add.reduce(sorted[indexer] * weights, axis=axis) / sumval\n"
     ]
    },
    {
     "data": {
      "image/png": "[encoded data removed]",
      "text/plain": [
       "<Figure size 432x288 with 1 Axes>"
      ]
     },
     "metadata": {
      "needs_background": "light"
     },
     "output_type": "display_data"
    }
   ],
   "source": [
    "sns.violinplot(x='condition', y=\"value\", data = df, split=True)\n",
    "sns.despine(offset=10, trim=True)"
   ]
  },
  {
   "cell_type": "code",
   "execution_count": null,
   "metadata": {},
   "outputs": [],
   "source": []
  },
  {
   "cell_type": "markdown",
   "metadata": {},
   "source": [
    "conditionを面積に変換"
   ]
  },
  {
   "cell_type": "code",
   "execution_count": 7,
   "metadata": {},
   "outputs": [],
   "source": [
    "condition_d = {0:20,1:20,2:20,3:20,4:40,5:40,6:40,7:40,8:60,9:60,10:60,11:60}\n",
    "condition_l = {0:40,1:45,2:50,3:55,4:40,5:45,6:50,7:55,8:40,9:45,10:50,11:50}"
   ]
  },
  {
   "cell_type": "code",
   "execution_count": 8,
   "metadata": {},
   "outputs": [
    {
     "data": {
      "text/html": [
       "<div>\n",
       "<style scoped>\n",
       "    .dataframe tbody tr th:only-of-type {\n",
       "        vertical-align: middle;\n",
       "    }\n",
       "\n",
       "    .dataframe tbody tr th {\n",
       "        vertical-align: top;\n",
       "    }\n",
       "\n",
       "    .dataframe thead th {\n",
       "        text-align: right;\n",
       "    }\n",
       "</style>\n",
       "<table border=\"1\" class=\"dataframe\">\n",
       "  <thead>\n",
       "    <tr style=\"text-align: right;\">\n",
       "      <th></th>\n",
       "      <th>subject</th>\n",
       "      <th>condition</th>\n",
       "      <th>value</th>\n",
       "      <th>l</th>\n",
       "      <th>d</th>\n",
       "    </tr>\n",
       "  </thead>\n",
       "  <tbody>\n",
       "    <tr>\n",
       "      <th>0</th>\n",
       "      <td>âè</td>\n",
       "      <td>8</td>\n",
       "      <td>1.3</td>\n",
       "      <td>40</td>\n",
       "      <td>60</td>\n",
       "    </tr>\n",
       "    <tr>\n",
       "      <th>1</th>\n",
       "      <td>âè</td>\n",
       "      <td>1</td>\n",
       "      <td>0.8</td>\n",
       "      <td>45</td>\n",
       "      <td>20</td>\n",
       "    </tr>\n",
       "    <tr>\n",
       "      <th>2</th>\n",
       "      <td>âè</td>\n",
       "      <td>11</td>\n",
       "      <td>0.6</td>\n",
       "      <td>50</td>\n",
       "      <td>60</td>\n",
       "    </tr>\n",
       "    <tr>\n",
       "      <th>3</th>\n",
       "      <td>âè</td>\n",
       "      <td>10</td>\n",
       "      <td>0.5</td>\n",
       "      <td>50</td>\n",
       "      <td>60</td>\n",
       "    </tr>\n",
       "    <tr>\n",
       "      <th>4</th>\n",
       "      <td>âè</td>\n",
       "      <td>7</td>\n",
       "      <td>1.0</td>\n",
       "      <td>55</td>\n",
       "      <td>40</td>\n",
       "    </tr>\n",
       "  </tbody>\n",
       "</table>\n",
       "</div>"
      ],
      "text/plain": [
       "  subject  condition  value   l   d\n",
       "0    âè          8    1.3  40  60\n",
       "1    âè          1    0.8  45  20\n",
       "2    âè         11    0.6  50  60\n",
       "3    âè         10    0.5  50  60\n",
       "4    âè          7    1.0  55  40"
      ]
     },
     "execution_count": 8,
     "metadata": {},
     "output_type": "execute_result"
    }
   ],
   "source": [
    "df.loc[:,\"l\"] = df.loc[:,\"condition\"].map(condition_l)\n",
    "df.loc[:,\"d\"] = df.loc[:,\"condition\"].map(condition_d)\n",
    "df.head()"
   ]
  },
  {
   "cell_type": "code",
   "execution_count": 9,
   "metadata": {},
   "outputs": [
    {
     "data": {
      "text/html": [
       "<div>\n",
       "<style scoped>\n",
       "    .dataframe tbody tr th:only-of-type {\n",
       "        vertical-align: middle;\n",
       "    }\n",
       "\n",
       "    .dataframe tbody tr th {\n",
       "        vertical-align: top;\n",
       "    }\n",
       "\n",
       "    .dataframe thead th {\n",
       "        text-align: right;\n",
       "    }\n",
       "</style>\n",
       "<table border=\"1\" class=\"dataframe\">\n",
       "  <thead>\n",
       "    <tr style=\"text-align: right;\">\n",
       "      <th></th>\n",
       "      <th>subject</th>\n",
       "      <th>condition</th>\n",
       "      <th>value</th>\n",
       "      <th>l</th>\n",
       "      <th>d</th>\n",
       "      <th>S</th>\n",
       "    </tr>\n",
       "  </thead>\n",
       "  <tbody>\n",
       "    <tr>\n",
       "      <th>0</th>\n",
       "      <td>âè</td>\n",
       "      <td>8</td>\n",
       "      <td>1.3</td>\n",
       "      <td>40</td>\n",
       "      <td>60</td>\n",
       "      <td>2400</td>\n",
       "    </tr>\n",
       "    <tr>\n",
       "      <th>1</th>\n",
       "      <td>âè</td>\n",
       "      <td>1</td>\n",
       "      <td>0.8</td>\n",
       "      <td>45</td>\n",
       "      <td>20</td>\n",
       "      <td>900</td>\n",
       "    </tr>\n",
       "    <tr>\n",
       "      <th>2</th>\n",
       "      <td>âè</td>\n",
       "      <td>11</td>\n",
       "      <td>0.6</td>\n",
       "      <td>50</td>\n",
       "      <td>60</td>\n",
       "      <td>3000</td>\n",
       "    </tr>\n",
       "    <tr>\n",
       "      <th>3</th>\n",
       "      <td>âè</td>\n",
       "      <td>10</td>\n",
       "      <td>0.5</td>\n",
       "      <td>50</td>\n",
       "      <td>60</td>\n",
       "      <td>3000</td>\n",
       "    </tr>\n",
       "    <tr>\n",
       "      <th>4</th>\n",
       "      <td>âè</td>\n",
       "      <td>7</td>\n",
       "      <td>1.0</td>\n",
       "      <td>55</td>\n",
       "      <td>40</td>\n",
       "      <td>2200</td>\n",
       "    </tr>\n",
       "  </tbody>\n",
       "</table>\n",
       "</div>"
      ],
      "text/plain": [
       "  subject  condition  value   l   d     S\n",
       "0    âè          8    1.3  40  60  2400\n",
       "1    âè          1    0.8  45  20   900\n",
       "2    âè         11    0.6  50  60  3000\n",
       "3    âè         10    0.5  50  60  3000\n",
       "4    âè          7    1.0  55  40  2200"
      ]
     },
     "execution_count": 9,
     "metadata": {},
     "output_type": "execute_result"
    }
   ],
   "source": [
    "df.loc[:,\"S\"] = df.loc[:,\"l\"] * df.loc[:,\"d\"]\n",
    "df.head()"
   ]
  },
  {
   "cell_type": "code",
   "execution_count": null,
   "metadata": {
    "pixiedust": {
     "displayParams": {
      "handlerId": "scatterPlot",
      "keyFields": "S",
      "rendererId": "matplotlib",
      "valueFields": "value"
     }
    }
   },
   "outputs": [],
   "source": [
    "display(df)\n"
   ]
  },
  {
   "cell_type": "code",
   "execution_count": 11,
   "metadata": {
    "scrolled": false
   },
   "outputs": [
    {
     "data": {
      "text/plain": [
       "[Text(0,0.5,'Magnitude value'), Text(0.5,0,'S (mm^2)')]"
      ]
     },
     "execution_count": 11,
     "metadata": {},
     "output_type": "execute_result"
    },
    {
     "data": {
      "image/png": "[encoded data removed]",
      "text/plain": [
       "<Figure size 432x288 with 1 Axes>"
      ]
     },
     "metadata": {
      "needs_background": "light"
     },
     "output_type": "display_data"
    }
   ],
   "source": [
    "ax = sns.boxplot(x='S', y=\"value\",data=df, palette=\"PRGn\")\n",
    "sns.despine(offset=10, trim=True)\n",
    "sns.swarmplot(x=\"S\", y=\"value\", color=\"k\", size=3, data=df)\n",
    "ax.set(xlabel='S (mm^2)', ylabel='Magnitude value')\n"
   ]
  },
  {
   "cell_type": "markdown",
   "metadata": {},
   "source": [
    "べき乗則 (感覚値)=c*x^kでフィッティングしてみる"
   ]
  },
  {
   "cell_type": "code",
   "execution_count": 12,
   "metadata": {},
   "outputs": [
    {
     "name": "stderr",
     "output_type": "stream",
     "text": [
      "C:\\ProgramData\\Anaconda3\\lib\\site-packages\\scipy\\stats\\stats.py:1713: FutureWarning: Using a non-tuple sequence for multidimensional indexing is deprecated; use `arr[tuple(seq)]` instead of `arr[seq]`. In the future this will be interpreted as an array index, `arr[np.array(seq)]`, which will result either in an error or a different result.\n",
      "  return np.add.reduce(sorted[indexer] * weights, axis=axis) / sumval\n"
     ]
    },
    {
     "data": {
      "text/plain": [
       "<matplotlib.axes._subplots.AxesSubplot at 0xed70a20>"
      ]
     },
     "execution_count": 12,
     "metadata": {},
     "output_type": "execute_result"
    },
    {
     "data": {
      "image/png": "[encoded data removed]",
      "text/plain": [
       "<Figure size 432x288 with 1 Axes>"
      ]
     },
     "metadata": {
      "needs_background": "light"
     },
     "output_type": "display_data"
    }
   ],
   "source": [
    "list_y = []\n",
    "array_x = df[\"S\"].values\n",
    "array_y = df[\"value\"].values\n",
    "\n",
    "sns.pointplot(x=array_x, y=array_y, join=False)"
   ]
  },
  {
   "cell_type": "code",
   "execution_count": 13,
   "metadata": {},
   "outputs": [],
   "source": [
    "def power_low(x,c,k):\n",
    "    return c*(x**k)"
   ]
  },
  {
   "cell_type": "code",
   "execution_count": 14,
   "metadata": {},
   "outputs": [
    {
     "name": "stdout",
     "output_type": "stream",
     "text": [
      "c= 0.012215540895764453\n",
      "k= 0.558884117745741\n"
     ]
    }
   ],
   "source": [
    "param, cov = curve_fit(power_low, df[\"S\"].values, df[\"value\"].values)\n",
    "print(\"c=\",param[0])\n",
    "print(\"k=\",param[1])"
   ]
  },
  {
   "cell_type": "markdown",
   "metadata": {},
   "source": [
    "statsmodelでOLSでべき乗そくをフィッティング"
   ]
  },
  {
   "cell_type": "code",
   "execution_count": 15,
   "metadata": {},
   "outputs": [],
   "source": [
    "data = df.loc[df[\"value\"] != 0,:] #logとるので0を除く\n",
    "formula = 'np.log(value) ~ np.log(S)'\n",
    "results = smf.ols(formula, data=data).fit()"
   ]
  },
  {
   "cell_type": "code",
   "execution_count": 16,
   "metadata": {},
   "outputs": [
    {
     "name": "stdout",
     "output_type": "stream",
     "text": [
      "                            OLS Regression Results                            \n",
      "==============================================================================\n",
      "Dep. Variable:          np.log(value)   R-squared:                       0.281\n",
      "Model:                            OLS   Adj. R-squared:                  0.269\n",
      "Method:                 Least Squares   F-statistic:                     22.31\n",
      "Date:                Tue, 29 Jan 2019   Prob (F-statistic):           1.55e-05\n",
      "Time:                        17:24:04   Log-Likelihood:                -49.380\n",
      "No. Observations:                  59   AIC:                             102.8\n",
      "Df Residuals:                      57   BIC:                             106.9\n",
      "Df Model:                           1                                         \n",
      "Covariance Type:            nonrobust                                         \n",
      "==============================================================================\n",
      "                 coef    std err          t      P>|t|      [0.025      0.975]\n",
      "------------------------------------------------------------------------------\n",
      "Intercept     -6.1287      1.224     -5.009      0.000      -8.579      -3.678\n",
      "np.log(S)      0.7742      0.164      4.724      0.000       0.446       1.102\n",
      "==============================================================================\n",
      "Omnibus:                       11.680   Durbin-Watson:                   1.548\n",
      "Prob(Omnibus):                  0.003   Jarque-Bera (JB):               11.828\n",
      "Skew:                          -1.011   Prob(JB):                      0.00270\n",
      "Kurtosis:                       3.850   Cond. No.                         126.\n",
      "==============================================================================\n",
      "\n",
      "Warnings:\n",
      "[1] Standard Errors assume that the covariance matrix of the errors is correctly specified.\n"
     ]
    }
   ],
   "source": [
    "print(results.summary())"
   ]
  },
  {
   "cell_type": "code",
   "execution_count": 17,
   "metadata": {},
   "outputs": [
    {
     "data": {
      "text/plain": [
       "[<matplotlib.lines.Line2D at 0xf6a2438>]"
      ]
     },
     "execution_count": 17,
     "metadata": {},
     "output_type": "execute_result"
    },
    {
     "data": {
      "image/png": "[encoded data removed]",
      "text/plain": [
       "<Figure size 576x432 with 1 Axes>"
      ]
     },
     "metadata": {
      "needs_background": "light"
     },
     "output_type": "display_data"
    }
   ],
   "source": [
    "#yがlogスケールのプロット\n",
    "x = data[\"S\"]\n",
    "y = data[\"value\"]\n",
    "\n",
    "\n",
    "ig, ax = plt.subplots(figsize=(8,6))\n",
    "\n",
    "ax.plot(x, np.log(y), 'o', label=\"data\")\n",
    "ax.plot(x, results.fittedvalues, 'r--.', label=\"OLS\",linestyle='None')\n"
   ]
  },
  {
   "cell_type": "code",
   "execution_count": 18,
   "metadata": {},
   "outputs": [
    {
     "data": {
      "image/png": "[encoded data removed]",
      "text/plain": [
       "<Figure size 432x288 with 2 Axes>"
      ]
     },
     "metadata": {
      "needs_background": "light"
     },
     "output_type": "display_data"
    }
   ],
   "source": [
    "#ｙを元のスケールに戻してプロット\n",
    "results.params\n",
    "fig = plt.figure()\n",
    "ax1 = fig.add_subplot(111)\n",
    "list_y = []\n",
    "axis_x = np.arange(500,3000,10)\n",
    "\n",
    "for num in axis_x:\n",
    "    list_y.append(math.e**results.params[0]*(num**results.params[1]) )\n",
    "\n",
    "\n",
    "ln1=ax1.plot(axis_x, np.array(list_y).reshape(-1),'C0')\n",
    "ax1.set_ylim(0,1.75)\n",
    "\n",
    "ax2 = ax1.twinx()\n",
    "ax2.set_ylim(0,1.75)\n",
    "ln2=ax2.plot(array_x,array_y,'C1',marker=\".\",linestyle='None')"
   ]
  },
  {
   "cell_type": "markdown",
   "metadata": {},
   "source": [
    "cv値を計算する"
   ]
  },
  {
   "cell_type": "code",
   "execution_count": 19,
   "metadata": {},
   "outputs": [
    {
     "name": "stdout",
     "output_type": "stream",
     "text": [
      "KFold(n_splits=5, random_state=None, shuffle=True)\n",
      "TRAIN: [ 1  3  4  5  7  8  9 10 13 14 15 16 17 18 19 20 21 23 24 25 26 27 28 29\n",
      " 30 31 33 34 35 36 38 39 40 41 43 45 47 48 49 50 51 52 54 55 56 57 58] TEST: [ 0  2  6 11 12 22 32 37 42 44 46 53]\n",
      "train len 47 test len 12\n",
      "TRAIN: [ 0  1  2  4  5  6  7  8  9 11 12 13 14 16 18 19 20 21 22 23 24 25 27 29\n",
      " 30 31 32 33 35 36 37 39 40 41 42 44 46 47 48 49 50 51 53 55 56 57 58] TEST: [ 3 10 15 17 26 28 34 38 43 45 52 54]\n",
      "train len 47 test len 12\n",
      "TRAIN: [ 0  1  2  3  6  7 10 11 12 13 14 15 16 17 18 20 21 22 24 25 26 27 28 29\n",
      " 30 32 34 35 36 37 38 40 41 42 43 44 45 46 48 49 50 51 52 53 54 55 57] TEST: [ 4  5  8  9 19 23 31 33 39 47 56 58]\n",
      "train len 47 test len 12\n",
      "TRAIN: [ 0  1  2  3  4  5  6  7  8  9 10 11 12 15 17 18 19 20 22 23 25 26 27 28\n",
      " 30 31 32 33 34 35 37 38 39 42 43 44 45 46 47 48 52 53 54 55 56 57 58] TEST: [13 14 16 21 24 29 36 40 41 49 50 51]\n",
      "train len 47 test len 12\n",
      "TRAIN: [ 0  2  3  4  5  6  8  9 10 11 12 13 14 15 16 17 19 21 22 23 24 26 28 29\n",
      " 31 32 33 34 36 37 38 39 40 41 42 43 44 45 46 47 49 50 51 52 53 54 56 58] TEST: [ 1  7 18 20 25 27 30 35 48 55 57]\n",
      "train len 48 test len 11\n"
     ]
    }
   ],
   "source": [
    "#方法1\n",
    "data = df.loc[df[\"value\"] != 0,:] #logとるので0を除く\n",
    "data = data.reset_index()\n",
    "\n",
    "kf_random = KFold(n_splits = 5,shuffle = True)\n",
    "kf_random.get_n_splits(data)\n",
    "print(kf_random)\n",
    "for train_index, test_index in kf_random.split(data):\n",
    "    print(\"TRAIN:\", train_index, \"TEST:\", test_index)\n",
    "    print(\"train len\", len(train_index), \"test len\", len(test_index))"
   ]
  },
  {
   "cell_type": "markdown",
   "metadata": {},
   "source": [
    "  # スティーヴンスのべき法則"
   ]
  },
  {
   "cell_type": "markdown",
   "metadata": {},
   "source": [
    "(感覚量) = k * (刺激量)^a"
   ]
  },
  {
   "cell_type": "code",
   "execution_count": 20,
   "metadata": {},
   "outputs": [
    {
     "name": "stdout",
     "output_type": "stream",
     "text": [
      "Intercept   -6.177750\n",
      "np.log(S)    0.778181\n",
      "dtype: float64\n",
      "rescaled intercept: 0.002075092122531431\n"
     ]
    },
    {
     "ename": "FileNotFoundError",
     "evalue": "[Errno 2] No such file or directory: 'figure/figure1.png'",
     "output_type": "error",
     "traceback": [
      "\u001b[1;31m---------------------------------------------------------------------------\u001b[0m",
      "\u001b[1;31mFileNotFoundError\u001b[0m                         Traceback (most recent call last)",
      "\u001b[1;32m<ipython-input-20-0bf3cc20719e>\u001b[0m in \u001b[0;36m<module>\u001b[1;34m\u001b[0m\n\u001b[0;32m     81\u001b[0m     \u001b[0mln4\u001b[0m\u001b[1;33m=\u001b[0m\u001b[0max4\u001b[0m\u001b[1;33m.\u001b[0m\u001b[0mplot\u001b[0m\u001b[1;33m(\u001b[0m\u001b[0mdata_test\u001b[0m\u001b[1;33m[\u001b[0m\u001b[1;34m\"S\"\u001b[0m\u001b[1;33m]\u001b[0m\u001b[1;33m,\u001b[0m\u001b[0mdata_test\u001b[0m\u001b[1;33m[\u001b[0m\u001b[1;34m\"value\"\u001b[0m\u001b[1;33m]\u001b[0m\u001b[1;33m,\u001b[0m\u001b[1;34m'C1'\u001b[0m\u001b[1;33m,\u001b[0m\u001b[0mmarker\u001b[0m\u001b[1;33m=\u001b[0m\u001b[1;34m\".\"\u001b[0m\u001b[1;33m,\u001b[0m\u001b[0mlinestyle\u001b[0m\u001b[1;33m=\u001b[0m\u001b[1;34m'None'\u001b[0m\u001b[1;33m,\u001b[0m\u001b[0mcolor\u001b[0m\u001b[1;33m=\u001b[0m\u001b[1;34m'red'\u001b[0m\u001b[1;33m)\u001b[0m\u001b[1;33m\u001b[0m\u001b[0m\n\u001b[0;32m     82\u001b[0m \u001b[1;33m\u001b[0m\u001b[0m\n\u001b[1;32m---> 83\u001b[1;33m     \u001b[0mplt\u001b[0m\u001b[1;33m.\u001b[0m\u001b[0msavefig\u001b[0m\u001b[1;33m(\u001b[0m\u001b[1;34m'figure/figure'\u001b[0m \u001b[1;33m+\u001b[0m \u001b[0mstr\u001b[0m\u001b[1;33m(\u001b[0m\u001b[0mi\u001b[0m\u001b[1;33m)\u001b[0m \u001b[1;33m+\u001b[0m \u001b[1;34m'.png'\u001b[0m\u001b[1;33m)\u001b[0m\u001b[1;33m\u001b[0m\u001b[0m\n\u001b[0m\u001b[0;32m     84\u001b[0m     \u001b[0mplt\u001b[0m\u001b[1;33m.\u001b[0m\u001b[0mshow\u001b[0m\u001b[1;33m(\u001b[0m\u001b[1;33m)\u001b[0m\u001b[1;33m\u001b[0m\u001b[0m\n",
      "\u001b[1;32mC:\\ProgramData\\Anaconda3\\lib\\site-packages\\matplotlib\\pyplot.py\u001b[0m in \u001b[0;36msavefig\u001b[1;34m(*args, **kwargs)\u001b[0m\n\u001b[0;32m    708\u001b[0m \u001b[1;32mdef\u001b[0m \u001b[0msavefig\u001b[0m\u001b[1;33m(\u001b[0m\u001b[1;33m*\u001b[0m\u001b[0margs\u001b[0m\u001b[1;33m,\u001b[0m \u001b[1;33m**\u001b[0m\u001b[0mkwargs\u001b[0m\u001b[1;33m)\u001b[0m\u001b[1;33m:\u001b[0m\u001b[1;33m\u001b[0m\u001b[0m\n\u001b[0;32m    709\u001b[0m     \u001b[0mfig\u001b[0m \u001b[1;33m=\u001b[0m \u001b[0mgcf\u001b[0m\u001b[1;33m(\u001b[0m\u001b[1;33m)\u001b[0m\u001b[1;33m\u001b[0m\u001b[0m\n\u001b[1;32m--> 710\u001b[1;33m     \u001b[0mres\u001b[0m \u001b[1;33m=\u001b[0m \u001b[0mfig\u001b[0m\u001b[1;33m.\u001b[0m\u001b[0msavefig\u001b[0m\u001b[1;33m(\u001b[0m\u001b[1;33m*\u001b[0m\u001b[0margs\u001b[0m\u001b[1;33m,\u001b[0m \u001b[1;33m**\u001b[0m\u001b[0mkwargs\u001b[0m\u001b[1;33m)\u001b[0m\u001b[1;33m\u001b[0m\u001b[0m\n\u001b[0m\u001b[0;32m    711\u001b[0m     \u001b[0mfig\u001b[0m\u001b[1;33m.\u001b[0m\u001b[0mcanvas\u001b[0m\u001b[1;33m.\u001b[0m\u001b[0mdraw_idle\u001b[0m\u001b[1;33m(\u001b[0m\u001b[1;33m)\u001b[0m   \u001b[1;31m# need this if 'transparent=True' to reset colors\u001b[0m\u001b[1;33m\u001b[0m\u001b[0m\n\u001b[0;32m    712\u001b[0m     \u001b[1;32mreturn\u001b[0m \u001b[0mres\u001b[0m\u001b[1;33m\u001b[0m\u001b[0m\n",
      "\u001b[1;32mC:\\ProgramData\\Anaconda3\\lib\\site-packages\\matplotlib\\figure.py\u001b[0m in \u001b[0;36msavefig\u001b[1;34m(self, fname, **kwargs)\u001b[0m\n\u001b[0;32m   2033\u001b[0m             \u001b[0mself\u001b[0m\u001b[1;33m.\u001b[0m\u001b[0mset_frameon\u001b[0m\u001b[1;33m(\u001b[0m\u001b[0mframeon\u001b[0m\u001b[1;33m)\u001b[0m\u001b[1;33m\u001b[0m\u001b[0m\n\u001b[0;32m   2034\u001b[0m \u001b[1;33m\u001b[0m\u001b[0m\n\u001b[1;32m-> 2035\u001b[1;33m         \u001b[0mself\u001b[0m\u001b[1;33m.\u001b[0m\u001b[0mcanvas\u001b[0m\u001b[1;33m.\u001b[0m\u001b[0mprint_figure\u001b[0m\u001b[1;33m(\u001b[0m\u001b[0mfname\u001b[0m\u001b[1;33m,\u001b[0m \u001b[1;33m**\u001b[0m\u001b[0mkwargs\u001b[0m\u001b[1;33m)\u001b[0m\u001b[1;33m\u001b[0m\u001b[0m\n\u001b[0m\u001b[0;32m   2036\u001b[0m \u001b[1;33m\u001b[0m\u001b[0m\n\u001b[0;32m   2037\u001b[0m         \u001b[1;32mif\u001b[0m \u001b[0mframeon\u001b[0m\u001b[1;33m:\u001b[0m\u001b[1;33m\u001b[0m\u001b[0m\n",
      "\u001b[1;32mC:\\ProgramData\\Anaconda3\\lib\\site-packages\\matplotlib\\backend_bases.py\u001b[0m in \u001b[0;36mprint_figure\u001b[1;34m(self, filename, dpi, facecolor, edgecolor, orientation, format, **kwargs)\u001b[0m\n\u001b[0;32m   2261\u001b[0m                 \u001b[0morientation\u001b[0m\u001b[1;33m=\u001b[0m\u001b[0morientation\u001b[0m\u001b[1;33m,\u001b[0m\u001b[1;33m\u001b[0m\u001b[0m\n\u001b[0;32m   2262\u001b[0m                 \u001b[0mbbox_inches_restore\u001b[0m\u001b[1;33m=\u001b[0m\u001b[0m_bbox_inches_restore\u001b[0m\u001b[1;33m,\u001b[0m\u001b[1;33m\u001b[0m\u001b[0m\n\u001b[1;32m-> 2263\u001b[1;33m                 **kwargs)\n\u001b[0m\u001b[0;32m   2264\u001b[0m         \u001b[1;32mfinally\u001b[0m\u001b[1;33m:\u001b[0m\u001b[1;33m\u001b[0m\u001b[0m\n\u001b[0;32m   2265\u001b[0m             \u001b[1;32mif\u001b[0m \u001b[0mbbox_inches\u001b[0m \u001b[1;32mand\u001b[0m \u001b[0mrestore_bbox\u001b[0m\u001b[1;33m:\u001b[0m\u001b[1;33m\u001b[0m\u001b[0m\n",
      "\u001b[1;32mC:\\ProgramData\\Anaconda3\\lib\\site-packages\\matplotlib\\backends\\backend_agg.py\u001b[0m in \u001b[0;36mprint_png\u001b[1;34m(self, filename_or_obj, *args, **kwargs)\u001b[0m\n\u001b[0;32m    524\u001b[0m \u001b[1;33m\u001b[0m\u001b[0m\n\u001b[0;32m    525\u001b[0m         \u001b[1;32mtry\u001b[0m\u001b[1;33m:\u001b[0m\u001b[1;33m\u001b[0m\u001b[0m\n\u001b[1;32m--> 526\u001b[1;33m             \u001b[1;32mwith\u001b[0m \u001b[0mcbook\u001b[0m\u001b[1;33m.\u001b[0m\u001b[0mopen_file_cm\u001b[0m\u001b[1;33m(\u001b[0m\u001b[0mfilename_or_obj\u001b[0m\u001b[1;33m,\u001b[0m \u001b[1;34m\"wb\"\u001b[0m\u001b[1;33m)\u001b[0m \u001b[1;32mas\u001b[0m \u001b[0mfh\u001b[0m\u001b[1;33m:\u001b[0m\u001b[1;33m\u001b[0m\u001b[0m\n\u001b[0m\u001b[0;32m    527\u001b[0m                 _png.write_png(renderer._renderer, fh,\n\u001b[0;32m    528\u001b[0m                                self.figure.dpi, metadata=metadata)\n",
      "\u001b[1;32mC:\\ProgramData\\Anaconda3\\lib\\contextlib.py\u001b[0m in \u001b[0;36m__enter__\u001b[1;34m(self)\u001b[0m\n\u001b[0;32m     79\u001b[0m     \u001b[1;32mdef\u001b[0m \u001b[0m__enter__\u001b[0m\u001b[1;33m(\u001b[0m\u001b[0mself\u001b[0m\u001b[1;33m)\u001b[0m\u001b[1;33m:\u001b[0m\u001b[1;33m\u001b[0m\u001b[0m\n\u001b[0;32m     80\u001b[0m         \u001b[1;32mtry\u001b[0m\u001b[1;33m:\u001b[0m\u001b[1;33m\u001b[0m\u001b[0m\n\u001b[1;32m---> 81\u001b[1;33m             \u001b[1;32mreturn\u001b[0m \u001b[0mnext\u001b[0m\u001b[1;33m(\u001b[0m\u001b[0mself\u001b[0m\u001b[1;33m.\u001b[0m\u001b[0mgen\u001b[0m\u001b[1;33m)\u001b[0m\u001b[1;33m\u001b[0m\u001b[0m\n\u001b[0m\u001b[0;32m     82\u001b[0m         \u001b[1;32mexcept\u001b[0m \u001b[0mStopIteration\u001b[0m\u001b[1;33m:\u001b[0m\u001b[1;33m\u001b[0m\u001b[0m\n\u001b[0;32m     83\u001b[0m             \u001b[1;32mraise\u001b[0m \u001b[0mRuntimeError\u001b[0m\u001b[1;33m(\u001b[0m\u001b[1;34m\"generator didn't yield\"\u001b[0m\u001b[1;33m)\u001b[0m \u001b[1;32mfrom\u001b[0m \u001b[1;32mNone\u001b[0m\u001b[1;33m\u001b[0m\u001b[0m\n",
      "\u001b[1;32mC:\\ProgramData\\Anaconda3\\lib\\site-packages\\matplotlib\\cbook\\__init__.py\u001b[0m in \u001b[0;36mopen_file_cm\u001b[1;34m(path_or_file, mode, encoding)\u001b[0m\n\u001b[0;32m    622\u001b[0m \u001b[1;32mdef\u001b[0m \u001b[0mopen_file_cm\u001b[0m\u001b[1;33m(\u001b[0m\u001b[0mpath_or_file\u001b[0m\u001b[1;33m,\u001b[0m \u001b[0mmode\u001b[0m\u001b[1;33m=\u001b[0m\u001b[1;34m\"r\"\u001b[0m\u001b[1;33m,\u001b[0m \u001b[0mencoding\u001b[0m\u001b[1;33m=\u001b[0m\u001b[1;32mNone\u001b[0m\u001b[1;33m)\u001b[0m\u001b[1;33m:\u001b[0m\u001b[1;33m\u001b[0m\u001b[0m\n\u001b[0;32m    623\u001b[0m     \u001b[1;34mr\"\"\"Pass through file objects and context-manage `.PathLike`\\s.\"\"\"\u001b[0m\u001b[1;33m\u001b[0m\u001b[0m\n\u001b[1;32m--> 624\u001b[1;33m     \u001b[0mfh\u001b[0m\u001b[1;33m,\u001b[0m \u001b[0mopened\u001b[0m \u001b[1;33m=\u001b[0m \u001b[0mto_filehandle\u001b[0m\u001b[1;33m(\u001b[0m\u001b[0mpath_or_file\u001b[0m\u001b[1;33m,\u001b[0m \u001b[0mmode\u001b[0m\u001b[1;33m,\u001b[0m \u001b[1;32mTrue\u001b[0m\u001b[1;33m,\u001b[0m \u001b[0mencoding\u001b[0m\u001b[1;33m)\u001b[0m\u001b[1;33m\u001b[0m\u001b[0m\n\u001b[0m\u001b[0;32m    625\u001b[0m     \u001b[1;32mif\u001b[0m \u001b[0mopened\u001b[0m\u001b[1;33m:\u001b[0m\u001b[1;33m\u001b[0m\u001b[0m\n\u001b[0;32m    626\u001b[0m         \u001b[1;32mwith\u001b[0m \u001b[0mfh\u001b[0m\u001b[1;33m:\u001b[0m\u001b[1;33m\u001b[0m\u001b[0m\n",
      "\u001b[1;32mC:\\ProgramData\\Anaconda3\\lib\\site-packages\\matplotlib\\cbook\\__init__.py\u001b[0m in \u001b[0;36mto_filehandle\u001b[1;34m(fname, flag, return_opened, encoding)\u001b[0m\n\u001b[0;32m    607\u001b[0m             \u001b[0mfh\u001b[0m \u001b[1;33m=\u001b[0m \u001b[0mbz2\u001b[0m\u001b[1;33m.\u001b[0m\u001b[0mBZ2File\u001b[0m\u001b[1;33m(\u001b[0m\u001b[0mfname\u001b[0m\u001b[1;33m,\u001b[0m \u001b[0mflag\u001b[0m\u001b[1;33m)\u001b[0m\u001b[1;33m\u001b[0m\u001b[0m\n\u001b[0;32m    608\u001b[0m         \u001b[1;32melse\u001b[0m\u001b[1;33m:\u001b[0m\u001b[1;33m\u001b[0m\u001b[0m\n\u001b[1;32m--> 609\u001b[1;33m             \u001b[0mfh\u001b[0m \u001b[1;33m=\u001b[0m \u001b[0mio\u001b[0m\u001b[1;33m.\u001b[0m\u001b[0mopen\u001b[0m\u001b[1;33m(\u001b[0m\u001b[0mfname\u001b[0m\u001b[1;33m,\u001b[0m \u001b[0mflag\u001b[0m\u001b[1;33m,\u001b[0m \u001b[0mencoding\u001b[0m\u001b[1;33m=\u001b[0m\u001b[0mencoding\u001b[0m\u001b[1;33m)\u001b[0m\u001b[1;33m\u001b[0m\u001b[0m\n\u001b[0m\u001b[0;32m    610\u001b[0m         \u001b[0mopened\u001b[0m \u001b[1;33m=\u001b[0m \u001b[1;32mTrue\u001b[0m\u001b[1;33m\u001b[0m\u001b[0m\n\u001b[0;32m    611\u001b[0m     \u001b[1;32melif\u001b[0m \u001b[0mhasattr\u001b[0m\u001b[1;33m(\u001b[0m\u001b[0mfname\u001b[0m\u001b[1;33m,\u001b[0m \u001b[1;34m'seek'\u001b[0m\u001b[1;33m)\u001b[0m\u001b[1;33m:\u001b[0m\u001b[1;33m\u001b[0m\u001b[0m\n",
      "\u001b[1;31mFileNotFoundError\u001b[0m: [Errno 2] No such file or directory: 'figure/figure1.png'"
     ]
    },
    {
     "data": {
      "image/png": "[encoded data removed]",
      "text/plain": [
       "<Figure size 432x288 with 3 Axes>"
      ]
     },
     "metadata": {
      "needs_background": "light"
     },
     "output_type": "display_data"
    }
   ],
   "source": [
    "#indexで5Foldに分ける\n",
    "cv_rand_results_steaven = []\n",
    "cv_rand_preds_steaven = []\n",
    "cv_rand_scores_rmse_steaven = []\n",
    "cv_rand_scores_mae_steaven = []\n",
    "cv_rand_train_scores_mae_steaven = []\n",
    "\n",
    "i = 0\n",
    "x = data.loc[:11,\"S\"]\n",
    "\n",
    "formula = 'np.log(value) ~ np.log(S)'\n",
    "\n",
    "\n",
    "for train_index, test_index in kf_random.split(data):\n",
    "    \n",
    "    y_pred = []\n",
    "    train_pred = []\n",
    "    \n",
    "    i += 1\n",
    "    data_train = data.loc[train_index,:]\n",
    "    data_test = data.loc[test_index,:]\n",
    "    \n",
    "    #fitting\n",
    "    \n",
    "    results = smf.ols(formula, data=data_train).fit()\n",
    "    cv_rand_results_steaven.append(results)\n",
    "    \n",
    "    \n",
    "    #predict 元のスケールで\n",
    "    \n",
    "    test_x = data_test[\"S\"].values\n",
    "    train_x = data_train[\"S\"].values\n",
    "    for num in train_x:\n",
    "        train_pred.append(math.e**results.params[0]*(num**results.params[1]) )\n",
    "    \n",
    "    for num in test_x:\n",
    "        y_pred.append(math.e**results.params[0]*(num**results.params[1]) )\n",
    "    \n",
    "    cv_rand_preds_steaven.append(y_pred)\n",
    "    \n",
    "    y_train = data_train[\"value\"].values\n",
    "    y_test = data_test[\"value\"].values\n",
    "    \n",
    "    \n",
    "    rmse = np.sqrt(mean_squared_error(y_test, y_pred))\n",
    "    cv_rand_scores_rmse_steaven.append(rmse)\n",
    "    mae = mean_absolute_error(y_test, y_pred)\n",
    "    cv_rand_scores_mae_steaven.append(mae)\n",
    "    train_mae = mean_absolute_error(y_train, train_pred)\n",
    "    cv_rand_train_scores_mae_steaven.append(train_mae)\n",
    "    \n",
    "    print(results.params)\n",
    "    print(\"rescaled intercept:\",np.exp(results.params[0]))\n",
    "    #plot\n",
    "    \n",
    "    fig = plt.figure()\n",
    "    ax1 = fig.add_subplot(111)\n",
    "    \n",
    "    axis_x = np.arange(500,3000,10)\n",
    "    \n",
    "    list_y =[]\n",
    "\n",
    "    for num in axis_x:\n",
    "        list_y.append(math.e**results.params[0]*(num**results.params[1]) )\n",
    "        \n",
    "    ##トレインデータ\n",
    "\n",
    "    ax1.set_ylim(0,1.75)\n",
    "    ln1=ax1.plot(data_train[\"S\"],data_train[\"value\"],'C1',marker=\".\",linestyle='None')\n",
    "    \n",
    "    ##べき関数\n",
    "    \n",
    "    ax3 = ax1.twinx()\n",
    "    ax3.set_ylim(0,1.75)\n",
    "    ln3=ax3.plot(axis_x,list_y,'C1',marker=\".\",linestyle='None')\n",
    "    \n",
    "    ##テストデータ\n",
    "    \n",
    "    ax4 = ax1.twinx()\n",
    "    ax4.set_ylim(0,1.75)\n",
    "    ln4=ax4.plot(data_test[\"S\"],data_test[\"value\"],'C1',marker=\".\",linestyle='None',color='red')\n",
    "    \n",
    "    plt.savefig('figure/figure' + str(i) + '.png')\n",
    "    plt.show()"
   ]
  },
  {
   "cell_type": "code",
   "execution_count": null,
   "metadata": {},
   "outputs": [],
   "source": [
    "print(\"cv_randでの平方二乗誤差\")\n",
    "print(cv_rand_scores_rmse_steaven)"
   ]
  },
  {
   "cell_type": "code",
   "execution_count": null,
   "metadata": {},
   "outputs": [],
   "source": [
    "print(\"cv_randscore_rmseの平均\")\n",
    "print(np.array(cv_rand_scores_rmse_steaven).mean())"
   ]
  },
  {
   "cell_type": "code",
   "execution_count": null,
   "metadata": {},
   "outputs": [],
   "source": [
    "print(\"cv_randでの絶対平均誤差\")\n",
    "print(cv_rand_scores_mae_steaven)"
   ]
  },
  {
   "cell_type": "code",
   "execution_count": null,
   "metadata": {},
   "outputs": [],
   "source": [
    "print(\"cv_randscore_maeの平均\")\n",
    "print(np.array(cv_rand_scores_mae_steaven).mean())"
   ]
  },
  {
   "cell_type": "code",
   "execution_count": null,
   "metadata": {},
   "outputs": [],
   "source": [
    "print(\"train_mae\")\n",
    "print(cv_rand_train_scores_mae_steaven)"
   ]
  },
  {
   "cell_type": "markdown",
   "metadata": {},
   "source": [
    "# 一次関数でもcv値計算してみる"
   ]
  },
  {
   "cell_type": "code",
   "execution_count": null,
   "metadata": {},
   "outputs": [],
   "source": [
    "#indexで5Foldに分ける\n",
    "cv_rand_results = []\n",
    "cv_rand_preds = []\n",
    "cv_rand_scores_rmse = []\n",
    "cv_rand_scores_mae = []\n",
    "cv_rand_train_scores_mae = []\n",
    "\n",
    "\n",
    "\n",
    "i = 0\n",
    "x = data.loc[:11,\"S\"]\n",
    "\n",
    "formula = 'value ~ S'\n",
    "\n",
    "\n",
    "#一次式で回帰\n",
    "\n",
    "for train_index, test_index in kf_random.split(data):\n",
    "    \n",
    "    y_pred = []\n",
    "    \n",
    "    i += 1\n",
    "    data_train = data.loc[train_index,:]\n",
    "    data_test = data.loc[test_index,:]\n",
    "    \n",
    "    #fitting\n",
    "    \n",
    "    results = smf.ols(formula, data=data_train).fit()\n",
    "    cv_rand_results.append(results)\n",
    "    \n",
    "    cv_rand_train_scores_mae.append(np.abs(results.resid).mean())\n",
    "    \n",
    "    \n",
    "    \n",
    "    print(results.summary())\n",
    "    \n",
    "    #predict 元のスケールで\n",
    "    test_x = data_test[\"S\"].values\n",
    "    y_pred = results.predict(data_test)    \n",
    "    cv_rand_preds.append(y_pred)\n",
    "    \n",
    "    y_test = data_test[\"value\"].values\n",
    "    \n",
    "    \n",
    "    rmse = np.sqrt(mean_squared_error(y_test, y_pred))\n",
    "    cv_rand_scores_rmse.append(rmse)\n",
    "    mae = mean_absolute_error(y_test, y_pred)\n",
    "    cv_rand_scores_mae.append(mae)\n",
    "    \n",
    "    print(results.params)\n",
    "    \n",
    "    #plot\n",
    "    \n",
    "    fig = plt.figure()\n",
    "    ax1 = fig.add_subplot(111)\n",
    "    \n",
    "    axis_x = np.arange(500,3000,10)    \n",
    "    axis_x = pd.DataFrame({\"S\":axis_x})\n",
    "\n",
    "    list_y = results.predict(axis_x)\n",
    "        \n",
    "   ##トレインデータ\n",
    "    \n",
    "    ax1.set_ylim(0,1.75)\n",
    "    ln1=ax1.plot(data_train[\"S\"],data_train[\"value\"],'C1',marker=\".\",linestyle='None')\n",
    "    \n",
    "    ##近似関数\n",
    "    \n",
    "    ax3 = ax1.twinx()\n",
    "    ax3.set_ylim(0,1.75)\n",
    "    ln3=ax3.plot(axis_x,list_y,'C1',marker=\".\",linestyle='None')\n",
    "    \n",
    "    ##テストデータ\n",
    "    \n",
    "    ax4 = ax1.twinx()\n",
    "    ax4.set_ylim(0,1.75)\n",
    "    ln4=ax4.plot(data_test[\"S\"],data_test[\"value\"],'C1',marker=\".\",linestyle='None',color='red')\n",
    "    \n",
    "    plt.savefig('figure/figure' + str(i) + '.png')\n",
    "    plt.show()"
   ]
  },
  {
   "cell_type": "code",
   "execution_count": null,
   "metadata": {
    "scrolled": true
   },
   "outputs": [],
   "source": [
    "print(\"cv_randでの平方二乗誤差\")\n",
    "print(cv_rand_scores_rmse)"
   ]
  },
  {
   "cell_type": "code",
   "execution_count": null,
   "metadata": {},
   "outputs": [],
   "source": [
    "print(\"cv_randscore_rmseの平均\")\n",
    "print(np.array(cv_rand_scores_rmse).mean())"
   ]
  },
  {
   "cell_type": "code",
   "execution_count": null,
   "metadata": {},
   "outputs": [],
   "source": [
    "print(\"cv_randでの絶対平均誤差\")\n",
    "print(cv_rand_scores_mae)"
   ]
  },
  {
   "cell_type": "code",
   "execution_count": null,
   "metadata": {},
   "outputs": [],
   "source": [
    "print(\"cv_randscore_maeの平均\")\n",
    "print(np.array(cv_rand_scores_mae).mean())"
   ]
  },
  {
   "cell_type": "code",
   "execution_count": null,
   "metadata": {},
   "outputs": [],
   "source": [
    "print(\"train_mae\")\n",
    "print(cv_rand_train_scores_mae)"
   ]
  },
  {
   "cell_type": "markdown",
   "metadata": {},
   "source": [
    "# フェヒナーの法則"
   ]
  },
  {
   "cell_type": "markdown",
   "metadata": {},
   "source": [
    "（感覚量）＝ C*log(刺激量)"
   ]
  },
  {
   "cell_type": "code",
   "execution_count": null,
   "metadata": {},
   "outputs": [],
   "source": [
    "#indexで5Foldに分ける\n",
    "cv_rand_results_fef = []\n",
    "cv_rand_preds_fef = []\n",
    "cv_rand_scores_rmse_fef = []\n",
    "cv_rand_scores_mae_fef = []\n",
    "cv_rand_train_scores_mae_fef = []\n",
    "\n",
    "\n",
    "\n",
    "i = 0\n",
    "x = data.loc[:11,\"S\"]\n",
    "\n",
    "formula = 'value ~ np.log(S)'\n",
    "\n",
    "\n",
    "#一次式で回帰\n",
    "\n",
    "for train_index, test_index in kf_random.split(data):\n",
    "    \n",
    "    y_pred = []\n",
    "    \n",
    "    i += 1\n",
    "    data_train = data.loc[train_index,:]\n",
    "    data_test = data.loc[test_index,:]\n",
    "    \n",
    "    #fitting\n",
    "    \n",
    "    results = smf.ols(formula, data=data_train).fit()\n",
    "    cv_rand_results_fef.append(results)\n",
    "    \n",
    "    cv_rand_train_scores_mae_fef.append(np.abs(results.resid).mean())\n",
    "    \n",
    "    \n",
    "    \n",
    "    print(results.summary())\n",
    "    \n",
    "    #predict 元のスケールで\n",
    "    test_x = data_test[\"S\"].values\n",
    "    y_pred = results.predict(data_test)    \n",
    "    cv_rand_preds.append(y_pred)\n",
    "    \n",
    "    y_test = data_test[\"value\"].values\n",
    "    \n",
    "    \n",
    "    rmse = np.sqrt(mean_squared_error(y_test, y_pred))\n",
    "    cv_rand_scores_rmse_fef.append(rmse)\n",
    "    mae = mean_absolute_error(y_test, y_pred)\n",
    "    cv_rand_scores_mae_fef.append(mae)\n",
    "    \n",
    "    print(results.params)\n",
    "    \n",
    "    #plot\n",
    "    \n",
    "    fig = plt.figure()\n",
    "    ax1 = fig.add_subplot(111)\n",
    "    \n",
    "    axis_x = np.arange(500,3000,10)    \n",
    "    axis_x = pd.DataFrame({\"S\":axis_x})\n",
    "\n",
    "    list_y = results.predict(axis_x)\n",
    "        \n",
    "   ##トレインデータ\n",
    "    \n",
    "    ax1.set_ylim(0,1.75)\n",
    "    ln1=ax1.plot(data_train[\"S\"],data_train[\"value\"],'C1',marker=\".\",linestyle='None')\n",
    "    \n",
    "    ##近似関数\n",
    "    \n",
    "    ax3 = ax1.twinx()\n",
    "    ax3.set_ylim(0,1.75)\n",
    "    ln3=ax3.plot(axis_x,list_y,'C1',marker=\".\",linestyle='None')\n",
    "    \n",
    "    ##テストデータ\n",
    "    \n",
    "    ax4 = ax1.twinx()\n",
    "    ax4.set_ylim(0,1.75)\n",
    "    ln4=ax4.plot(data_test[\"S\"],data_test[\"value\"],'C1',marker=\".\",linestyle='None',color='red')\n",
    "    \n",
    "    plt.savefig('figure/figure' + str(i) + '.png')\n",
    "    plt.show()"
   ]
  },
  {
   "cell_type": "code",
   "execution_count": null,
   "metadata": {},
   "outputs": [],
   "source": [
    "print(\"cv_randでの平方二乗誤差\")\n",
    "print(cv_rand_scores_rmse_fef)"
   ]
  },
  {
   "cell_type": "code",
   "execution_count": null,
   "metadata": {},
   "outputs": [],
   "source": [
    "print(\"cv_randscore_rmseの平均\")\n",
    "print(np.array(cv_rand_scores_rmse_fef).mean())"
   ]
  },
  {
   "cell_type": "code",
   "execution_count": null,
   "metadata": {},
   "outputs": [],
   "source": [
    "print(\"train_mae\")\n",
    "print(cv_rand_train_scores_mae_fef)"
   ]
  },
  {
   "cell_type": "code",
   "execution_count": null,
   "metadata": {},
   "outputs": [],
   "source": [
    "print(\"train_maeの平均\")\n",
    "print(np.array(cv_rand_train_scores_mae_fef).mean())"
   ]
  },
  {
   "cell_type": "code",
   "execution_count": null,
   "metadata": {},
   "outputs": [],
   "source": []
  },
  {
   "cell_type": "code",
   "execution_count": null,
   "metadata": {},
   "outputs": [],
   "source": []
  },
  {
   "cell_type": "markdown",
   "metadata": {},
   "source": [
    "# CV値の箱ひげ図"
   ]
  },
  {
   "cell_type": "code",
   "execution_count": null,
   "metadata": {},
   "outputs": [],
   "source": [
    "import plotly\n",
    "plotly.offline.init_notebook_mode(connected=False)"
   ]
  },
  {
   "cell_type": "code",
   "execution_count": null,
   "metadata": {},
   "outputs": [],
   "source": [
    "trace1 =  plotly.graph_objs.Box(\n",
    "    y= cv_rand_scores_mae,\n",
    "    boxmean=True,\n",
    "    name=\"Linear\")\n",
    "\n",
    "trace_steaven =  plotly.graph_objs.Box(\n",
    "    y= cv_rand_scores_mae_steaven,\n",
    "    boxmean=True,\n",
    "    name=\"Steven\")\n",
    "\n",
    "trace_Fechner =  plotly.graph_objs.Box(\n",
    "    y= cv_rand_scores_mae_fef,\n",
    "    boxmean=True,\n",
    "    name=\"Fechner\")"
   ]
  },
  {
   "cell_type": "code",
   "execution_count": null,
   "metadata": {},
   "outputs": [],
   "source": [
    "layout = plotly.graph_objs.Layout(\n",
    "    title=\"Test score(MAE)\",\n",
    "    xaxis={\"title\":\"Model\"},\n",
    "    yaxis={\"title\":\"CV  score (test)\"}\n",
    ")"
   ]
  },
  {
   "cell_type": "code",
   "execution_count": null,
   "metadata": {},
   "outputs": [],
   "source": [
    "data_plot = [trace1, trace_steaven, trace_Fechner]\n",
    "fig = plotly.graph_objs.Figure(data=data_plot, layout=layout)\n",
    "plotly.offline.iplot(fig)"
   ]
  },
  {
   "cell_type": "code",
   "execution_count": null,
   "metadata": {},
   "outputs": [],
   "source": [
    "trace1 =  plotly.graph_objs.Box(\n",
    "    y= cv_rand_train_scores_mae,\n",
    "    boxmean=True,\n",
    "    name=\"Linear\")\n",
    "\n",
    "trace_steaven =  plotly.graph_objs.Box(\n",
    "    y= cv_rand_train_scores_mae_steaven,\n",
    "    boxmean=True,\n",
    "    name=\"Steven\")\n",
    "\n",
    "trace_fechner =  plotly.graph_objs.Box(\n",
    "    y= cv_rand_train_scores_mae_fef,\n",
    "    boxmean=True,\n",
    "    name=\"Fechner\")"
   ]
  },
  {
   "cell_type": "code",
   "execution_count": null,
   "metadata": {},
   "outputs": [],
   "source": [
    "layout = plotly.graph_objs.Layout(\n",
    "    title=\"Train score(MAE)\",\n",
    "    xaxis={\"title\":\"Model\"},\n",
    "    yaxis={\"title\":\"CV  score (train)\"}\n",
    ")"
   ]
  },
  {
   "cell_type": "code",
   "execution_count": null,
   "metadata": {
    "scrolled": true
   },
   "outputs": [],
   "source": [
    "data_plot = [trace1, trace_steaven, trace_fechner]\n",
    "fig = plotly.graph_objs.Figure(data=data_plot, layout=layout)\n",
    "plotly.offline.iplot(fig)"
   ]
  },
  {
   "cell_type": "code",
   "execution_count": null,
   "metadata": {},
   "outputs": [],
   "source": []
  },
  {
   "cell_type": "code",
   "execution_count": null,
   "metadata": {},
   "outputs": [],
   "source": []
  },
  {
   "cell_type": "code",
   "execution_count": null,
   "metadata": {},
   "outputs": [],
   "source": []
  },
  {
   "cell_type": "code",
   "execution_count": null,
   "metadata": {},
   "outputs": [],
   "source": []
  },
  {
   "cell_type": "code",
   "execution_count": null,
   "metadata": {},
   "outputs": [],
   "source": []
  },
  {
   "cell_type": "code",
   "execution_count": null,
   "metadata": {},
   "outputs": [],
   "source": []
  },
  {
   "cell_type": "code",
   "execution_count": null,
   "metadata": {},
   "outputs": [],
   "source": []
  },
  {
   "cell_type": "code",
   "execution_count": null,
   "metadata": {},
   "outputs": [],
   "source": []
  },
  {
   "cell_type": "code",
   "execution_count": null,
   "metadata": {},
   "outputs": [],
   "source": []
  },
  {
   "cell_type": "code",
   "execution_count": null,
   "metadata": {},
   "outputs": [],
   "source": []
  },
  {
   "cell_type": "code",
   "execution_count": null,
   "metadata": {},
   "outputs": [],
   "source": []
  },
  {
   "cell_type": "code",
   "execution_count": null,
   "metadata": {},
   "outputs": [],
   "source": []
  },
  {
   "cell_type": "code",
   "execution_count": null,
   "metadata": {},
   "outputs": [],
   "source": []
  },
  {
   "cell_type": "code",
   "execution_count": null,
   "metadata": {},
   "outputs": [],
   "source": []
  },
  {
   "cell_type": "code",
   "execution_count": null,
   "metadata": {},
   "outputs": [],
   "source": []
  },
  {
   "cell_type": "code",
   "execution_count": null,
   "metadata": {},
   "outputs": [],
   "source": []
  },
  {
   "cell_type": "code",
   "execution_count": null,
   "metadata": {},
   "outputs": [],
   "source": []
  },
  {
   "cell_type": "code",
   "execution_count": null,
   "metadata": {},
   "outputs": [],
   "source": []
  },
  {
   "cell_type": "code",
   "execution_count": null,
   "metadata": {},
   "outputs": [],
   "source": []
  },
  {
   "cell_type": "code",
   "execution_count": null,
   "metadata": {},
   "outputs": [],
   "source": []
  },
  {
   "cell_type": "code",
   "execution_count": null,
   "metadata": {},
   "outputs": [],
   "source": []
  },
  {
   "cell_type": "code",
   "execution_count": null,
   "metadata": {},
   "outputs": [],
   "source": []
  }
 ],
 "metadata": {
  "kernelspec": {
   "display_name": "Python 3",
   "language": "python",
   "name": "python3"
  },
  "language_info": {
   "codemirror_mode": {
    "name": "ipython",
    "version": 3
   },
   "file_extension": ".py",
   "mimetype": "text/x-python",
   "name": "python",
   "nbconvert_exporter": "python",
   "pygments_lexer": "ipython3",
   "version": "3.6.6"
  }
 },
 "nbformat": 4,
 "nbformat_minor": 2
}

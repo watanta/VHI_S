{
 "cells": [
  {
   "cell_type": "code",
   "execution_count": 154,
   "metadata": {},
   "outputs": [],
   "source": [
    "import seaborn as sns\n",
    "import pandas as pd\n",
    "import matplotlib.pyplot as plt\n",
    "\n",
    "from scipy.optimize import curve_fit\n",
    "import numpy as np\n",
    "\n",
    "import statsmodels.api as sm\n",
    "import statsmodels.formula.api as smf\n",
    "\n",
    "import matplotlib.cm as cm\n",
    "\n",
    "import math\n",
    "\n",
    "from sklearn.model_selection import KFold\n",
    "from sklearn.metrics import mean_squared_error\n",
    "from sklearn.metrics import mean_absolute_error\n",
    "\n",
    "from patsy import dmatrices, dmatrix, demo_data\n",
    "\n",
    "\n",
    "%matplotlib inline"
   ]
  },
  {
   "cell_type": "code",
   "execution_count": 105,
   "metadata": {},
   "outputs": [],
   "source": [
    "URL = r\"file:///C:\\Users\\nakamura\\test\\result.csv\""
   ]
  },
  {
   "cell_type": "code",
   "execution_count": 106,
   "metadata": {
    "pixiedust": {
     "displayParams": {}
    }
   },
   "outputs": [
    {
     "name": "stdout",
     "output_type": "stream",
     "text": [
      "Creating pandas DataFrame for 'file:///C:\\Users\\nakamura\\test\\result.csv'. Please wait...\n",
      "Loading file using 'pandas'\n",
      "Successfully created pandas DataFrame for 'file:///C:\\Users\\nakamura\\test\\result.csv'\n"
     ]
    }
   ],
   "source": [
    "import pixiedust\n",
    "df = pixiedust.sampleData(URL)\n"
   ]
  },
  {
   "cell_type": "code",
   "execution_count": null,
   "metadata": {
    "pixiedust": {
     "displayParams": {
      "color": "condition",
      "filter": "{}",
      "handlerId": "scatterPlot",
      "keyFields": "condition",
      "kind": "kde",
      "no_margin": "true",
      "rendererId": "bokeh",
      "valueFields": "value"
     }
    }
   },
   "outputs": [
    {
     "data": {
      "text/html": [
       "<style type=\"text/css\">.pd_warning{display:none;}</style><div class=\"pd_warning\"><em>Hey, there's something awesome here! To see it, open this notebook outside GitHub, in a viewer like Jupyter</em></div>\n",
       "        <div class=\"pd_save is-viewer-good\" style=\"padding-right:10px;text-align: center;line-height:initial !important;font-size: xx-large;font-weight: 500;color: coral;\">\n",
       "            \n",
       "        </div>\n",
       "    <div id=\"chartFigure4754568b\" class=\"pd_save is-viewer-good\" style=\"overflow-x:auto\">\n",
       "            \n",
       "                    <script class=\"pd_save\">\n",
       "                    function setChartScript() {\n",
       "                        if (!window.Bokeh) {\n",
       "                            setTimeout(setChartScript, 250)\n",
       "                        } else {\n",
       "                            var d = document.getElementById(\"pd-bkchartdiv-4754568b\")\n",
       "                            if (d){\n",
       "                                var el = document.createElement('div')\n",
       "                                el.innerHTML = `\n",
       "<script type=\"text/javascript\">\n",
       "  (function() {\n",
       "    var fn = function() {\n",
       "      Bokeh.safely(function() {\n",
       "        (function(root) {\n",
       "          function embed_document(root) {\n",
       "            \n",
       "          var docs_json = '{\"e6865a65-2f3b-40a9-9f41-ecc527c7e10e\":{\"roots\":{\"references\":[{\"attributes\":{\"callback\":null},\"id\":\"4ea47209-2a7e-444d-bb83-f25b8ce6f474\",\"type\":\"DataRange1d\"},{\"attributes\":{},\"id\":\"dd49225e-14cd-49ef-8702-a7ba0babd4b9\",\"type\":\"PanTool\"},{\"attributes\":{},\"id\":\"ed277e27-70aa-417f-95fe-84244d52ef93\",\"type\":\"BasicTicker\"},{\"attributes\":{},\"id\":\"48e3941d-b76c-451b-b6a2-197b7e60e8bf\",\"type\":\"BasicTickFormatter\"},{\"attributes\":{},\"id\":\"f668ae79-574c-42a4-85b1-f5905a19532c\",\"type\":\"WheelZoomTool\"},{\"attributes\":{},\"id\":\"36b5c8ec-89a2-474d-8337-644a2bb7772e\",\"type\":\"HelpTool\"},{\"attributes\":{\"overlay\":{\"id\":\"cedb1934-faf3-4347-8e0c-1262d6fa8e7a\",\"type\":\"BoxAnnotation\"}},\"id\":\"1217d438-c17f-422e-91ff-68363680ff15\",\"type\":\"BoxZoomTool\"},{\"attributes\":{},\"id\":\"3a5c264a-fc86-4ee5-8071-629b83c9777d\",\"type\":\"LinearScale\"},{\"attributes\":{},\"id\":\"cae3784b-c990-4985-8607-b22ed23c9724\",\"type\":\"BasicTicker\"},{\"attributes\":{\"plot\":null,\"text\":\"\"},\"id\":\"a7594010-87fb-44ff-91c9-c939d386d113\",\"type\":\"Title\"},{\"attributes\":{\"callback\":null},\"id\":\"06350b26-16ff-4849-bb12-95adf859a685\",\"type\":\"DataRange1d\"},{\"attributes\":{\"fill_alpha\":{\"value\":0.1},\"fill_color\":{\"value\":\"#1f77b4\"},\"line_alpha\":{\"value\":0.1},\"line_color\":{\"value\":\"#1f77b4\"},\"size\":{\"units\":\"screen\",\"value\":8},\"x\":{\"field\":\"x\"},\"y\":{\"field\":\"y\"}},\"id\":\"38506378-852b-41c7-8645-5afc4e0f2614\",\"type\":\"Circle\"},{\"attributes\":{},\"id\":\"e1233471-5faf-4935-8f6d-34e43ddedd14\",\"type\":\"SaveTool\"},{\"attributes\":{\"grid_line_alpha\":{\"value\":0.3},\"plot\":{\"id\":\"275933d4-8986-4ea5-967c-b06896c97cbe\",\"subtype\":\"Figure\",\"type\":\"Plot\"},\"ticker\":{\"id\":\"ed277e27-70aa-417f-95fe-84244d52ef93\",\"type\":\"BasicTicker\"}},\"id\":\"a44e9b09-9a7f-4e57-8055-f59d1d954f74\",\"type\":\"Grid\"},{\"attributes\":{\"source\":{\"id\":\"5b6238e9-733a-4125-83ee-a160eead023c\",\"type\":\"ColumnDataSource\"}},\"id\":\"f12952da-5135-42ba-a872-843d86e39362\",\"type\":\"CDSView\"},{\"attributes\":{\"data_source\":{\"id\":\"5b6238e9-733a-4125-83ee-a160eead023c\",\"type\":\"ColumnDataSource\"},\"glyph\":{\"id\":\"d614c91c-4a16-476e-8547-bf8f635b9654\",\"type\":\"Circle\"},\"hover_glyph\":null,\"muted_glyph\":null,\"nonselection_glyph\":{\"id\":\"38506378-852b-41c7-8645-5afc4e0f2614\",\"type\":\"Circle\"},\"selection_glyph\":null,\"view\":{\"id\":\"f12952da-5135-42ba-a872-843d86e39362\",\"type\":\"CDSView\"}},\"id\":\"d1488091-7e72-48b0-b695-e3d103cb4db1\",\"type\":\"GlyphRenderer\"},{\"attributes\":{},\"id\":\"c31624fa-eb9e-425b-838f-7b0d757c60d8\",\"type\":\"ResetTool\"},{\"attributes\":{\"dimension\":1,\"grid_line_alpha\":{\"value\":0.3},\"plot\":{\"id\":\"275933d4-8986-4ea5-967c-b06896c97cbe\",\"subtype\":\"Figure\",\"type\":\"Plot\"},\"ticker\":{\"id\":\"cae3784b-c990-4985-8607-b22ed23c9724\",\"type\":\"BasicTicker\"}},\"id\":\"29bf39ef-6b0e-4579-b9b0-6470319345ae\",\"type\":\"Grid\"},{\"attributes\":{\"callback\":null,\"column_names\":[\"x\",\"y\"],\"data\":{\"x\":[0,0,0,0,0,1,1,1,1,1,2,2,2,2,2,3,3,3,3,3,4,4,4,4,4,5,5,5,5,5,6,6,6,6,6,7,7,7,7,7,8,8,8,8,8,9,9,9,9,9,10,10,10,10,10,11,11,11,11,11],\"y\":[0.2,0.0,0.5,0.3,0.8,0.1,0.5,0.2,0.8,0.8,0.8,1.0,0.8,0.1,0.3,0.9,0.2,1.5,0.1,0.75,0.3,0.7,0.6,0.9,1.0,1.0,0.9,0.9,1.0,1.0,1.0,1.0,0.8,1.0,1.0,1.0,1.0,1.0,1.0,1.0,0.7,1.3,0.8,0.5,1.0,1.1,0.4,1.2,1.3,1.2,1.2,1.2,0.5,0.7,0.7,1.1,1.4,1.8,0.6,0.8]}},\"id\":\"5b6238e9-733a-4125-83ee-a160eead023c\",\"type\":\"ColumnDataSource\"},{\"attributes\":{},\"id\":\"91ed05d5-b2b8-48dc-b639-695a6d4eea1b\",\"type\":\"LinearScale\"},{\"attributes\":{\"fill_alpha\":{\"value\":0.5},\"fill_color\":{\"value\":\"#1f77b4\"},\"line_color\":{\"value\":\"#1f77b4\"},\"size\":{\"units\":\"screen\",\"value\":8},\"x\":{\"field\":\"x\"},\"y\":{\"field\":\"y\"}},\"id\":\"d614c91c-4a16-476e-8547-bf8f635b9654\",\"type\":\"Circle\"},{\"attributes\":{},\"id\":\"12767fb2-7cbf-4388-aa23-d54ca4b5e73d\",\"type\":\"BasicTickFormatter\"},{\"attributes\":{\"axis_label\":\"value\",\"formatter\":{\"id\":\"12767fb2-7cbf-4388-aa23-d54ca4b5e73d\",\"type\":\"BasicTickFormatter\"},\"plot\":{\"id\":\"275933d4-8986-4ea5-967c-b06896c97cbe\",\"subtype\":\"Figure\",\"type\":\"Plot\"},\"ticker\":{\"id\":\"cae3784b-c990-4985-8607-b22ed23c9724\",\"type\":\"BasicTicker\"}},\"id\":\"f26fca30-4e97-4830-b098-55f804c28f3d\",\"type\":\"LinearAxis\"},{\"attributes\":{\"axis_label\":\"condition\",\"formatter\":{\"id\":\"48e3941d-b76c-451b-b6a2-197b7e60e8bf\",\"type\":\"BasicTickFormatter\"},\"plot\":{\"id\":\"275933d4-8986-4ea5-967c-b06896c97cbe\",\"subtype\":\"Figure\",\"type\":\"Plot\"},\"ticker\":{\"id\":\"ed277e27-70aa-417f-95fe-84244d52ef93\",\"type\":\"BasicTicker\"}},\"id\":\"d9271b89-67bc-496d-b19a-540ba3674d4c\",\"type\":\"LinearAxis\"},{\"attributes\":{\"bottom_units\":\"screen\",\"fill_alpha\":{\"value\":0.5},\"fill_color\":{\"value\":\"lightgrey\"},\"left_units\":\"screen\",\"level\":\"overlay\",\"line_alpha\":{\"value\":1.0},\"line_color\":{\"value\":\"black\"},\"line_dash\":[4,4],\"line_width\":{\"value\":2},\"plot\":null,\"render_mode\":\"css\",\"right_units\":\"screen\",\"top_units\":\"screen\"},\"id\":\"cedb1934-faf3-4347-8e0c-1262d6fa8e7a\",\"type\":\"BoxAnnotation\"},{\"attributes\":{\"active_drag\":\"auto\",\"active_inspect\":\"auto\",\"active_scroll\":\"auto\",\"active_tap\":\"auto\",\"tools\":[{\"id\":\"dd49225e-14cd-49ef-8702-a7ba0babd4b9\",\"type\":\"PanTool\"},{\"id\":\"f668ae79-574c-42a4-85b1-f5905a19532c\",\"type\":\"WheelZoomTool\"},{\"id\":\"1217d438-c17f-422e-91ff-68363680ff15\",\"type\":\"BoxZoomTool\"},{\"id\":\"e1233471-5faf-4935-8f6d-34e43ddedd14\",\"type\":\"SaveTool\"},{\"id\":\"c31624fa-eb9e-425b-838f-7b0d757c60d8\",\"type\":\"ResetTool\"},{\"id\":\"36b5c8ec-89a2-474d-8337-644a2bb7772e\",\"type\":\"HelpTool\"}]},\"id\":\"db2ff056-9060-4859-81f0-5be3696ac96a\",\"type\":\"Toolbar\"},{\"attributes\":{\"below\":[{\"id\":\"d9271b89-67bc-496d-b19a-540ba3674d4c\",\"type\":\"LinearAxis\"}],\"left\":[{\"id\":\"f26fca30-4e97-4830-b098-55f804c28f3d\",\"type\":\"LinearAxis\"}],\"plot_height\":490,\"plot_width\":1000,\"renderers\":[{\"id\":\"d9271b89-67bc-496d-b19a-540ba3674d4c\",\"type\":\"LinearAxis\"},{\"id\":\"a44e9b09-9a7f-4e57-8055-f59d1d954f74\",\"type\":\"Grid\"},{\"id\":\"f26fca30-4e97-4830-b098-55f804c28f3d\",\"type\":\"LinearAxis\"},{\"id\":\"29bf39ef-6b0e-4579-b9b0-6470319345ae\",\"type\":\"Grid\"},{\"id\":\"cedb1934-faf3-4347-8e0c-1262d6fa8e7a\",\"type\":\"BoxAnnotation\"},{\"id\":\"d1488091-7e72-48b0-b695-e3d103cb4db1\",\"type\":\"GlyphRenderer\"}],\"title\":{\"id\":\"a7594010-87fb-44ff-91c9-c939d386d113\",\"type\":\"Title\"},\"toolbar\":{\"id\":\"db2ff056-9060-4859-81f0-5be3696ac96a\",\"type\":\"Toolbar\"},\"x_range\":{\"id\":\"4ea47209-2a7e-444d-bb83-f25b8ce6f474\",\"type\":\"DataRange1d\"},\"x_scale\":{\"id\":\"91ed05d5-b2b8-48dc-b639-695a6d4eea1b\",\"type\":\"LinearScale\"},\"y_range\":{\"id\":\"06350b26-16ff-4849-bb12-95adf859a685\",\"type\":\"DataRange1d\"},\"y_scale\":{\"id\":\"3a5c264a-fc86-4ee5-8071-629b83c9777d\",\"type\":\"LinearScale\"}},\"id\":\"275933d4-8986-4ea5-967c-b06896c97cbe\",\"subtype\":\"Figure\",\"type\":\"Plot\"}],\"root_ids\":[\"275933d4-8986-4ea5-967c-b06896c97cbe\"]},\"title\":\"Bokeh Application\",\"version\":\"0.12.14\"}}';\n",
       "          var render_items = [{\"docid\":\"e6865a65-2f3b-40a9-9f41-ecc527c7e10e\",\"elementid\":\"9fa43ccd-55f5-4407-8a7a-27d27e26d8c0\",\"modelid\":\"275933d4-8986-4ea5-967c-b06896c97cbe\"}];\n",
       "          root.Bokeh.embed.embed_items(docs_json, render_items);\n",
       "        \n",
       "          }\n",
       "          if (root.Bokeh !== undefined) {\n",
       "            embed_document(root);\n",
       "          } else {\n",
       "            var attempts = 0;\n",
       "            var timer = setInterval(function(root) {\n",
       "              if (root.Bokeh !== undefined) {\n",
       "                embed_document(root);\n",
       "                clearInterval(timer);\n",
       "              }\n",
       "              attempts++;\n",
       "              if (attempts > 100) {\n",
       "                console.log(\"Bokeh: ERROR: Unable to run BokehJS code because BokehJS library is missing\")\n",
       "                clearInterval(timer);\n",
       "              }\n",
       "            }, 10, root)\n",
       "          }\n",
       "        })(window);\n",
       "      });\n",
       "    };\n",
       "    if (document.readyState != \"loading\") fn();\n",
       "    else document.addEventListener(\"DOMContentLoaded\", fn);\n",
       "  })();\n",
       "<\\/script>`\n",
       "                                var chartscript = el.childNodes[1]\n",
       "                                var s = document.createElement(\"script\")\n",
       "                                s.innerHTML = chartscript.innerHTML\n",
       "                                d.parentNode.insertBefore(s, d)\n",
       "                            }\n",
       "                        }\n",
       "                    }\n",
       "                    if (!window.Bokeh && !window.autoload){\n",
       "                        window.autoload=true;\n",
       "                        \n",
       "(function(root) {\n",
       "  function now() {\n",
       "    return new Date();\n",
       "  }\n",
       "\n",
       "  var force = 1;\n",
       "\n",
       "  if (typeof (root._bokeh_onload_callbacks) === \"undefined\" || force === true) {\n",
       "    root._bokeh_onload_callbacks = [];\n",
       "    root._bokeh_is_loading = undefined;\n",
       "  }\n",
       "\n",
       "  \n",
       "\n",
       "  \n",
       "  if (typeof (root._bokeh_timeout) === \"undefined\" || force === true) {\n",
       "    root._bokeh_timeout = Date.now() + 5000;\n",
       "    root._bokeh_failed_load = false;\n",
       "  }\n",
       "\n",
       "  var NB_LOAD_WARNING = {'data': {'text/html':\n",
       "     \"<div style='background-color: #fdd'>\\n\"+\n",
       "     \"<p>\\n\"+\n",
       "     \"BokehJS does not appear to have successfully loaded. If loading BokehJS from CDN, this \\n\"+\n",
       "     \"may be due to a slow or bad network connection. Possible fixes:\\n\"+\n",
       "     \"</p>\\n\"+\n",
       "     \"<ul>\\n\"+\n",
       "     \"<li>re-rerun `output_notebook()` to attempt to load from CDN again, or</li>\\n\"+\n",
       "     \"<li>use INLINE resources instead, as so:</li>\\n\"+\n",
       "     \"</ul>\\n\"+\n",
       "     \"<code>\\n\"+\n",
       "     \"from bokeh.resources import INLINE\\n\"+\n",
       "     \"output_notebook(resources=INLINE)\\n\"+\n",
       "     \"</code>\\n\"+\n",
       "     \"</div>\"}};\n",
       "\n",
       "  function display_loaded() {\n",
       "    var el = document.getElementById(\"\");\n",
       "    if (el != null) {\n",
       "      el.textContent = \"BokehJS is loading...\";\n",
       "    }\n",
       "    if (root.Bokeh !== undefined) {\n",
       "      if (el != null) {\n",
       "        el.textContent = \"BokehJS \" + root.Bokeh.version + \" successfully loaded.\";\n",
       "      }\n",
       "    } else if (Date.now() < root._bokeh_timeout) {\n",
       "      setTimeout(display_loaded, 100)\n",
       "    }\n",
       "  }\n",
       "\n",
       "\n",
       "  function run_callbacks() {\n",
       "    try {\n",
       "      root._bokeh_onload_callbacks.forEach(function(callback) { callback() });\n",
       "    }\n",
       "    finally {\n",
       "      delete root._bokeh_onload_callbacks\n",
       "    }\n",
       "    console.info(\"Bokeh: all callbacks have finished\");\n",
       "  }\n",
       "\n",
       "  function load_libs(js_urls, callback) {\n",
       "    root._bokeh_onload_callbacks.push(callback);\n",
       "    if (root._bokeh_is_loading > 0) {\n",
       "      console.log(\"Bokeh: BokehJS is being loaded, scheduling callback at\", now());\n",
       "      return null;\n",
       "    }\n",
       "    if (js_urls == null || js_urls.length === 0) {\n",
       "      run_callbacks();\n",
       "      return null;\n",
       "    }\n",
       "    console.log(\"Bokeh: BokehJS not loaded, scheduling load and callback at\", now());\n",
       "    root._bokeh_is_loading = js_urls.length;\n",
       "    for (var i = 0; i < js_urls.length; i++) {\n",
       "      var url = js_urls[i];\n",
       "      var s = document.createElement('script');\n",
       "      s.src = url;\n",
       "      s.async = false;\n",
       "      s.onreadystatechange = s.onload = function() {\n",
       "        root._bokeh_is_loading--;\n",
       "        if (root._bokeh_is_loading === 0) {\n",
       "          console.log(\"Bokeh: all BokehJS libraries loaded\");\n",
       "          run_callbacks()\n",
       "        }\n",
       "      };\n",
       "      s.onerror = function() {\n",
       "        console.warn(\"failed to load library \" + url);\n",
       "      };\n",
       "      console.log(\"Bokeh: injecting script tag for BokehJS library: \", url);\n",
       "      document.getElementsByTagName(\"head\")[0].appendChild(s);\n",
       "    }\n",
       "  };\n",
       "\n",
       "  var js_urls = [\"https://cdn.pydata.org/bokeh/release/bokeh-0.12.14.min.js\", \"https://cdn.pydata.org/bokeh/release/bokeh-widgets-0.12.14.min.js\", \"https://cdn.pydata.org/bokeh/release/bokeh-tables-0.12.14.min.js\", \"https://cdn.pydata.org/bokeh/release/bokeh-gl-0.12.14.min.js\"];\n",
       "\n",
       "  var inline_js = [\n",
       "    function(Bokeh) {\n",
       "      Bokeh.set_log_level(\"info\");\n",
       "    },\n",
       "    function(Bokeh) {\n",
       "      console.log(\"Bokeh: injecting CSS: https://cdn.pydata.org/bokeh/release/bokeh-0.12.14.min.css\");\n",
       "      Bokeh.embed.inject_css(\"https://cdn.pydata.org/bokeh/release/bokeh-0.12.14.min.css\");\n",
       "      console.log(\"Bokeh: injecting CSS: https://cdn.pydata.org/bokeh/release/bokeh-widgets-0.12.14.min.css\");\n",
       "      Bokeh.embed.inject_css(\"https://cdn.pydata.org/bokeh/release/bokeh-widgets-0.12.14.min.css\");\n",
       "      console.log(\"Bokeh: injecting CSS: https://cdn.pydata.org/bokeh/release/bokeh-tables-0.12.14.min.css\");\n",
       "      Bokeh.embed.inject_css(\"https://cdn.pydata.org/bokeh/release/bokeh-tables-0.12.14.min.css\");\n",
       "    }\n",
       "  ];\n",
       "\n",
       "  function run_inline_js() {\n",
       "    \n",
       "    if ((root.Bokeh !== undefined) || (force === true)) {\n",
       "      for (var i = 0; i < inline_js.length; i++) {\n",
       "        inline_js[i].call(root, root.Bokeh);\n",
       "      }} else if (Date.now() < root._bokeh_timeout) {\n",
       "      setTimeout(run_inline_js, 100);\n",
       "    } else if (!root._bokeh_failed_load) {\n",
       "      console.log(\"Bokeh: BokehJS failed to load within specified timeout.\");\n",
       "      root._bokeh_failed_load = true;\n",
       "    } else if (force !== true) {\n",
       "      var cell = $(document.getElementById(\"\")).parents('.cell').data().cell;\n",
       "      cell.output_area.append_execute_result(NB_LOAD_WARNING)\n",
       "    }\n",
       "\n",
       "  }\n",
       "\n",
       "  if (root._bokeh_is_loading === 0) {\n",
       "    console.log(\"Bokeh: BokehJS loaded, going straight to plotting\");\n",
       "    run_inline_js();\n",
       "  } else {\n",
       "    load_libs(js_urls, function() {\n",
       "      console.log(\"Bokeh: BokehJS plotting callback run at\", now());\n",
       "      run_inline_js();\n",
       "    });\n",
       "  }\n",
       "}(window));\n",
       "                    }\n",
       "                    setChartScript()\n",
       "                    </script>\n",
       "                    <script>\n",
       "  (function() {\n",
       "    var fn = function() {\n",
       "      Bokeh.safely(function() {\n",
       "        (function(root) {\n",
       "          function embed_document(root) {\n",
       "            \n",
       "          var docs_json = '{\"e6865a65-2f3b-40a9-9f41-ecc527c7e10e\":{\"roots\":{\"references\":[{\"attributes\":{\"callback\":null},\"id\":\"4ea47209-2a7e-444d-bb83-f25b8ce6f474\",\"type\":\"DataRange1d\"},{\"attributes\":{},\"id\":\"dd49225e-14cd-49ef-8702-a7ba0babd4b9\",\"type\":\"PanTool\"},{\"attributes\":{},\"id\":\"ed277e27-70aa-417f-95fe-84244d52ef93\",\"type\":\"BasicTicker\"},{\"attributes\":{},\"id\":\"48e3941d-b76c-451b-b6a2-197b7e60e8bf\",\"type\":\"BasicTickFormatter\"},{\"attributes\":{},\"id\":\"f668ae79-574c-42a4-85b1-f5905a19532c\",\"type\":\"WheelZoomTool\"},{\"attributes\":{},\"id\":\"36b5c8ec-89a2-474d-8337-644a2bb7772e\",\"type\":\"HelpTool\"},{\"attributes\":{\"overlay\":{\"id\":\"cedb1934-faf3-4347-8e0c-1262d6fa8e7a\",\"type\":\"BoxAnnotation\"}},\"id\":\"1217d438-c17f-422e-91ff-68363680ff15\",\"type\":\"BoxZoomTool\"},{\"attributes\":{},\"id\":\"3a5c264a-fc86-4ee5-8071-629b83c9777d\",\"type\":\"LinearScale\"},{\"attributes\":{},\"id\":\"cae3784b-c990-4985-8607-b22ed23c9724\",\"type\":\"BasicTicker\"},{\"attributes\":{\"plot\":null,\"text\":\"\"},\"id\":\"a7594010-87fb-44ff-91c9-c939d386d113\",\"type\":\"Title\"},{\"attributes\":{\"callback\":null},\"id\":\"06350b26-16ff-4849-bb12-95adf859a685\",\"type\":\"DataRange1d\"},{\"attributes\":{\"fill_alpha\":{\"value\":0.1},\"fill_color\":{\"value\":\"#1f77b4\"},\"line_alpha\":{\"value\":0.1},\"line_color\":{\"value\":\"#1f77b4\"},\"size\":{\"units\":\"screen\",\"value\":8},\"x\":{\"field\":\"x\"},\"y\":{\"field\":\"y\"}},\"id\":\"38506378-852b-41c7-8645-5afc4e0f2614\",\"type\":\"Circle\"},{\"attributes\":{},\"id\":\"e1233471-5faf-4935-8f6d-34e43ddedd14\",\"type\":\"SaveTool\"},{\"attributes\":{\"grid_line_alpha\":{\"value\":0.3},\"plot\":{\"id\":\"275933d4-8986-4ea5-967c-b06896c97cbe\",\"subtype\":\"Figure\",\"type\":\"Plot\"},\"ticker\":{\"id\":\"ed277e27-70aa-417f-95fe-84244d52ef93\",\"type\":\"BasicTicker\"}},\"id\":\"a44e9b09-9a7f-4e57-8055-f59d1d954f74\",\"type\":\"Grid\"},{\"attributes\":{\"source\":{\"id\":\"5b6238e9-733a-4125-83ee-a160eead023c\",\"type\":\"ColumnDataSource\"}},\"id\":\"f12952da-5135-42ba-a872-843d86e39362\",\"type\":\"CDSView\"},{\"attributes\":{\"data_source\":{\"id\":\"5b6238e9-733a-4125-83ee-a160eead023c\",\"type\":\"ColumnDataSource\"},\"glyph\":{\"id\":\"d614c91c-4a16-476e-8547-bf8f635b9654\",\"type\":\"Circle\"},\"hover_glyph\":null,\"muted_glyph\":null,\"nonselection_glyph\":{\"id\":\"38506378-852b-41c7-8645-5afc4e0f2614\",\"type\":\"Circle\"},\"selection_glyph\":null,\"view\":{\"id\":\"f12952da-5135-42ba-a872-843d86e39362\",\"type\":\"CDSView\"}},\"id\":\"d1488091-7e72-48b0-b695-e3d103cb4db1\",\"type\":\"GlyphRenderer\"},{\"attributes\":{},\"id\":\"c31624fa-eb9e-425b-838f-7b0d757c60d8\",\"type\":\"ResetTool\"},{\"attributes\":{\"dimension\":1,\"grid_line_alpha\":{\"value\":0.3},\"plot\":{\"id\":\"275933d4-8986-4ea5-967c-b06896c97cbe\",\"subtype\":\"Figure\",\"type\":\"Plot\"},\"ticker\":{\"id\":\"cae3784b-c990-4985-8607-b22ed23c9724\",\"type\":\"BasicTicker\"}},\"id\":\"29bf39ef-6b0e-4579-b9b0-6470319345ae\",\"type\":\"Grid\"},{\"attributes\":{\"callback\":null,\"column_names\":[\"x\",\"y\"],\"data\":{\"x\":[0,0,0,0,0,1,1,1,1,1,2,2,2,2,2,3,3,3,3,3,4,4,4,4,4,5,5,5,5,5,6,6,6,6,6,7,7,7,7,7,8,8,8,8,8,9,9,9,9,9,10,10,10,10,10,11,11,11,11,11],\"y\":[0.2,0.0,0.5,0.3,0.8,0.1,0.5,0.2,0.8,0.8,0.8,1.0,0.8,0.1,0.3,0.9,0.2,1.5,0.1,0.75,0.3,0.7,0.6,0.9,1.0,1.0,0.9,0.9,1.0,1.0,1.0,1.0,0.8,1.0,1.0,1.0,1.0,1.0,1.0,1.0,0.7,1.3,0.8,0.5,1.0,1.1,0.4,1.2,1.3,1.2,1.2,1.2,0.5,0.7,0.7,1.1,1.4,1.8,0.6,0.8]}},\"id\":\"5b6238e9-733a-4125-83ee-a160eead023c\",\"type\":\"ColumnDataSource\"},{\"attributes\":{},\"id\":\"91ed05d5-b2b8-48dc-b639-695a6d4eea1b\",\"type\":\"LinearScale\"},{\"attributes\":{\"fill_alpha\":{\"value\":0.5},\"fill_color\":{\"value\":\"#1f77b4\"},\"line_color\":{\"value\":\"#1f77b4\"},\"size\":{\"units\":\"screen\",\"value\":8},\"x\":{\"field\":\"x\"},\"y\":{\"field\":\"y\"}},\"id\":\"d614c91c-4a16-476e-8547-bf8f635b9654\",\"type\":\"Circle\"},{\"attributes\":{},\"id\":\"12767fb2-7cbf-4388-aa23-d54ca4b5e73d\",\"type\":\"BasicTickFormatter\"},{\"attributes\":{\"axis_label\":\"value\",\"formatter\":{\"id\":\"12767fb2-7cbf-4388-aa23-d54ca4b5e73d\",\"type\":\"BasicTickFormatter\"},\"plot\":{\"id\":\"275933d4-8986-4ea5-967c-b06896c97cbe\",\"subtype\":\"Figure\",\"type\":\"Plot\"},\"ticker\":{\"id\":\"cae3784b-c990-4985-8607-b22ed23c9724\",\"type\":\"BasicTicker\"}},\"id\":\"f26fca30-4e97-4830-b098-55f804c28f3d\",\"type\":\"LinearAxis\"},{\"attributes\":{\"axis_label\":\"condition\",\"formatter\":{\"id\":\"48e3941d-b76c-451b-b6a2-197b7e60e8bf\",\"type\":\"BasicTickFormatter\"},\"plot\":{\"id\":\"275933d4-8986-4ea5-967c-b06896c97cbe\",\"subtype\":\"Figure\",\"type\":\"Plot\"},\"ticker\":{\"id\":\"ed277e27-70aa-417f-95fe-84244d52ef93\",\"type\":\"BasicTicker\"}},\"id\":\"d9271b89-67bc-496d-b19a-540ba3674d4c\",\"type\":\"LinearAxis\"},{\"attributes\":{\"bottom_units\":\"screen\",\"fill_alpha\":{\"value\":0.5},\"fill_color\":{\"value\":\"lightgrey\"},\"left_units\":\"screen\",\"level\":\"overlay\",\"line_alpha\":{\"value\":1.0},\"line_color\":{\"value\":\"black\"},\"line_dash\":[4,4],\"line_width\":{\"value\":2},\"plot\":null,\"render_mode\":\"css\",\"right_units\":\"screen\",\"top_units\":\"screen\"},\"id\":\"cedb1934-faf3-4347-8e0c-1262d6fa8e7a\",\"type\":\"BoxAnnotation\"},{\"attributes\":{\"active_drag\":\"auto\",\"active_inspect\":\"auto\",\"active_scroll\":\"auto\",\"active_tap\":\"auto\",\"tools\":[{\"id\":\"dd49225e-14cd-49ef-8702-a7ba0babd4b9\",\"type\":\"PanTool\"},{\"id\":\"f668ae79-574c-42a4-85b1-f5905a19532c\",\"type\":\"WheelZoomTool\"},{\"id\":\"1217d438-c17f-422e-91ff-68363680ff15\",\"type\":\"BoxZoomTool\"},{\"id\":\"e1233471-5faf-4935-8f6d-34e43ddedd14\",\"type\":\"SaveTool\"},{\"id\":\"c31624fa-eb9e-425b-838f-7b0d757c60d8\",\"type\":\"ResetTool\"},{\"id\":\"36b5c8ec-89a2-474d-8337-644a2bb7772e\",\"type\":\"HelpTool\"}]},\"id\":\"db2ff056-9060-4859-81f0-5be3696ac96a\",\"type\":\"Toolbar\"},{\"attributes\":{\"below\":[{\"id\":\"d9271b89-67bc-496d-b19a-540ba3674d4c\",\"type\":\"LinearAxis\"}],\"left\":[{\"id\":\"f26fca30-4e97-4830-b098-55f804c28f3d\",\"type\":\"LinearAxis\"}],\"plot_height\":490,\"plot_width\":1000,\"renderers\":[{\"id\":\"d9271b89-67bc-496d-b19a-540ba3674d4c\",\"type\":\"LinearAxis\"},{\"id\":\"a44e9b09-9a7f-4e57-8055-f59d1d954f74\",\"type\":\"Grid\"},{\"id\":\"f26fca30-4e97-4830-b098-55f804c28f3d\",\"type\":\"LinearAxis\"},{\"id\":\"29bf39ef-6b0e-4579-b9b0-6470319345ae\",\"type\":\"Grid\"},{\"id\":\"cedb1934-faf3-4347-8e0c-1262d6fa8e7a\",\"type\":\"BoxAnnotation\"},{\"id\":\"d1488091-7e72-48b0-b695-e3d103cb4db1\",\"type\":\"GlyphRenderer\"}],\"title\":{\"id\":\"a7594010-87fb-44ff-91c9-c939d386d113\",\"type\":\"Title\"},\"toolbar\":{\"id\":\"db2ff056-9060-4859-81f0-5be3696ac96a\",\"type\":\"Toolbar\"},\"x_range\":{\"id\":\"4ea47209-2a7e-444d-bb83-f25b8ce6f474\",\"type\":\"DataRange1d\"},\"x_scale\":{\"id\":\"91ed05d5-b2b8-48dc-b639-695a6d4eea1b\",\"type\":\"LinearScale\"},\"y_range\":{\"id\":\"06350b26-16ff-4849-bb12-95adf859a685\",\"type\":\"DataRange1d\"},\"y_scale\":{\"id\":\"3a5c264a-fc86-4ee5-8071-629b83c9777d\",\"type\":\"LinearScale\"}},\"id\":\"275933d4-8986-4ea5-967c-b06896c97cbe\",\"subtype\":\"Figure\",\"type\":\"Plot\"}],\"root_ids\":[\"275933d4-8986-4ea5-967c-b06896c97cbe\"]},\"title\":\"Bokeh Application\",\"version\":\"0.12.14\"}}';\n",
       "          var render_items = [{\"docid\":\"e6865a65-2f3b-40a9-9f41-ecc527c7e10e\",\"elementid\":\"9fa43ccd-55f5-4407-8a7a-27d27e26d8c0\",\"modelid\":\"275933d4-8986-4ea5-967c-b06896c97cbe\"}];\n",
       "          root.Bokeh.embed.embed_items(docs_json, render_items);\n",
       "        \n",
       "          }\n",
       "          if (root.Bokeh !== undefined) {\n",
       "            embed_document(root);\n",
       "          } else {\n",
       "            var attempts = 0;\n",
       "            var timer = setInterval(function(root) {\n",
       "              if (root.Bokeh !== undefined) {\n",
       "                embed_document(root);\n",
       "                clearInterval(timer);\n",
       "              }\n",
       "              attempts++;\n",
       "              if (attempts > 100) {\n",
       "                console.log(\"Bokeh: ERROR: Unable to run BokehJS code because BokehJS library is missing\")\n",
       "                clearInterval(timer);\n",
       "              }\n",
       "            }, 10, root)\n",
       "          }\n",
       "        })(window);\n",
       "      });\n",
       "    };\n",
       "    if (document.readyState != \"loading\") fn();\n",
       "    else document.addEventListener(\"DOMContentLoaded\", fn);\n",
       "  })();\n",
       "</script><div style=\"padding:5px\" id=\"pd-bkchartdiv-4754568b\">\n",
       "<div class=\"bk-root\">\n",
       "    <div class=\"bk-plotdiv\" id=\"9fa43ccd-55f5-4407-8a7a-27d27e26d8c0\"></div>\n",
       "</div></div>\n",
       "                    \n",
       "                        <div>Filtered option color with value condition. Reason color value is already used in keys or values for this chart</div>\n",
       "                    \n",
       "                \n",
       "        </div>"
      ],
      "text/plain": [
       "<IPython.core.display.HTML object>"
      ]
     },
     "metadata": {},
     "output_type": "display_data"
    }
   ],
   "source": [
    "display(df)\n"
   ]
  },
  {
   "cell_type": "code",
   "execution_count": 108,
   "metadata": {},
   "outputs": [
    {
     "name": "stderr",
     "output_type": "stream",
     "text": [
      "C:\\ProgramData\\Anaconda3\\lib\\site-packages\\matplotlib\\font_manager.py:1328: UserWarning: findfont: Font family ['serif'] not found. Falling back to DejaVu Sans\n",
      "  (prop.get_family(), self.defaultFamily[fontext]))\n"
     ]
    },
    {
     "data": {
      "image/png": "[encoded data removed]",
      "text/plain": [
       "<Figure size 432x288 with 1 Axes>"
      ]
     },
     "metadata": {},
     "output_type": "display_data"
    }
   ],
   "source": [
    "sns.boxplot(x='condition', y=\"value\",data=df, palette=\"PRGn\")\n",
    "sns.despine(offset=10, trim=True)"
   ]
  },
  {
   "cell_type": "code",
   "execution_count": 109,
   "metadata": {},
   "outputs": [
    {
     "name": "stderr",
     "output_type": "stream",
     "text": [
      "C:\\ProgramData\\Anaconda3\\lib\\site-packages\\matplotlib\\font_manager.py:1328: UserWarning: findfont: Font family ['serif'] not found. Falling back to DejaVu Sans\n",
      "  (prop.get_family(), self.defaultFamily[fontext]))\n"
     ]
    },
    {
     "data": {
      "image/png": "[encoded data removed]",
      "text/plain": [
       "<Figure size 432x288 with 1 Axes>"
      ]
     },
     "metadata": {},
     "output_type": "display_data"
    }
   ],
   "source": [
    "sns.violinplot(x='condition', y=\"value\", data = df, split=True)\n",
    "sns.despine(offset=10, trim=True)"
   ]
  },
  {
   "cell_type": "code",
   "execution_count": null,
   "metadata": {},
   "outputs": [],
   "source": []
  },
  {
   "cell_type": "markdown",
   "metadata": {},
   "source": [
    "conditionを面積に変換"
   ]
  },
  {
   "cell_type": "code",
   "execution_count": 110,
   "metadata": {},
   "outputs": [],
   "source": [
    "condition_d = {0:20,1:20,2:20,3:20,4:40,5:40,6:40,7:40,8:60,9:60,10:60,11:60}\n",
    "condition_l = {0:40,1:45,2:50,3:55,4:40,5:45,6:50,7:55,8:40,9:45,10:50,11:50}"
   ]
  },
  {
   "cell_type": "code",
   "execution_count": 111,
   "metadata": {},
   "outputs": [
    {
     "data": {
      "text/html": [
       "<div>\n",
       "<style scoped>\n",
       "    .dataframe tbody tr th:only-of-type {\n",
       "        vertical-align: middle;\n",
       "    }\n",
       "\n",
       "    .dataframe tbody tr th {\n",
       "        vertical-align: top;\n",
       "    }\n",
       "\n",
       "    .dataframe thead th {\n",
       "        text-align: right;\n",
       "    }\n",
       "</style>\n",
       "<table border=\"1\" class=\"dataframe\">\n",
       "  <thead>\n",
       "    <tr style=\"text-align: right;\">\n",
       "      <th></th>\n",
       "      <th>subject</th>\n",
       "      <th>condition</th>\n",
       "      <th>value</th>\n",
       "      <th>l</th>\n",
       "      <th>d</th>\n",
       "    </tr>\n",
       "  </thead>\n",
       "  <tbody>\n",
       "    <tr>\n",
       "      <th>0</th>\n",
       "      <td>âè</td>\n",
       "      <td>8</td>\n",
       "      <td>1.3</td>\n",
       "      <td>40</td>\n",
       "      <td>60</td>\n",
       "    </tr>\n",
       "    <tr>\n",
       "      <th>1</th>\n",
       "      <td>âè</td>\n",
       "      <td>1</td>\n",
       "      <td>0.8</td>\n",
       "      <td>45</td>\n",
       "      <td>20</td>\n",
       "    </tr>\n",
       "    <tr>\n",
       "      <th>2</th>\n",
       "      <td>âè</td>\n",
       "      <td>11</td>\n",
       "      <td>0.6</td>\n",
       "      <td>50</td>\n",
       "      <td>60</td>\n",
       "    </tr>\n",
       "    <tr>\n",
       "      <th>3</th>\n",
       "      <td>âè</td>\n",
       "      <td>10</td>\n",
       "      <td>0.5</td>\n",
       "      <td>50</td>\n",
       "      <td>60</td>\n",
       "    </tr>\n",
       "    <tr>\n",
       "      <th>4</th>\n",
       "      <td>âè</td>\n",
       "      <td>7</td>\n",
       "      <td>1.0</td>\n",
       "      <td>55</td>\n",
       "      <td>40</td>\n",
       "    </tr>\n",
       "  </tbody>\n",
       "</table>\n",
       "</div>"
      ],
      "text/plain": [
       "  subject  condition  value   l   d\n",
       "0    âè          8    1.3  40  60\n",
       "1    âè          1    0.8  45  20\n",
       "2    âè         11    0.6  50  60\n",
       "3    âè         10    0.5  50  60\n",
       "4    âè          7    1.0  55  40"
      ]
     },
     "execution_count": 111,
     "metadata": {},
     "output_type": "execute_result"
    }
   ],
   "source": [
    "df.loc[:,\"l\"] = df.loc[:,\"condition\"].map(condition_l)\n",
    "df.loc[:,\"d\"] = df.loc[:,\"condition\"].map(condition_d)\n",
    "df.head()"
   ]
  },
  {
   "cell_type": "code",
   "execution_count": 112,
   "metadata": {},
   "outputs": [
    {
     "data": {
      "text/html": [
       "<div>\n",
       "<style scoped>\n",
       "    .dataframe tbody tr th:only-of-type {\n",
       "        vertical-align: middle;\n",
       "    }\n",
       "\n",
       "    .dataframe tbody tr th {\n",
       "        vertical-align: top;\n",
       "    }\n",
       "\n",
       "    .dataframe thead th {\n",
       "        text-align: right;\n",
       "    }\n",
       "</style>\n",
       "<table border=\"1\" class=\"dataframe\">\n",
       "  <thead>\n",
       "    <tr style=\"text-align: right;\">\n",
       "      <th></th>\n",
       "      <th>subject</th>\n",
       "      <th>condition</th>\n",
       "      <th>value</th>\n",
       "      <th>l</th>\n",
       "      <th>d</th>\n",
       "      <th>S</th>\n",
       "    </tr>\n",
       "  </thead>\n",
       "  <tbody>\n",
       "    <tr>\n",
       "      <th>0</th>\n",
       "      <td>âè</td>\n",
       "      <td>8</td>\n",
       "      <td>1.3</td>\n",
       "      <td>40</td>\n",
       "      <td>60</td>\n",
       "      <td>2400</td>\n",
       "    </tr>\n",
       "    <tr>\n",
       "      <th>1</th>\n",
       "      <td>âè</td>\n",
       "      <td>1</td>\n",
       "      <td>0.8</td>\n",
       "      <td>45</td>\n",
       "      <td>20</td>\n",
       "      <td>900</td>\n",
       "    </tr>\n",
       "    <tr>\n",
       "      <th>2</th>\n",
       "      <td>âè</td>\n",
       "      <td>11</td>\n",
       "      <td>0.6</td>\n",
       "      <td>50</td>\n",
       "      <td>60</td>\n",
       "      <td>3000</td>\n",
       "    </tr>\n",
       "    <tr>\n",
       "      <th>3</th>\n",
       "      <td>âè</td>\n",
       "      <td>10</td>\n",
       "      <td>0.5</td>\n",
       "      <td>50</td>\n",
       "      <td>60</td>\n",
       "      <td>3000</td>\n",
       "    </tr>\n",
       "    <tr>\n",
       "      <th>4</th>\n",
       "      <td>âè</td>\n",
       "      <td>7</td>\n",
       "      <td>1.0</td>\n",
       "      <td>55</td>\n",
       "      <td>40</td>\n",
       "      <td>2200</td>\n",
       "    </tr>\n",
       "  </tbody>\n",
       "</table>\n",
       "</div>"
      ],
      "text/plain": [
       "  subject  condition  value   l   d     S\n",
       "0    âè          8    1.3  40  60  2400\n",
       "1    âè          1    0.8  45  20   900\n",
       "2    âè         11    0.6  50  60  3000\n",
       "3    âè         10    0.5  50  60  3000\n",
       "4    âè          7    1.0  55  40  2200"
      ]
     },
     "execution_count": 112,
     "metadata": {},
     "output_type": "execute_result"
    }
   ],
   "source": [
    "df.loc[:,\"S\"] = df.loc[:,\"l\"] * df.loc[:,\"d\"]\n",
    "df.head()"
   ]
  },
  {
   "cell_type": "code",
   "execution_count": 113,
   "metadata": {
    "pixiedust": {
     "displayParams": {
      "handlerId": "scatterPlot",
      "keyFields": "S",
      "rendererId": "matplotlib",
      "valueFields": "value"
     }
    }
   },
   "outputs": [
    {
     "data": {
      "text/html": [
       "<style type=\"text/css\">.pd_warning{display:none;}</style><div class=\"pd_warning\"><em>Hey, there's something awesome here! To see it, open this notebook outside GitHub, in a viewer like Jupyter</em></div>\n",
       "        <div class=\"pd_save is-viewer-good\" style=\"padding-right:10px;text-align: center;line-height:initial !important;font-size: xx-large;font-weight: 500;color: coral;\">\n",
       "            \n",
       "        </div>\n",
       "    <div id=\"chartFiguref68496bc\" class=\"pd_save is-viewer-good\" style=\"overflow-x:auto\">\n",
       "            \n",
       "                    \n",
       "                            <center><img style=\"max-width:initial !important\" src=\"data:image/png;base64,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\" class=\"pd_save\"></center>\n",
       "                        \n",
       "                    \n",
       "                \n",
       "        </div>"
      ],
      "text/plain": [
       "<IPython.core.display.HTML object>"
      ]
     },
     "metadata": {},
     "output_type": "display_data"
    }
   ],
   "source": [
    "display(df)\n"
   ]
  },
  {
   "cell_type": "code",
   "execution_count": 114,
   "metadata": {},
   "outputs": [
    {
     "name": "stderr",
     "output_type": "stream",
     "text": [
      "C:\\ProgramData\\Anaconda3\\lib\\site-packages\\matplotlib\\font_manager.py:1328: UserWarning: findfont: Font family ['serif'] not found. Falling back to DejaVu Sans\n",
      "  (prop.get_family(), self.defaultFamily[fontext]))\n"
     ]
    },
    {
     "data": {
      "image/png": "[encoded data removed]",
      "text/plain": [
       "<Figure size 432x288 with 1 Axes>"
      ]
     },
     "metadata": {},
     "output_type": "display_data"
    }
   ],
   "source": [
    "sns.boxplot(x='S', y=\"value\",data=df, palette=\"PRGn\")\n",
    "sns.despine(offset=10, trim=True)"
   ]
  },
  {
   "cell_type": "markdown",
   "metadata": {},
   "source": [
    "べき乗則 (感覚値)=c*x^kでフィッティングしてみる"
   ]
  },
  {
   "cell_type": "code",
   "execution_count": 115,
   "metadata": {},
   "outputs": [
    {
     "data": {
      "text/plain": [
       "<matplotlib.axes._subplots.AxesSubplot at 0x101a1eb8>"
      ]
     },
     "execution_count": 115,
     "metadata": {},
     "output_type": "execute_result"
    },
    {
     "name": "stderr",
     "output_type": "stream",
     "text": [
      "C:\\ProgramData\\Anaconda3\\lib\\site-packages\\matplotlib\\font_manager.py:1328: UserWarning: findfont: Font family ['serif'] not found. Falling back to DejaVu Sans\n",
      "  (prop.get_family(), self.defaultFamily[fontext]))\n"
     ]
    },
    {
     "data": {
      "image/png": "[encoded data removed]",
      "text/plain": [
       "<Figure size 432x288 with 1 Axes>"
      ]
     },
     "metadata": {},
     "output_type": "display_data"
    }
   ],
   "source": [
    "list_y = []\n",
    "array_x = df[\"S\"].values\n",
    "array_y = df[\"value\"].values\n",
    "\n",
    "sns.pointplot(x=array_x, y=array_y, join=False)"
   ]
  },
  {
   "cell_type": "code",
   "execution_count": 116,
   "metadata": {},
   "outputs": [],
   "source": [
    "def power_low(x,c,k):\n",
    "    return c*(x**k)"
   ]
  },
  {
   "cell_type": "code",
   "execution_count": 117,
   "metadata": {},
   "outputs": [
    {
     "name": "stdout",
     "output_type": "stream",
     "text": [
      "c= 0.012215540895764453\n",
      "k= 0.558884117745741\n"
     ]
    }
   ],
   "source": [
    "param, cov = curve_fit(power_low, df[\"S\"].values, df[\"value\"].values)\n",
    "print(\"c=\",param[0])\n",
    "print(\"k=\",param[1])"
   ]
  },
  {
   "cell_type": "code",
   "execution_count": 118,
   "metadata": {},
   "outputs": [
    {
     "name": "stderr",
     "output_type": "stream",
     "text": [
      "C:\\ProgramData\\Anaconda3\\lib\\site-packages\\matplotlib\\font_manager.py:1328: UserWarning: findfont: Font family ['serif'] not found. Falling back to DejaVu Sans\n",
      "  (prop.get_family(), self.defaultFamily[fontext]))\n"
     ]
    },
    {
     "data": {
      "image/png": "[encoded data removed]",
      "text/plain": [
       "<Figure size 432x288 with 2 Axes>"
      ]
     },
     "metadata": {},
     "output_type": "display_data"
    }
   ],
   "source": [
    "results.params\n",
    "fig = plt.figure()\n",
    "ax1 = fig.add_subplot(111)\n",
    "list_y = []\n",
    "axis_x = np.arange(500,3000,10)\n",
    "\n",
    "for num in axis_x:\n",
    "    list_y.append(math.e**results.params[0]*(num**results.params[1]) )\n",
    "\n",
    "\n",
    "ln1=ax1.plot(axis_x, np.array(list_y).reshape(-1),'C0')\n",
    "ax1.set_ylim(0,1.75)\n",
    "\n",
    "ax2 = ax1.twinx()\n",
    "ax2.set_ylim(0,1.75)\n",
    "ln2=ax2.plot(array_x,array_y,'C1',marker=\".\",linestyle='None')"
   ]
  },
  {
   "cell_type": "markdown",
   "metadata": {},
   "source": [
    "statsmodelでOLSでべき乗そくをフィッティング"
   ]
  },
  {
   "cell_type": "code",
   "execution_count": 119,
   "metadata": {},
   "outputs": [],
   "source": [
    "data = df.loc[df[\"value\"] != 0,:] #logとるので0を除く\n",
    "formula = 'np.log(value) ~ np.log(S)'\n",
    "results = smf.ols(formula, data=data).fit()"
   ]
  },
  {
   "cell_type": "code",
   "execution_count": 120,
   "metadata": {},
   "outputs": [
    {
     "name": "stdout",
     "output_type": "stream",
     "text": [
      "                            OLS Regression Results                            \n",
      "==============================================================================\n",
      "Dep. Variable:          np.log(value)   R-squared:                       0.281\n",
      "Model:                            OLS   Adj. R-squared:                  0.269\n",
      "Method:                 Least Squares   F-statistic:                     22.31\n",
      "Date:                Tue, 11 Sep 2018   Prob (F-statistic):           1.55e-05\n",
      "Time:                        16:48:18   Log-Likelihood:                -49.380\n",
      "No. Observations:                  59   AIC:                             102.8\n",
      "Df Residuals:                      57   BIC:                             106.9\n",
      "Df Model:                           1                                         \n",
      "Covariance Type:            nonrobust                                         \n",
      "==============================================================================\n",
      "                 coef    std err          t      P>|t|      [0.025      0.975]\n",
      "------------------------------------------------------------------------------\n",
      "Intercept     -6.1287      1.224     -5.009      0.000      -8.579      -3.678\n",
      "np.log(S)      0.7742      0.164      4.724      0.000       0.446       1.102\n",
      "==============================================================================\n",
      "Omnibus:                       11.680   Durbin-Watson:                   1.548\n",
      "Prob(Omnibus):                  0.003   Jarque-Bera (JB):               11.828\n",
      "Skew:                          -1.011   Prob(JB):                      0.00270\n",
      "Kurtosis:                       3.850   Cond. No.                         126.\n",
      "==============================================================================\n",
      "\n",
      "Warnings:\n",
      "[1] Standard Errors assume that the covariance matrix of the errors is correctly specified.\n"
     ]
    }
   ],
   "source": [
    "print(results.summary())"
   ]
  },
  {
   "cell_type": "code",
   "execution_count": 121,
   "metadata": {},
   "outputs": [
    {
     "data": {
      "text/plain": [
       "[<matplotlib.lines.Line2D at 0x100c6860>]"
      ]
     },
     "execution_count": 121,
     "metadata": {},
     "output_type": "execute_result"
    },
    {
     "name": "stderr",
     "output_type": "stream",
     "text": [
      "C:\\ProgramData\\Anaconda3\\lib\\site-packages\\matplotlib\\font_manager.py:1328: UserWarning: findfont: Font family ['serif'] not found. Falling back to DejaVu Sans\n",
      "  (prop.get_family(), self.defaultFamily[fontext]))\n"
     ]
    },
    {
     "data": {
      "image/png": "[encoded data removed]",
      "text/plain": [
       "<Figure size 576x432 with 1 Axes>"
      ]
     },
     "metadata": {},
     "output_type": "display_data"
    }
   ],
   "source": [
    "#yがlogスケールのプロット\n",
    "x = data[\"S\"]\n",
    "y = data[\"value\"]\n",
    "\n",
    "\n",
    "ig, ax = plt.subplots(figsize=(8,6))\n",
    "\n",
    "ax.plot(x, np.log(y), 'o', label=\"data\")\n",
    "ax.plot(x, results.fittedvalues, 'r--.', label=\"OLS\",linestyle='None')\n"
   ]
  },
  {
   "cell_type": "code",
   "execution_count": 122,
   "metadata": {},
   "outputs": [
    {
     "name": "stderr",
     "output_type": "stream",
     "text": [
      "C:\\ProgramData\\Anaconda3\\lib\\site-packages\\matplotlib\\font_manager.py:1328: UserWarning: findfont: Font family ['serif'] not found. Falling back to DejaVu Sans\n",
      "  (prop.get_family(), self.defaultFamily[fontext]))\n"
     ]
    },
    {
     "data": {
      "image/png": "[encoded data removed]",
      "text/plain": [
       "<Figure size 432x288 with 2 Axes>"
      ]
     },
     "metadata": {},
     "output_type": "display_data"
    }
   ],
   "source": [
    "#ｙを元のスケールに戻してプロット#ｙを元のスケールに戻してプロット\n",
    "results.params\n",
    "fig = plt.figure()\n",
    "ax1 = fig.add_subplot(111)\n",
    "list_y = []\n",
    "axis_x = np.arange(500,3000,10)\n",
    "\n",
    "for num in axis_x:\n",
    "    list_y.append(math.e**results.params[0]*(num**results.params[1]) )\n",
    "\n",
    "\n",
    "ln1=ax1.plot(axis_x, np.array(list_y).reshape(-1),'C0')\n",
    "ax1.set_ylim(0,1.75)\n",
    "\n",
    "ax2 = ax1.twinx()\n",
    "ax2.set_ylim(0,1.75)\n",
    "ln2=ax2.plot(array_x,array_y,'C1',marker=\".\",linestyle='None')"
   ]
  },
  {
   "cell_type": "markdown",
   "metadata": {},
   "source": [
    "cv値を計算する"
   ]
  },
  {
   "cell_type": "code",
   "execution_count": 123,
   "metadata": {},
   "outputs": [
    {
     "name": "stdout",
     "output_type": "stream",
     "text": [
      "KFold(n_splits=5, random_state=None, shuffle=True)\n",
      "TRAIN: [ 0  1  2  3  4  6  7  8  9 10 11 12 15 16 17 18 19 20 22 25 26 27 28 29\n",
      " 30 31 32 33 34 35 36 38 39 40 41 44 45 46 47 49 50 52 54 55 56 57 58] TEST: [ 5 13 14 21 23 24 37 42 43 48 51 53]\n",
      "train len 47 test len 12\n",
      "TRAIN: [ 0  1  3  5  7  8  9 10 11 13 14 16 17 18 20 21 22 23 24 26 27 29 30 31\n",
      " 32 33 34 35 36 37 38 39 40 41 42 43 45 46 48 49 50 51 53 54 55 56 57] TEST: [ 2  4  6 12 15 19 25 28 44 47 52 58]\n",
      "train len 47 test len 12\n",
      "TRAIN: [ 0  1  2  3  4  5  6  9 10 11 12 13 14 15 16 19 21 22 23 24 25 26 27 28\n",
      " 32 33 34 35 37 38 41 42 43 44 46 47 48 49 50 51 52 53 54 55 56 57 58] TEST: [ 7  8 17 18 20 29 30 31 36 39 40 45]\n",
      "train len 47 test len 12\n",
      "TRAIN: [ 2  3  4  5  6  7  8 12 13 14 15 16 17 18 19 20 21 22 23 24 25 26 27 28\n",
      " 29 30 31 33 36 37 39 40 42 43 44 45 46 47 48 50 51 52 53 55 56 57 58] TEST: [ 0  1  9 10 11 32 34 35 38 41 49 54]\n",
      "train len 47 test len 12\n",
      "TRAIN: [ 0  1  2  4  5  6  7  8  9 10 11 12 13 14 15 17 18 19 20 21 23 24 25 28\n",
      " 29 30 31 32 34 35 36 37 38 39 40 41 42 43 44 45 47 48 49 51 52 53 54 58] TEST: [ 3 16 22 26 27 33 46 50 55 56 57]\n",
      "train len 48 test len 11\n"
     ]
    }
   ],
   "source": [
    "#方法1\n",
    "data = df.loc[df[\"value\"] != 0,:] #logとるので0を除く\n",
    "data = data.reset_index()\n",
    "\n",
    "kf_random = KFold(n_splits = 5,shuffle = True)\n",
    "kf_random.get_n_splits(data)\n",
    "print(kf_random)\n",
    "for train_index, test_index in kf_random.split(data):\n",
    "    print(\"TRAIN:\", train_index, \"TEST:\", test_index)\n",
    "    print(\"train len\", len(train_index), \"test len\", len(test_index))"
   ]
  },
  {
   "cell_type": "code",
   "execution_count": 124,
   "metadata": {},
   "outputs": [
    {
     "name": "stdout",
     "output_type": "stream",
     "text": [
      "Intercept   -4.861169\n",
      "np.log(S)    0.607409\n",
      "dtype: float64\n"
     ]
    },
    {
     "name": "stderr",
     "output_type": "stream",
     "text": [
      "C:\\ProgramData\\Anaconda3\\lib\\site-packages\\matplotlib\\font_manager.py:1328: UserWarning: findfont: Font family ['serif'] not found. Falling back to DejaVu Sans\n",
      "  (prop.get_family(), self.defaultFamily[fontext]))\n"
     ]
    },
    {
     "data": {
      "image/png": "[encoded data removed]",
      "text/plain": [
       "<Figure size 432x288 with 3 Axes>"
      ]
     },
     "metadata": {},
     "output_type": "display_data"
    },
    {
     "name": "stdout",
     "output_type": "stream",
     "text": [
      "Intercept   -5.296857\n",
      "np.log(S)    0.661667\n",
      "dtype: float64\n"
     ]
    },
    {
     "data": {
      "image/png": "[encoded data removed]",
      "text/plain": [
       "<Figure size 432x288 with 3 Axes>"
      ]
     },
     "metadata": {},
     "output_type": "display_data"
    },
    {
     "name": "stdout",
     "output_type": "stream",
     "text": [
      "Intercept   -6.719254\n",
      "np.log(S)    0.854358\n",
      "dtype: float64\n"
     ]
    },
    {
     "data": {
      "image/png": "[encoded data removed]",
      "text/plain": [
       "<Figure size 432x288 with 3 Axes>"
      ]
     },
     "metadata": {},
     "output_type": "display_data"
    },
    {
     "name": "stdout",
     "output_type": "stream",
     "text": [
      "Intercept   -6.614634\n",
      "np.log(S)    0.840688\n",
      "dtype: float64\n"
     ]
    },
    {
     "data": {
      "image/png": "[encoded data removed]",
      "text/plain": [
       "<Figure size 432x288 with 3 Axes>"
      ]
     },
     "metadata": {},
     "output_type": "display_data"
    },
    {
     "name": "stdout",
     "output_type": "stream",
     "text": [
      "Intercept   -7.075485\n",
      "np.log(S)    0.897248\n",
      "dtype: float64\n"
     ]
    },
    {
     "data": {
      "image/png": "[encoded data removed]",
      "text/plain": [
       "<Figure size 432x288 with 3 Axes>"
      ]
     },
     "metadata": {},
     "output_type": "display_data"
    }
   ],
   "source": [
    "#indexで5Foldに分ける\n",
    "cv_rand_results = []\n",
    "cv_rand_preds = []\n",
    "cv_rand_scores_rmse = []\n",
    "cv_rand_scores_mae = []\n",
    "\n",
    "\n",
    "\n",
    "\n",
    "i = 0\n",
    "x = data.loc[:11,\"S\"]\n",
    "\n",
    "formula = 'np.log(value) ~ np.log(S)'\n",
    "\n",
    "\n",
    "#一次式で回帰\n",
    "\n",
    "for train_index, test_index in kf_random.split(data):\n",
    "    \n",
    "    y_pred = []\n",
    "    \n",
    "    i += 1\n",
    "    data_train = data.loc[train_index,:]\n",
    "    data_test = data.loc[test_index,:]\n",
    "    \n",
    "    #fitting\n",
    "    \n",
    "    results = smf.ols(formula, data=data_train).fit()\n",
    "    cv_rand_results.append(results)\n",
    "    \n",
    "    #predict 元のスケールで\n",
    "    \n",
    "    test_x = data_test[\"S\"].values\n",
    "    for num in test_x:\n",
    "        y_pred.append(math.e**results.params[0]*(num**results.params[1]) )\n",
    "    \n",
    "    cv_rand_preds.append(y_pred)\n",
    "    \n",
    "    y_test = data_test[\"value\"].values\n",
    "    \n",
    "    \n",
    "    rmse = np.sqrt(mean_squared_error(y_test, y_pred))\n",
    "    cv_rand_scores_rmse.append(rmse)\n",
    "    mae = mean_absolute_error(y_test, y_pred)\n",
    "    cv_rand_scores_mae.append(mae)\n",
    "    \n",
    "    print(results.params)\n",
    "    \n",
    "    #plot\n",
    "    \n",
    "    fig = plt.figure()\n",
    "    ax1 = fig.add_subplot(111)\n",
    "    \n",
    "    axis_x = np.arange(500,3000,10)\n",
    "    \n",
    "    list_y =[]\n",
    "\n",
    "    for num in axis_x:\n",
    "        list_y.append(math.e**results.params[0]*(num**results.params[1]) )\n",
    "        \n",
    "    ##トレインデータ\n",
    "        \n",
    "\n",
    "    \n",
    "    ax1.set_ylim(0,1.75)\n",
    "    ln1=ax1.plot(data_train[\"S\"],data_train[\"value\"],'C1',marker=\".\",linestyle='None')\n",
    "    \n",
    "  \n",
    "    \n",
    "    \n",
    "    ##べき関数\n",
    "    \n",
    "    ax3 = ax1.twinx()\n",
    "    ax3.set_ylim(0,1.75)\n",
    "    ln3=ax3.plot(axis_x,list_y,'C1',marker=\".\",linestyle='None')\n",
    "    \n",
    "    ##テストデータ\n",
    "    \n",
    "    ax4 = ax1.twinx()\n",
    "    ax4.set_ylim(0,1.75)\n",
    "    ln4=ax4.plot(data_test[\"S\"],data_test[\"value\"],'C1',marker=\".\",linestyle='None',color='red')\n",
    "    \n",
    "    plt.savefig('figure/figure' + str(i) + '.png')\n",
    "    plt.show()"
   ]
  },
  {
   "cell_type": "code",
   "execution_count": 125,
   "metadata": {},
   "outputs": [
    {
     "name": "stdout",
     "output_type": "stream",
     "text": [
      "cv_randでの平方二乗誤差\n",
      "[0.3393293741834665, 0.3460512948614098, 0.27973872084712115, 0.28850915190246973, 0.43803881122253524]\n"
     ]
    }
   ],
   "source": [
    "print(\"cv_randでの平方二乗誤差\")\n",
    "print(cv_rand_scores_rmse)"
   ]
  },
  {
   "cell_type": "code",
   "execution_count": 126,
   "metadata": {},
   "outputs": [
    {
     "name": "stdout",
     "output_type": "stream",
     "text": [
      "cv_randscore_rmseの平均\n",
      "0.33833347060340047\n"
     ]
    }
   ],
   "source": [
    "print(\"cv_randscore_rmseの平均\")\n",
    "print(np.array(cv_rand_scores_rmse).mean())"
   ]
  },
  {
   "cell_type": "code",
   "execution_count": 127,
   "metadata": {},
   "outputs": [
    {
     "name": "stdout",
     "output_type": "stream",
     "text": [
      "cv_randでの絶対平均誤差\n",
      "[0.32382828604317404, 0.29281016776402613, 0.24270234771585406, 0.2354319531237082, 0.347718875273601]\n"
     ]
    }
   ],
   "source": [
    "print(\"cv_randでの絶対平均誤差\")\n",
    "print(cv_rand_scores_mae)"
   ]
  },
  {
   "cell_type": "code",
   "execution_count": 128,
   "metadata": {},
   "outputs": [
    {
     "name": "stdout",
     "output_type": "stream",
     "text": [
      "cv_randscore_maeの平均\n",
      "0.28849832598407266\n"
     ]
    }
   ],
   "source": [
    "print(\"cv_randscore_maeの平均\")\n",
    "print(np.array(cv_rand_scores_mae).mean())"
   ]
  },
  {
   "cell_type": "markdown",
   "metadata": {},
   "source": [
    "一次関数でもcv値計算してみる"
   ]
  },
  {
   "cell_type": "code",
   "execution_count": 168,
   "metadata": {},
   "outputs": [
    {
     "name": "stdout",
     "output_type": "stream",
     "text": [
      "                            OLS Regression Results                            \n",
      "==============================================================================\n",
      "Dep. Variable:                  value   R-squared:                       0.195\n",
      "Model:                            OLS   Adj. R-squared:                  0.177\n",
      "Method:                 Least Squares   F-statistic:                     10.92\n",
      "Date:                Wed, 12 Sep 2018   Prob (F-statistic):            0.00187\n",
      "Time:                        11:51:59   Log-Likelihood:                -10.080\n",
      "No. Observations:                  47   AIC:                             24.16\n",
      "Df Residuals:                      45   BIC:                             27.86\n",
      "Df Model:                           1                                         \n",
      "Covariance Type:            nonrobust                                         \n",
      "==============================================================================\n",
      "                 coef    std err          t      P>|t|      [0.025      0.975]\n",
      "------------------------------------------------------------------------------\n",
      "Intercept      0.4585      0.122      3.765      0.000       0.213       0.704\n",
      "S              0.0002   5.93e-05      3.305      0.002    7.65e-05       0.000\n",
      "==============================================================================\n",
      "Omnibus:                        0.899   Durbin-Watson:                   1.707\n",
      "Prob(Omnibus):                  0.638   Jarque-Bera (JB):                0.608\n",
      "Skew:                          -0.278   Prob(JB):                        0.738\n",
      "Kurtosis:                       2.977   Cond. No.                     5.60e+03\n",
      "==============================================================================\n",
      "\n",
      "Warnings:\n",
      "[1] Standard Errors assume that the covariance matrix of the errors is correctly specified.\n",
      "[2] The condition number is large, 5.6e+03. This might indicate that there are\n",
      "strong multicollinearity or other numerical problems.\n",
      "Intercept    0.458537\n",
      "S            0.000196\n",
      "dtype: float64\n"
     ]
    },
    {
     "name": "stderr",
     "output_type": "stream",
     "text": [
      "C:\\ProgramData\\Anaconda3\\lib\\site-packages\\matplotlib\\font_manager.py:1328: UserWarning: findfont: Font family ['serif'] not found. Falling back to DejaVu Sans\n",
      "  (prop.get_family(), self.defaultFamily[fontext]))\n"
     ]
    },
    {
     "data": {
      "image/png": "[encoded data removed]",
      "text/plain": [
       "<Figure size 432x288 with 3 Axes>"
      ]
     },
     "metadata": {},
     "output_type": "display_data"
    },
    {
     "name": "stdout",
     "output_type": "stream",
     "text": [
      "                            OLS Regression Results                            \n",
      "==============================================================================\n",
      "Dep. Variable:                  value   R-squared:                       0.238\n",
      "Model:                            OLS   Adj. R-squared:                  0.221\n",
      "Method:                 Least Squares   F-statistic:                     14.08\n",
      "Date:                Wed, 12 Sep 2018   Prob (F-statistic):           0.000499\n",
      "Time:                        11:52:04   Log-Likelihood:                -15.888\n",
      "No. Observations:                  47   AIC:                             35.78\n",
      "Df Residuals:                      45   BIC:                             39.48\n",
      "Df Model:                           1                                         \n",
      "Covariance Type:            nonrobust                                         \n",
      "==============================================================================\n",
      "                 coef    std err          t      P>|t|      [0.025      0.975]\n",
      "------------------------------------------------------------------------------\n",
      "Intercept      0.3440      0.135      2.547      0.014       0.072       0.616\n",
      "S              0.0002   6.47e-05      3.752      0.000       0.000       0.000\n",
      "==============================================================================\n",
      "Omnibus:                        0.095   Durbin-Watson:                   1.733\n",
      "Prob(Omnibus):                  0.954   Jarque-Bera (JB):                0.292\n",
      "Skew:                           0.052   Prob(JB):                        0.864\n",
      "Kurtosis:                       2.628   Cond. No.                     5.58e+03\n",
      "==============================================================================\n",
      "\n",
      "Warnings:\n",
      "[1] Standard Errors assume that the covariance matrix of the errors is correctly specified.\n",
      "[2] The condition number is large, 5.58e+03. This might indicate that there are\n",
      "strong multicollinearity or other numerical problems.\n",
      "Intercept    0.343973\n",
      "S            0.000243\n",
      "dtype: float64\n"
     ]
    },
    {
     "data": {
      "image/png": "[encoded data removed]",
      "text/plain": [
       "<Figure size 432x288 with 3 Axes>"
      ]
     },
     "metadata": {},
     "output_type": "display_data"
    },
    {
     "name": "stdout",
     "output_type": "stream",
     "text": [
      "                            OLS Regression Results                            \n",
      "==============================================================================\n",
      "Dep. Variable:                  value   R-squared:                       0.333\n",
      "Model:                            OLS   Adj. R-squared:                  0.318\n",
      "Method:                 Least Squares   F-statistic:                     22.44\n",
      "Date:                Wed, 12 Sep 2018   Prob (F-statistic):           2.19e-05\n",
      "Time:                        11:52:09   Log-Likelihood:                -8.8460\n",
      "No. Observations:                  47   AIC:                             21.69\n",
      "Df Residuals:                      45   BIC:                             25.39\n",
      "Df Model:                           1                                         \n",
      "Covariance Type:            nonrobust                                         \n",
      "==============================================================================\n",
      "                 coef    std err          t      P>|t|      [0.025      0.975]\n",
      "------------------------------------------------------------------------------\n",
      "Intercept      0.3154      0.116      2.716      0.009       0.082       0.549\n",
      "S              0.0003    5.8e-05      4.737      0.000       0.000       0.000\n",
      "==============================================================================\n",
      "Omnibus:                        3.240   Durbin-Watson:                   1.569\n",
      "Prob(Omnibus):                  0.198   Jarque-Bera (JB):                2.961\n",
      "Skew:                          -0.605   Prob(JB):                        0.228\n",
      "Kurtosis:                       2.782   Cond. No.                     5.34e+03\n",
      "==============================================================================\n",
      "\n",
      "Warnings:\n",
      "[1] Standard Errors assume that the covariance matrix of the errors is correctly specified.\n",
      "[2] The condition number is large, 5.34e+03. This might indicate that there are\n",
      "strong multicollinearity or other numerical problems.\n",
      "Intercept    0.315447\n",
      "S            0.000275\n",
      "dtype: float64\n"
     ]
    },
    {
     "data": {
      "image/png": "[encoded data removed]",
      "text/plain": [
       "<Figure size 432x288 with 3 Axes>"
      ]
     },
     "metadata": {},
     "output_type": "display_data"
    },
    {
     "name": "stdout",
     "output_type": "stream",
     "text": [
      "                            OLS Regression Results                            \n",
      "==============================================================================\n",
      "Dep. Variable:                  value   R-squared:                       0.269\n",
      "Model:                            OLS   Adj. R-squared:                  0.253\n",
      "Method:                 Least Squares   F-statistic:                     16.56\n",
      "Date:                Wed, 12 Sep 2018   Prob (F-statistic):           0.000188\n",
      "Time:                        11:52:14   Log-Likelihood:                -13.750\n",
      "No. Observations:                  47   AIC:                             31.50\n",
      "Df Residuals:                      45   BIC:                             35.20\n",
      "Df Model:                           1                                         \n",
      "Covariance Type:            nonrobust                                         \n",
      "==============================================================================\n",
      "                 coef    std err          t      P>|t|      [0.025      0.975]\n",
      "------------------------------------------------------------------------------\n",
      "Intercept      0.2915      0.127      2.296      0.026       0.036       0.547\n",
      "S              0.0003   6.23e-05      4.069      0.000       0.000       0.000\n",
      "==============================================================================\n",
      "Omnibus:                        0.958   Durbin-Watson:                   1.613\n",
      "Prob(Omnibus):                  0.619   Jarque-Bera (JB):                0.508\n",
      "Skew:                           0.249   Prob(JB):                        0.776\n",
      "Kurtosis:                       3.110   Cond. No.                     5.35e+03\n",
      "==============================================================================\n",
      "\n",
      "Warnings:\n",
      "[1] Standard Errors assume that the covariance matrix of the errors is correctly specified.\n",
      "[2] The condition number is large, 5.35e+03. This might indicate that there are\n",
      "strong multicollinearity or other numerical problems.\n",
      "Intercept    0.291490\n",
      "S            0.000254\n",
      "dtype: float64\n"
     ]
    },
    {
     "data": {
      "image/png": "[encoded data removed]",
      "text/plain": [
       "<Figure size 432x288 with 3 Axes>"
      ]
     },
     "metadata": {},
     "output_type": "display_data"
    },
    {
     "name": "stdout",
     "output_type": "stream",
     "text": [
      "                            OLS Regression Results                            \n",
      "==============================================================================\n",
      "Dep. Variable:                  value   R-squared:                       0.252\n",
      "Model:                            OLS   Adj. R-squared:                  0.236\n",
      "Method:                 Least Squares   F-statistic:                     15.54\n",
      "Date:                Wed, 12 Sep 2018   Prob (F-statistic):           0.000273\n",
      "Time:                        11:52:19   Log-Likelihood:                -9.7639\n",
      "No. Observations:                  48   AIC:                             23.53\n",
      "Df Residuals:                      46   BIC:                             27.27\n",
      "Df Model:                           1                                         \n",
      "Covariance Type:            nonrobust                                         \n",
      "==============================================================================\n",
      "                 coef    std err          t      P>|t|      [0.025      0.975]\n",
      "------------------------------------------------------------------------------\n",
      "Intercept      0.4240      0.116      3.659      0.001       0.191       0.657\n",
      "S              0.0002    5.7e-05      3.942      0.000       0.000       0.000\n",
      "==============================================================================\n",
      "Omnibus:                        0.876   Durbin-Watson:                   1.858\n",
      "Prob(Omnibus):                  0.645   Jarque-Bera (JB):                0.265\n",
      "Skew:                           0.087   Prob(JB):                        0.876\n",
      "Kurtosis:                       3.319   Cond. No.                     5.38e+03\n",
      "==============================================================================\n",
      "\n",
      "Warnings:\n",
      "[1] Standard Errors assume that the covariance matrix of the errors is correctly specified.\n",
      "[2] The condition number is large, 5.38e+03. This might indicate that there are\n",
      "strong multicollinearity or other numerical problems.\n",
      "Intercept    0.423978\n",
      "S            0.000225\n",
      "dtype: float64\n"
     ]
    },
    {
     "data": {
      "image/png": "[encoded data removed]",
      "text/plain": [
       "<Figure size 432x288 with 3 Axes>"
      ]
     },
     "metadata": {},
     "output_type": "display_data"
    }
   ],
   "source": [
    "#indexで5Foldに分ける\n",
    "cv_rand_results = []\n",
    "cv_rand_preds = []\n",
    "cv_rand_scores_rmse = []\n",
    "cv_rand_scores_mae = []\n",
    "\n",
    "\n",
    "\n",
    "\n",
    "i = 0\n",
    "x = data.loc[:11,\"S\"]\n",
    "\n",
    "formula = 'value ~ S'\n",
    "\n",
    "\n",
    "#一次式で回帰\n",
    "\n",
    "for train_index, test_index in kf_random.split(data):\n",
    "    \n",
    "    y_pred = []\n",
    "    \n",
    "    i += 1\n",
    "    data_train = data.loc[train_index,:]\n",
    "    data_test = data.loc[test_index,:]\n",
    "    \n",
    "    #fitting\n",
    "    \n",
    "    results = smf.ols(formula, data=data_train).fit()\n",
    "    cv_rand_results.append(results)\n",
    "    \n",
    "    print(results.summary())\n",
    "    \n",
    "    #predict 元のスケールで\n",
    "    test_x = data_test[\"S\"].values\n",
    "    y_pred = results.predict(data_test)    \n",
    "    cv_rand_preds.append(y_pred)\n",
    "    \n",
    "    y_test = data_test[\"value\"].values\n",
    "    \n",
    "    \n",
    "    rmse = np.sqrt(mean_squared_error(y_test, y_pred))\n",
    "    cv_rand_scores_rmse.append(rmse)\n",
    "    mae = mean_absolute_error(y_test, y_pred)\n",
    "    cv_rand_scores_mae.append(mae)\n",
    "    \n",
    "    print(results.params)\n",
    "    \n",
    "    #plot\n",
    "    \n",
    "    fig = plt.figure()\n",
    "    ax1 = fig.add_subplot(111)\n",
    "    \n",
    "    axis_x = np.arange(500,3000,10)    \n",
    "    axis_x = pd.DataFrame({\"S\":axis_x})\n",
    "\n",
    "    list_y = results.predict(axis_x)\n",
    "        \n",
    "   ##トレインデータ\n",
    "    \n",
    "    ax1.set_ylim(0,1.75)\n",
    "    ln1=ax1.plot(data_train[\"S\"],data_train[\"value\"],'C1',marker=\".\",linestyle='None')\n",
    "    \n",
    "    ##近似関数\n",
    "    \n",
    "    ax3 = ax1.twinx()\n",
    "    ax3.set_ylim(0,1.75)\n",
    "    ln3=ax3.plot(axis_x,list_y,'C1',marker=\".\",linestyle='None')\n",
    "    \n",
    "    ##テストデータ\n",
    "    \n",
    "    ax4 = ax1.twinx()\n",
    "    ax4.set_ylim(0,1.75)\n",
    "    ln4=ax4.plot(data_test[\"S\"],data_test[\"value\"],'C1',marker=\".\",linestyle='None',color='red')\n",
    "    \n",
    "    plt.savefig('figure/figure' + str(i) + '.png')\n",
    "    plt.show()"
   ]
  },
  {
   "cell_type": "code",
   "execution_count": 130,
   "metadata": {
    "scrolled": true
   },
   "outputs": [
    {
     "name": "stdout",
     "output_type": "stream",
     "text": [
      "cv_randでの平方二乗誤差\n",
      "[0.24654723058815575, 0.40675883757584363, 0.35812224393633546, 0.3285321278707695, 0.3068891609139227]\n"
     ]
    }
   ],
   "source": [
    "print(\"cv_randでの平方二乗誤差\")\n",
    "print(cv_rand_scores_rmse)"
   ]
  },
  {
   "cell_type": "code",
   "execution_count": 131,
   "metadata": {},
   "outputs": [
    {
     "name": "stdout",
     "output_type": "stream",
     "text": [
      "cv_randscore_rmseの平均\n",
      "0.3293699201770054\n"
     ]
    }
   ],
   "source": [
    "print(\"cv_randscore_rmseの平均\")\n",
    "print(np.array(cv_rand_scores_rmse).mean())"
   ]
  },
  {
   "cell_type": "code",
   "execution_count": 132,
   "metadata": {},
   "outputs": [
    {
     "name": "stdout",
     "output_type": "stream",
     "text": [
      "cv_randでの絶対平均誤差\n",
      "[0.20499879042988126, 0.3396095815834497, 0.3024265552261916, 0.24346284883548877, 0.2784222616295164]\n"
     ]
    }
   ],
   "source": [
    "print(\"cv_randでの絶対平均誤差\")\n",
    "print(cv_rand_scores_mae)"
   ]
  },
  {
   "cell_type": "code",
   "execution_count": 133,
   "metadata": {},
   "outputs": [
    {
     "name": "stdout",
     "output_type": "stream",
     "text": [
      "cv_randscore_maeの平均\n",
      "0.2737840075409056\n"
     ]
    }
   ],
   "source": [
    "print(\"cv_randscore_maeの平均\")\n",
    "print(np.array(cv_rand_scores_mae).mean())"
   ]
  },
  {
   "cell_type": "code",
   "execution_count": 201,
   "metadata": {},
   "outputs": [],
   "source": [
    "\n",
    "results1 = smf.ols(formula, data=data).fit()"
   ]
  },
  {
   "cell_type": "code",
   "execution_count": 203,
   "metadata": {},
   "outputs": [
    {
     "name": "stderr",
     "output_type": "stream",
     "text": [
      "C:\\ProgramData\\Anaconda3\\lib\\site-packages\\matplotlib\\font_manager.py:1328: UserWarning: findfont: Font family ['serif'] not found. Falling back to DejaVu Sans\n",
      "  (prop.get_family(), self.defaultFamily[fontext]))\n"
     ]
    },
    {
     "data": {
      "image/png": "[encoded data removed]",
      "text/plain": [
       "<Figure size 432x288 with 1 Axes>"
      ]
     },
     "metadata": {},
     "output_type": "display_data"
    }
   ],
   "source": [
    "x = data[\"S\"]\n",
    "plt.plot(x, results1.fittedvalues, 'r-',marker=\".\",linestyle='None')\n",
    "cv = 0.27\n",
    "plt.plot(x, results1.fittedvalues+cv, 'r--',marker=\".\",linestyle='None')\n",
    "plt.plot(x, results1.fittedvalues-cv, 'r--',marker=\".\",linestyle='None')\n",
    "plt.xlabel(\"Phase difference [deg]\")\n",
    "plt.ylabel(\"VHI mgnitude [-]\")\n",
    "plt.show()"
   ]
  },
  {
   "cell_type": "code",
   "execution_count": 208,
   "metadata": {},
   "outputs": [
    {
     "name": "stderr",
     "output_type": "stream",
     "text": [
      "C:\\ProgramData\\Anaconda3\\lib\\site-packages\\matplotlib\\font_manager.py:1328: UserWarning: findfont: Font family ['serif'] not found. Falling back to DejaVu Sans\n",
      "  (prop.get_family(), self.defaultFamily[fontext]))\n"
     ]
    },
    {
     "data": {
      "image/png": "[encoded data removed]",
      "text/plain": [
       "<Figure size 432x288 with 2 Axes>"
      ]
     },
     "metadata": {},
     "output_type": "display_data"
    }
   ],
   "source": [
    "formula = formula = 'value ~ S'\n",
    "results = smf.ols(formula, data=data).fit()\n",
    "\n",
    "fig = plt.figure()\n",
    "ax1 = fig.add_subplot(111)\n",
    "    \n",
    "axis_x = np.arange(500,3000,10)    \n",
    "axis_x = pd.DataFrame({\"S\":axis_x})\n",
    "\n",
    "list_y = results.predict(axis_x)\n",
    "\n",
    "\n",
    "ax1.set_ylim(0,1.75)\n",
    "ln1=ax1.plot(data[\"S\"],data[\"value\"],'C1',marker=\".\",linestyle='None')\n",
    "\n",
    "ax3 = ax1.twinx()\n",
    "ax3.set_ylim(0,1.75)\n",
    "ln3=ax3.plot(axis_x,list_y,'C1',marker=\".\",linestyle='None')\n",
    "\n",
    "cv = 0.27\n",
    "ln4=ax3.plot(axis_x,list_y+cv,'C1',marker=\".\",linestyle='None')\n",
    "ln5=ax3.plot(axis_x,list_y-cv,'C1',marker=\".\",linestyle='None')"
   ]
  },
  {
   "cell_type": "code",
   "execution_count": 221,
   "metadata": {},
   "outputs": [
    {
     "data": {
      "text/html": [
       "<div>\n",
       "<style scoped>\n",
       "    .dataframe tbody tr th:only-of-type {\n",
       "        vertical-align: middle;\n",
       "    }\n",
       "\n",
       "    .dataframe tbody tr th {\n",
       "        vertical-align: top;\n",
       "    }\n",
       "\n",
       "    .dataframe thead th {\n",
       "        text-align: right;\n",
       "    }\n",
       "</style>\n",
       "<table border=\"1\" class=\"dataframe\">\n",
       "  <thead>\n",
       "    <tr style=\"text-align: right;\">\n",
       "      <th></th>\n",
       "      <th>S</th>\n",
       "    </tr>\n",
       "  </thead>\n",
       "  <tbody>\n",
       "    <tr>\n",
       "      <th>9</th>\n",
       "      <td>800</td>\n",
       "    </tr>\n",
       "    <tr>\n",
       "      <th>1</th>\n",
       "      <td>900</td>\n",
       "    </tr>\n",
       "    <tr>\n",
       "      <th>6</th>\n",
       "      <td>1000</td>\n",
       "    </tr>\n",
       "    <tr>\n",
       "      <th>10</th>\n",
       "      <td>1100</td>\n",
       "    </tr>\n",
       "    <tr>\n",
       "      <th>8</th>\n",
       "      <td>1600</td>\n",
       "    </tr>\n",
       "    <tr>\n",
       "      <th>5</th>\n",
       "      <td>1800</td>\n",
       "    </tr>\n",
       "    <tr>\n",
       "      <th>7</th>\n",
       "      <td>2000</td>\n",
       "    </tr>\n",
       "    <tr>\n",
       "      <th>3</th>\n",
       "      <td>2200</td>\n",
       "    </tr>\n",
       "    <tr>\n",
       "      <th>0</th>\n",
       "      <td>2400</td>\n",
       "    </tr>\n",
       "    <tr>\n",
       "      <th>4</th>\n",
       "      <td>2700</td>\n",
       "    </tr>\n",
       "    <tr>\n",
       "      <th>2</th>\n",
       "      <td>3000</td>\n",
       "    </tr>\n",
       "  </tbody>\n",
       "</table>\n",
       "</div>"
      ],
      "text/plain": [
       "       S\n",
       "9    800\n",
       "1    900\n",
       "6   1000\n",
       "10  1100\n",
       "8   1600\n",
       "5   1800\n",
       "7   2000\n",
       "3   2200\n",
       "0   2400\n",
       "4   2700\n",
       "2   3000"
      ]
     },
     "execution_count": 221,
     "metadata": {},
     "output_type": "execute_result"
    }
   ],
   "source": [
    "x = data[\"S\"].unique()\n",
    "x = pd.DataFrame({\"S\":x}).sort_values(\"S\")\n",
    "x"
   ]
  },
  {
   "cell_type": "code",
   "execution_count": 223,
   "metadata": {},
   "outputs": [
    {
     "name": "stderr",
     "output_type": "stream",
     "text": [
      "C:\\ProgramData\\Anaconda3\\lib\\site-packages\\matplotlib\\font_manager.py:1328: UserWarning: findfont: Font family ['serif'] not found. Falling back to DejaVu Sans\n",
      "  (prop.get_family(), self.defaultFamily[fontext]))\n"
     ]
    },
    {
     "data": {
      "image/png": "[encoded data removed]",
      "text/plain": [
       "<Figure size 360x360 with 1 Axes>"
      ]
     },
     "metadata": {},
     "output_type": "display_data"
    }
   ],
   "source": [
    "formula = formula = 'value ~ S'\n",
    "results = smf.ols(formula, data=data).fit()\n",
    "\n",
    "g = sns.lmplot(x = \"S\", y = \"value\", data = data, fit_reg = False)\n",
    "\n",
    "x = data[\"S\"].unique()\n",
    "x = pd.DataFrame({\"S\":x}).sort_values(\"S\")\n",
    "\n",
    "plt.plot(x, results.predict(x), 'r-')\n",
    "cv = 0.27\n",
    "plt.plot(x, results.predict(x)+cv, 'r--')\n",
    "plt.plot(x, results.predict(x)-cv, 'r--')\n",
    "plt.xlabel(\"S [mm^2]\")\n",
    "plt.ylabel(\"VHI mgnitude [-]\")\n",
    "plt.show()"
   ]
  },
  {
   "cell_type": "code",
   "execution_count": null,
   "metadata": {},
   "outputs": [],
   "source": []
  },
  {
   "cell_type": "markdown",
   "metadata": {},
   "source": [
    "二次関数で"
   ]
  },
  {
   "cell_type": "code",
   "execution_count": 190,
   "metadata": {
    "pixiedust": {
     "displayParams": {}
    }
   },
   "outputs": [
    {
     "name": "stdout",
     "output_type": "stream",
     "text": [
      "                            OLS Regression Results                            \n",
      "==============================================================================\n",
      "Dep. Variable:                  value   R-squared:                       0.270\n",
      "Model:                            OLS   Adj. R-squared:                  0.237\n",
      "Method:                 Least Squares   F-statistic:                     8.140\n",
      "Date:                Wed, 12 Sep 2018   Prob (F-statistic):           0.000982\n",
      "Time:                        12:08:26   Log-Likelihood:                -14.890\n",
      "No. Observations:                  47   AIC:                             35.78\n",
      "Df Residuals:                      44   BIC:                             41.33\n",
      "Df Model:                           2                                         \n",
      "Covariance Type:            nonrobust                                         \n",
      "==============================================================================\n",
      "                 coef    std err          t      P>|t|      [0.025      0.975]\n",
      "------------------------------------------------------------------------------\n",
      "Intercept     -0.1200      0.349     -0.344      0.733      -0.824       0.584\n",
      "S              0.0008      0.000      1.936      0.059   -3.34e-05       0.002\n",
      "I(S ** 2)  -1.516e-07    1.1e-07     -1.381      0.174   -3.73e-07    6.97e-08\n",
      "==============================================================================\n",
      "Omnibus:                        2.235   Durbin-Watson:                   1.588\n",
      "Prob(Omnibus):                  0.327   Jarque-Bera (JB):                1.599\n",
      "Skew:                           0.448   Prob(JB):                        0.450\n",
      "Kurtosis:                       3.118   Cond. No.                     3.55e+07\n",
      "==============================================================================\n",
      "\n",
      "Warnings:\n",
      "[1] Standard Errors assume that the covariance matrix of the errors is correctly specified.\n",
      "[2] The condition number is large, 3.55e+07. This might indicate that there are\n",
      "strong multicollinearity or other numerical problems.\n"
     ]
    },
    {
     "name": "stderr",
     "output_type": "stream",
     "text": [
      "C:\\ProgramData\\Anaconda3\\lib\\site-packages\\matplotlib\\font_manager.py:1328: UserWarning: findfont: Font family ['serif'] not found. Falling back to DejaVu Sans\n",
      "  (prop.get_family(), self.defaultFamily[fontext]))\n"
     ]
    },
    {
     "data": {
      "image/png": "[encoded data removed]",
      "text/plain": [
       "<Figure size 432x288 with 3 Axes>"
      ]
     },
     "metadata": {},
     "output_type": "display_data"
    },
    {
     "name": "stdout",
     "output_type": "stream",
     "text": [
      "                            OLS Regression Results                            \n",
      "==============================================================================\n",
      "Dep. Variable:                  value   R-squared:                       0.341\n",
      "Model:                            OLS   Adj. R-squared:                  0.311\n",
      "Method:                 Least Squares   F-statistic:                     11.37\n",
      "Date:                Wed, 12 Sep 2018   Prob (F-statistic):           0.000105\n",
      "Time:                        12:08:31   Log-Likelihood:                -2.8795\n",
      "No. Observations:                  47   AIC:                             11.76\n",
      "Df Residuals:                      44   BIC:                             17.31\n",
      "Df Model:                           2                                         \n",
      "Covariance Type:            nonrobust                                         \n",
      "==============================================================================\n",
      "                 coef    std err          t      P>|t|      [0.025      0.975]\n",
      "------------------------------------------------------------------------------\n",
      "Intercept     -0.1931      0.270     -0.715      0.478      -0.737       0.351\n",
      "S              0.0009      0.000      2.972      0.005       0.000       0.002\n",
      "I(S ** 2)  -1.909e-07   8.15e-08     -2.341      0.024   -3.55e-07   -2.66e-08\n",
      "==============================================================================\n",
      "Omnibus:                        2.691   Durbin-Watson:                   1.963\n",
      "Prob(Omnibus):                  0.260   Jarque-Bera (JB):                2.236\n",
      "Skew:                          -0.409   Prob(JB):                        0.327\n",
      "Kurtosis:                       2.312   Cond. No.                     3.63e+07\n",
      "==============================================================================\n",
      "\n",
      "Warnings:\n",
      "[1] Standard Errors assume that the covariance matrix of the errors is correctly specified.\n",
      "[2] The condition number is large, 3.63e+07. This might indicate that there are\n",
      "strong multicollinearity or other numerical problems.\n"
     ]
    },
    {
     "data": {
      "image/png": "[encoded data removed]",
      "text/plain": [
       "<Figure size 432x288 with 3 Axes>"
      ]
     },
     "metadata": {},
     "output_type": "display_data"
    },
    {
     "name": "stdout",
     "output_type": "stream",
     "text": [
      "                            OLS Regression Results                            \n",
      "==============================================================================\n",
      "Dep. Variable:                  value   R-squared:                       0.370\n",
      "Model:                            OLS   Adj. R-squared:                  0.341\n",
      "Method:                 Least Squares   F-statistic:                     12.91\n",
      "Date:                Wed, 12 Sep 2018   Prob (F-statistic):           3.89e-05\n",
      "Time:                        12:08:36   Log-Likelihood:                -8.6713\n",
      "No. Observations:                  47   AIC:                             23.34\n",
      "Df Residuals:                      44   BIC:                             28.89\n",
      "Df Model:                           2                                         \n",
      "Covariance Type:            nonrobust                                         \n",
      "==============================================================================\n",
      "                 coef    std err          t      P>|t|      [0.025      0.975]\n",
      "------------------------------------------------------------------------------\n",
      "Intercept      0.1452      0.307      0.473      0.639      -0.474       0.765\n",
      "S              0.0005      0.000      1.437      0.158      -0.000       0.001\n",
      "I(S ** 2)  -5.961e-08   9.43e-08     -0.632      0.530    -2.5e-07     1.3e-07\n",
      "==============================================================================\n",
      "Omnibus:                        2.144   Durbin-Watson:                   1.927\n",
      "Prob(Omnibus):                  0.342   Jarque-Bera (JB):                1.323\n",
      "Skew:                           0.024   Prob(JB):                        0.516\n",
      "Kurtosis:                       3.821   Cond. No.                     3.41e+07\n",
      "==============================================================================\n",
      "\n",
      "Warnings:\n",
      "[1] Standard Errors assume that the covariance matrix of the errors is correctly specified.\n",
      "[2] The condition number is large, 3.41e+07. This might indicate that there are\n",
      "strong multicollinearity or other numerical problems.\n"
     ]
    },
    {
     "data": {
      "image/png": "[encoded data removed]",
      "text/plain": [
       "<Figure size 432x288 with 3 Axes>"
      ]
     },
     "metadata": {},
     "output_type": "display_data"
    },
    {
     "name": "stdout",
     "output_type": "stream",
     "text": [
      "                            OLS Regression Results                            \n",
      "==============================================================================\n",
      "Dep. Variable:                  value   R-squared:                       0.267\n",
      "Model:                            OLS   Adj. R-squared:                  0.234\n",
      "Method:                 Least Squares   F-statistic:                     8.028\n",
      "Date:                Wed, 12 Sep 2018   Prob (F-statistic):            0.00107\n",
      "Time:                        12:08:41   Log-Likelihood:                -12.596\n",
      "No. Observations:                  47   AIC:                             31.19\n",
      "Df Residuals:                      44   BIC:                             36.74\n",
      "Df Model:                           2                                         \n",
      "Covariance Type:            nonrobust                                         \n",
      "==============================================================================\n",
      "                 coef    std err          t      P>|t|      [0.025      0.975]\n",
      "------------------------------------------------------------------------------\n",
      "Intercept     -0.1855      0.339     -0.547      0.587      -0.869       0.498\n",
      "S              0.0009      0.000      2.348      0.023       0.000       0.002\n",
      "I(S ** 2)  -1.802e-07      1e-07     -1.798      0.079   -3.82e-07    2.18e-08\n",
      "==============================================================================\n",
      "Omnibus:                        3.629   Durbin-Watson:                   1.595\n",
      "Prob(Omnibus):                  0.163   Jarque-Bera (JB):                2.514\n",
      "Skew:                           0.488   Prob(JB):                        0.285\n",
      "Kurtosis:                       3.576   Cond. No.                     3.78e+07\n",
      "==============================================================================\n",
      "\n",
      "Warnings:\n",
      "[1] Standard Errors assume that the covariance matrix of the errors is correctly specified.\n",
      "[2] The condition number is large, 3.78e+07. This might indicate that there are\n",
      "strong multicollinearity or other numerical problems.\n"
     ]
    },
    {
     "data": {
      "image/png": "[encoded data removed]",
      "text/plain": [
       "<Figure size 432x288 with 3 Axes>"
      ]
     },
     "metadata": {},
     "output_type": "display_data"
    },
    {
     "name": "stdout",
     "output_type": "stream",
     "text": [
      "                            OLS Regression Results                            \n",
      "==============================================================================\n",
      "Dep. Variable:                  value   R-squared:                       0.252\n",
      "Model:                            OLS   Adj. R-squared:                  0.219\n",
      "Method:                 Least Squares   F-statistic:                     7.576\n",
      "Date:                Wed, 12 Sep 2018   Prob (F-statistic):            0.00146\n",
      "Time:                        12:08:46   Log-Likelihood:                -11.732\n",
      "No. Observations:                  48   AIC:                             29.46\n",
      "Df Residuals:                      45   BIC:                             35.08\n",
      "Df Model:                           2                                         \n",
      "Covariance Type:            nonrobust                                         \n",
      "==============================================================================\n",
      "                 coef    std err          t      P>|t|      [0.025      0.975]\n",
      "------------------------------------------------------------------------------\n",
      "Intercept      0.1259      0.326      0.386      0.701      -0.530       0.782\n",
      "S              0.0006      0.000      1.512      0.138      -0.000       0.001\n",
      "I(S ** 2)  -9.099e-08   9.97e-08     -0.913      0.366   -2.92e-07     1.1e-07\n",
      "==============================================================================\n",
      "Omnibus:                        1.029   Durbin-Watson:                   1.709\n",
      "Prob(Omnibus):                  0.598   Jarque-Bera (JB):                0.359\n",
      "Skew:                           0.101   Prob(JB):                        0.836\n",
      "Kurtosis:                       3.372   Cond. No.                     3.57e+07\n",
      "==============================================================================\n",
      "\n",
      "Warnings:\n",
      "[1] Standard Errors assume that the covariance matrix of the errors is correctly specified.\n",
      "[2] The condition number is large, 3.57e+07. This might indicate that there are\n",
      "strong multicollinearity or other numerical problems.\n"
     ]
    },
    {
     "data": {
      "image/png": "[encoded data removed]",
      "text/plain": [
       "<Figure size 432x288 with 3 Axes>"
      ]
     },
     "metadata": {},
     "output_type": "display_data"
    }
   ],
   "source": [
    "#indexで5Foldに分ける\n",
    "cv_rand_results = []\n",
    "cv_rand_preds = []\n",
    "cv_rand_scores_rmse = []\n",
    "cv_rand_scores_mae = []\n",
    "\n",
    "\n",
    "\n",
    "\n",
    "i = 0\n",
    "x = data.loc[:11,\"S\"]\n",
    "\n",
    "formula = 'value ~ S+I(S**2)'\n",
    "\n",
    "\n",
    "#一次式で回帰\n",
    "\n",
    "for train_index, test_index in kf_random.split(data):\n",
    "    \n",
    "    y_pred = []\n",
    "    \n",
    "    i += 1\n",
    "    data_train = data.loc[train_index,:]\n",
    "    data_test = data.loc[test_index,:]\n",
    "    \n",
    "    #fitting\n",
    "    \n",
    "    results = smf.ols(formula, data=data_train).fit()\n",
    "    cv_rand_results.append(results)\n",
    "    \n",
    "    print(results.summary())\n",
    "    \n",
    "    #predict 元のスケールで\n",
    "    test_x = data_test[\"S\"].values\n",
    "    y_pred = results.predict(data_test)    \n",
    "    cv_rand_preds.append(y_pred)\n",
    "    \n",
    "    y_test = data_test[\"value\"].values\n",
    "    \n",
    "    \n",
    "    rmse = np.sqrt(mean_squared_error(y_test, y_pred))\n",
    "    cv_rand_scores_rmse.append(rmse)\n",
    "    mae = mean_absolute_error(y_test, y_pred)\n",
    "    cv_rand_scores_mae.append(mae)\n",
    "    \n",
    "    \n",
    "    #plot\n",
    "    \n",
    "    fig = plt.figure()\n",
    "    ax1 = fig.add_subplot(111)\n",
    "    \n",
    "    axis_x = np.arange(500,3000,10)    \n",
    "    axis_x = pd.DataFrame({\"S\":axis_x})\n",
    "\n",
    "    list_y = results.predict(axis_x)\n",
    "        \n",
    "   ##トレインデータ\n",
    "    \n",
    "    ax1.set_ylim(0,1.75)\n",
    "    ln1=ax1.plot(data_train[\"S\"],data_train[\"value\"],'C1',marker=\".\",linestyle='None')\n",
    "    \n",
    "    ##近似関数\n",
    "    \n",
    "    ax3 = ax1.twinx()\n",
    "    ax3.set_ylim(0,1.75)\n",
    "    ln3=ax3.plot(axis_x,list_y,'C1',marker=\".\",linestyle='None')\n",
    "    \n",
    "    ##テストデータ\n",
    "    \n",
    "    ax4 = ax1.twinx()\n",
    "    ax4.set_ylim(0,1.75)\n",
    "    ln4=ax4.plot(data_test[\"S\"],data_test[\"value\"],'C1',marker=\".\",linestyle='None',color='red')\n",
    "    \n",
    "    plt.savefig('figure/figure' + str(i) + '.png')\n",
    "    plt.show()"
   ]
  },
  {
   "cell_type": "code",
   "execution_count": 170,
   "metadata": {},
   "outputs": [
    {
     "name": "stdout",
     "output_type": "stream",
     "text": [
      "cv_randでの平方二乗誤差\n",
      "[0.3145612445024305, 0.37031146591255704, 0.28585140098660217, 0.3793570271093732, 0.2842449150522521]\n"
     ]
    }
   ],
   "source": [
    "print(\"cv_randでの平方二乗誤差\")\n",
    "print(cv_rand_scores_rmse)"
   ]
  },
  {
   "cell_type": "code",
   "execution_count": 171,
   "metadata": {},
   "outputs": [
    {
     "name": "stdout",
     "output_type": "stream",
     "text": [
      "cv_randscore_rmseの平均\n",
      "0.32686521071264296\n"
     ]
    }
   ],
   "source": [
    "print(\"cv_randscore_rmseの平均\")\n",
    "print(np.array(cv_rand_scores_rmse).mean())"
   ]
  },
  {
   "cell_type": "code",
   "execution_count": 172,
   "metadata": {},
   "outputs": [
    {
     "name": "stdout",
     "output_type": "stream",
     "text": [
      "cv_randでの絶対平均誤差\n",
      "[0.23817097114398936, 0.27853699037154217, 0.22890440810938387, 0.30420773873854584, 0.23423817626098578]\n"
     ]
    }
   ],
   "source": [
    "print(\"cv_randでの絶対平均誤差\")\n",
    "print(cv_rand_scores_mae)"
   ]
  },
  {
   "cell_type": "code",
   "execution_count": 173,
   "metadata": {},
   "outputs": [
    {
     "name": "stdout",
     "output_type": "stream",
     "text": [
      "cv_randscore_maeの平均\n",
      "0.2568116569248894\n"
     ]
    }
   ],
   "source": [
    "print(\"cv_randscore_maeの平均\")\n",
    "print(np.array(cv_rand_scores_mae).mean())"
   ]
  },
  {
   "cell_type": "markdown",
   "metadata": {},
   "source": [
    "3次式 "
   ]
  },
  {
   "cell_type": "code",
   "execution_count": 195,
   "metadata": {},
   "outputs": [
    {
     "name": "stdout",
     "output_type": "stream",
     "text": [
      "                            OLS Regression Results                            \n",
      "==============================================================================\n",
      "Dep. Variable:                  value   R-squared:                       0.335\n",
      "Model:                            OLS   Adj. R-squared:                  0.289\n",
      "Method:                 Least Squares   F-statistic:                     7.219\n",
      "Date:                Wed, 12 Sep 2018   Prob (F-statistic):           0.000499\n",
      "Time:                        12:13:40   Log-Likelihood:                -8.5743\n",
      "No. Observations:                  47   AIC:                             25.15\n",
      "Df Residuals:                      43   BIC:                             32.55\n",
      "Df Model:                           3                                         \n",
      "Covariance Type:            nonrobust                                         \n",
      "==============================================================================\n",
      "                 coef    std err          t      P>|t|      [0.025      0.975]\n",
      "------------------------------------------------------------------------------\n",
      "Intercept     -1.0910      1.086     -1.005      0.321      -3.280       1.098\n",
      "S              0.0029      0.002      1.433      0.159      -0.001       0.007\n",
      "I(S ** 2)  -1.436e-06   1.15e-06     -1.253      0.217   -3.75e-06    8.75e-07\n",
      "I(S ** 3)   2.362e-10   1.97e-10      1.196      0.238   -1.62e-10    6.34e-10\n",
      "==============================================================================\n",
      "Omnibus:                        1.385   Durbin-Watson:                   1.997\n",
      "Prob(Omnibus):                  0.500   Jarque-Bera (JB):                0.596\n",
      "Skew:                          -0.083   Prob(JB):                        0.742\n",
      "Kurtosis:                       3.526   Cond. No.                     3.24e+11\n",
      "==============================================================================\n",
      "\n",
      "Warnings:\n",
      "[1] Standard Errors assume that the covariance matrix of the errors is correctly specified.\n",
      "[2] The condition number is large, 3.24e+11. This might indicate that there are\n",
      "strong multicollinearity or other numerical problems.\n"
     ]
    },
    {
     "name": "stderr",
     "output_type": "stream",
     "text": [
      "C:\\ProgramData\\Anaconda3\\lib\\site-packages\\matplotlib\\font_manager.py:1328: UserWarning: findfont: Font family ['serif'] not found. Falling back to DejaVu Sans\n",
      "  (prop.get_family(), self.defaultFamily[fontext]))\n"
     ]
    },
    {
     "data": {
      "image/png": "[encoded data removed]",
      "text/plain": [
       "<Figure size 432x288 with 3 Axes>"
      ]
     },
     "metadata": {},
     "output_type": "display_data"
    },
    {
     "name": "stdout",
     "output_type": "stream",
     "text": [
      "                            OLS Regression Results                            \n",
      "==============================================================================\n",
      "Dep. Variable:                  value   R-squared:                       0.252\n",
      "Model:                            OLS   Adj. R-squared:                  0.200\n",
      "Method:                 Least Squares   F-statistic:                     4.825\n",
      "Date:                Wed, 12 Sep 2018   Prob (F-statistic):            0.00555\n",
      "Time:                        12:13:45   Log-Likelihood:                -14.267\n",
      "No. Observations:                  47   AIC:                             36.53\n",
      "Df Residuals:                      43   BIC:                             43.93\n",
      "Df Model:                           3                                         \n",
      "Covariance Type:            nonrobust                                         \n",
      "==============================================================================\n",
      "                 coef    std err          t      P>|t|      [0.025      0.975]\n",
      "------------------------------------------------------------------------------\n",
      "Intercept      0.0523      1.308      0.040      0.968      -2.586       2.691\n",
      "S              0.0006      0.002      0.237      0.814      -0.004       0.005\n",
      "I(S ** 2)   -3.57e-08   1.35e-06     -0.026      0.979   -2.76e-06    2.68e-06\n",
      "I(S ** 3)  -1.824e-11   2.29e-10     -0.079      0.937   -4.81e-10    4.45e-10\n",
      "==============================================================================\n",
      "Omnibus:                        1.513   Durbin-Watson:                   1.801\n",
      "Prob(Omnibus):                  0.469   Jarque-Bera (JB):                0.967\n",
      "Skew:                           0.346   Prob(JB):                        0.617\n",
      "Kurtosis:                       3.118   Cond. No.                     3.69e+11\n",
      "==============================================================================\n",
      "\n",
      "Warnings:\n",
      "[1] Standard Errors assume that the covariance matrix of the errors is correctly specified.\n",
      "[2] The condition number is large, 3.69e+11. This might indicate that there are\n",
      "strong multicollinearity or other numerical problems.\n"
     ]
    },
    {
     "data": {
      "image/png": "[encoded data removed]",
      "text/plain": [
       "<Figure size 432x288 with 3 Axes>"
      ]
     },
     "metadata": {},
     "output_type": "display_data"
    },
    {
     "name": "stdout",
     "output_type": "stream",
     "text": [
      "                            OLS Regression Results                            \n",
      "==============================================================================\n",
      "Dep. Variable:                  value   R-squared:                       0.348\n",
      "Model:                            OLS   Adj. R-squared:                  0.302\n",
      "Method:                 Least Squares   F-statistic:                     7.637\n",
      "Date:                Wed, 12 Sep 2018   Prob (F-statistic):           0.000336\n",
      "Time:                        12:13:50   Log-Likelihood:                -7.6857\n",
      "No. Observations:                  47   AIC:                             23.37\n",
      "Df Residuals:                      43   BIC:                             30.77\n",
      "Df Model:                           3                                         \n",
      "Covariance Type:            nonrobust                                         \n",
      "==============================================================================\n",
      "                 coef    std err          t      P>|t|      [0.025      0.975]\n",
      "------------------------------------------------------------------------------\n",
      "Intercept     -0.6916      1.121     -0.617      0.541      -2.953       1.570\n",
      "S              0.0018      0.002      0.840      0.406      -0.002       0.006\n",
      "I(S ** 2)  -5.803e-07   1.15e-06     -0.502      0.618   -2.91e-06    1.75e-06\n",
      "I(S ** 3)   5.791e-11   1.97e-10      0.294      0.770    -3.4e-10    4.56e-10\n",
      "==============================================================================\n",
      "Omnibus:                        1.741   Durbin-Watson:                   1.528\n",
      "Prob(Omnibus):                  0.419   Jarque-Bera (JB):                0.889\n",
      "Skew:                           0.133   Prob(JB):                        0.641\n",
      "Kurtosis:                       3.619   Cond. No.                     3.53e+11\n",
      "==============================================================================\n",
      "\n",
      "Warnings:\n",
      "[1] Standard Errors assume that the covariance matrix of the errors is correctly specified.\n",
      "[2] The condition number is large, 3.53e+11. This might indicate that there are\n",
      "strong multicollinearity or other numerical problems.\n"
     ]
    },
    {
     "data": {
      "image/png": "[encoded data removed]",
      "text/plain": [
       "<Figure size 432x288 with 3 Axes>"
      ]
     },
     "metadata": {},
     "output_type": "display_data"
    },
    {
     "name": "stdout",
     "output_type": "stream",
     "text": [
      "                            OLS Regression Results                            \n",
      "==============================================================================\n",
      "Dep. Variable:                  value   R-squared:                       0.253\n",
      "Model:                            OLS   Adj. R-squared:                  0.201\n",
      "Method:                 Least Squares   F-statistic:                     4.861\n",
      "Date:                Wed, 12 Sep 2018   Prob (F-statistic):            0.00534\n",
      "Time:                        12:13:55   Log-Likelihood:                -7.7165\n",
      "No. Observations:                  47   AIC:                             23.43\n",
      "Df Residuals:                      43   BIC:                             30.83\n",
      "Df Model:                           3                                         \n",
      "Covariance Type:            nonrobust                                         \n",
      "==============================================================================\n",
      "                 coef    std err          t      P>|t|      [0.025      0.975]\n",
      "------------------------------------------------------------------------------\n",
      "Intercept      0.1807      1.068      0.169      0.866      -1.973       2.334\n",
      "S              0.0005      0.002      0.247      0.806      -0.004       0.004\n",
      "I(S ** 2)  -5.483e-08    1.1e-06     -0.050      0.961   -2.28e-06    2.17e-06\n",
      "I(S ** 3)  -5.579e-12   1.89e-10     -0.030      0.977   -3.86e-10    3.75e-10\n",
      "==============================================================================\n",
      "Omnibus:                        0.441   Durbin-Watson:                   1.654\n",
      "Prob(Omnibus):                  0.802   Jarque-Bera (JB):                0.190\n",
      "Skew:                          -0.156   Prob(JB):                        0.909\n",
      "Kurtosis:                       3.013   Cond. No.                     3.45e+11\n",
      "==============================================================================\n",
      "\n",
      "Warnings:\n",
      "[1] Standard Errors assume that the covariance matrix of the errors is correctly specified.\n",
      "[2] The condition number is large, 3.45e+11. This might indicate that there are\n",
      "strong multicollinearity or other numerical problems.\n"
     ]
    },
    {
     "data": {
      "image/png": "[encoded data removed]",
      "text/plain": [
       "<Figure size 432x288 with 3 Axes>"
      ]
     },
     "metadata": {},
     "output_type": "display_data"
    },
    {
     "name": "stdout",
     "output_type": "stream",
     "text": [
      "                            OLS Regression Results                            \n",
      "==============================================================================\n",
      "Dep. Variable:                  value   R-squared:                       0.309\n",
      "Model:                            OLS   Adj. R-squared:                  0.262\n",
      "Method:                 Least Squares   F-statistic:                     6.568\n",
      "Date:                Wed, 12 Sep 2018   Prob (F-statistic):           0.000913\n",
      "Time:                        12:13:59   Log-Likelihood:                -13.595\n",
      "No. Observations:                  48   AIC:                             35.19\n",
      "Df Residuals:                      44   BIC:                             42.68\n",
      "Df Model:                           3                                         \n",
      "Covariance Type:            nonrobust                                         \n",
      "==============================================================================\n",
      "                 coef    std err          t      P>|t|      [0.025      0.975]\n",
      "------------------------------------------------------------------------------\n",
      "Intercept     -0.1198      1.221     -0.098      0.922      -2.580       2.340\n",
      "S              0.0008      0.002      0.340      0.735      -0.004       0.005\n",
      "I(S ** 2)  -9.674e-08   1.24e-06     -0.078      0.938    -2.6e-06    2.41e-06\n",
      "I(S ** 3)  -1.072e-11   2.12e-10     -0.051      0.960   -4.38e-10    4.16e-10\n",
      "==============================================================================\n",
      "Omnibus:                        2.099   Durbin-Watson:                   1.542\n",
      "Prob(Omnibus):                  0.350   Jarque-Bera (JB):                1.424\n",
      "Skew:                           0.413   Prob(JB):                        0.491\n",
      "Kurtosis:                       3.173   Cond. No.                     3.60e+11\n",
      "==============================================================================\n",
      "\n",
      "Warnings:\n",
      "[1] Standard Errors assume that the covariance matrix of the errors is correctly specified.\n",
      "[2] The condition number is large, 3.6e+11. This might indicate that there are\n",
      "strong multicollinearity or other numerical problems.\n"
     ]
    },
    {
     "data": {
      "image/png": "[encoded data removed]",
      "text/plain": [
       "<Figure size 432x288 with 3 Axes>"
      ]
     },
     "metadata": {},
     "output_type": "display_data"
    }
   ],
   "source": [
    "#indexで5Foldに分ける\n",
    "cv_rand_results = []\n",
    "cv_rand_preds = []\n",
    "cv_rand_scores_rmse = []\n",
    "cv_rand_scores_mae = []\n",
    "\n",
    "\n",
    "\n",
    "\n",
    "i = 0\n",
    "x = data.loc[:11,\"S\"]\n",
    "\n",
    "formula = 'value ~ S+I(S**2)+I(S**3)'\n",
    "\n",
    "\n",
    "#一次式で回帰\n",
    "\n",
    "for train_index, test_index in kf_random.split(data):\n",
    "    \n",
    "    y_pred = []\n",
    "    \n",
    "    i += 1\n",
    "    data_train = data.loc[train_index,:]\n",
    "    data_test = data.loc[test_index,:]\n",
    "    \n",
    "    #fitting\n",
    "    \n",
    "    results = smf.ols(formula, data=data_train).fit()\n",
    "    cv_rand_results.append(results)\n",
    "    \n",
    "    print(results.summary())\n",
    "    \n",
    "    #predict 元のスケールで\n",
    "    test_x = data_test[\"S\"].values\n",
    "    y_pred = results.predict(data_test)    \n",
    "    cv_rand_preds.append(y_pred)\n",
    "    \n",
    "    y_test = data_test[\"value\"].values\n",
    "    \n",
    "    \n",
    "    rmse = np.sqrt(mean_squared_error(y_test, y_pred))\n",
    "    cv_rand_scores_rmse.append(rmse)\n",
    "    mae = mean_absolute_error(y_test, y_pred)\n",
    "    cv_rand_scores_mae.append(mae)\n",
    "    \n",
    "    \n",
    "    #plot\n",
    "    \n",
    "    fig = plt.figure()\n",
    "    ax1 = fig.add_subplot(111)\n",
    "    \n",
    "    axis_x = np.arange(500,3000,10)    \n",
    "    axis_x = pd.DataFrame({\"S\":axis_x})\n",
    "\n",
    "    list_y = results.predict(axis_x)\n",
    "        \n",
    "   ##トレインデータ\n",
    "    \n",
    "    ax1.set_ylim(0,1.75)\n",
    "    ln1=ax1.plot(data_train[\"S\"],data_train[\"value\"],'C1',marker=\".\",linestyle='None')\n",
    "    \n",
    "    ##近似関数\n",
    "    \n",
    "    ax3 = ax1.twinx()\n",
    "    ax3.set_ylim(0,1.75)\n",
    "    ln3=ax3.plot(axis_x,list_y,'C1',marker=\".\",linestyle='None')\n",
    "    \n",
    "    ##テストデータ\n",
    "    \n",
    "    ax4 = ax1.twinx()\n",
    "    ax4.set_ylim(0,1.75)\n",
    "    ln4=ax4.plot(data_test[\"S\"],data_test[\"value\"],'C1',marker=\".\",linestyle='None',color='red')\n",
    "    \n",
    "    plt.savefig('figure/figure' + str(i) + '.png')\n",
    "    plt.show()"
   ]
  },
  {
   "cell_type": "markdown",
   "metadata": {},
   "source": [
    "10次式"
   ]
  },
  {
   "cell_type": "code",
   "execution_count": 192,
   "metadata": {
    "pixiedust": {
     "displayParams": {}
    }
   },
   "outputs": [
    {
     "name": "stdout",
     "output_type": "stream",
     "text": [
      "                            OLS Regression Results                            \n",
      "==============================================================================\n",
      "Dep. Variable:                  value   R-squared:                       0.393\n",
      "Model:                            OLS   Adj. R-squared:                  0.265\n",
      "Method:                 Least Squares   F-statistic:                     3.070\n",
      "Date:                Wed, 12 Sep 2018   Prob (F-statistic):            0.00910\n",
      "Time:                        12:10:17   Log-Likelihood:                -4.3892\n",
      "No. Observations:                  47   AIC:                             26.78\n",
      "Df Residuals:                      38   BIC:                             43.43\n",
      "Df Model:                           8                                         \n",
      "Covariance Type:            nonrobust                                         \n",
      "==============================================================================\n",
      "                 coef    std err          t      P>|t|      [0.025      0.975]\n",
      "------------------------------------------------------------------------------\n",
      "Intercept   4.039e-12   2.68e-12      1.507      0.140   -1.39e-12    9.47e-12\n",
      "S           8.767e-09   5.82e-09      1.507      0.140   -3.01e-09    2.05e-08\n",
      "I(S ** 2)   1.297e-06   8.61e-07      1.507      0.140   -4.46e-07    3.04e-06\n",
      "I(S ** 3)  -1.342e-09   1.55e-09     -0.868      0.391   -4.47e-09    1.79e-09\n",
      "I(S ** 4)   6.942e-13   9.46e-13      0.734      0.467   -1.22e-12    2.61e-12\n",
      "I(S ** 5)  -1.313e-16   1.82e-16     -0.721      0.476      -5e-16    2.38e-16\n",
      "I(S ** 6)   -7.41e-20   8.76e-20     -0.846      0.403   -2.51e-19    1.03e-19\n",
      "I(S ** 7)  -4.313e-20   5.71e-20     -0.755      0.455   -1.59e-19    7.25e-20\n",
      "I(S ** 8)   2.019e-20   3.77e-20      0.536      0.595    -5.6e-20    9.64e-20\n",
      "I(S ** 9)  -4.863e-20   4.66e-20     -1.043      0.304   -1.43e-19    4.58e-20\n",
      "I(S ** 10)  9.427e-21   1.31e-20      0.717      0.478   -1.72e-20     3.6e-20\n",
      "==============================================================================\n",
      "Omnibus:                        2.431   Durbin-Watson:                   1.619\n",
      "Prob(Omnibus):                  0.297   Jarque-Bera (JB):                1.897\n",
      "Skew:                          -0.333   Prob(JB):                        0.387\n",
      "Kurtosis:                       2.276   Cond. No.                     2.69e+21\n",
      "==============================================================================\n",
      "\n",
      "Warnings:\n",
      "[1] Standard Errors assume that the covariance matrix of the errors is correctly specified.\n",
      "[2] The condition number is large, 2.69e+21. This might indicate that there are\n",
      "strong multicollinearity or other numerical problems.\n"
     ]
    },
    {
     "name": "stderr",
     "output_type": "stream",
     "text": [
      "C:\\ProgramData\\Anaconda3\\lib\\site-packages\\matplotlib\\font_manager.py:1328: UserWarning: findfont: Font family ['serif'] not found. Falling back to DejaVu Sans\n",
      "  (prop.get_family(), self.defaultFamily[fontext]))\n"
     ]
    },
    {
     "data": {
      "image/png": "[encoded data removed]",
      "text/plain": [
       "<Figure size 432x288 with 3 Axes>"
      ]
     },
     "metadata": {},
     "output_type": "display_data"
    },
    {
     "name": "stdout",
     "output_type": "stream",
     "text": [
      "                            OLS Regression Results                            \n",
      "==============================================================================\n",
      "Dep. Variable:                  value   R-squared:                       0.371\n",
      "Model:                            OLS   Adj. R-squared:                  0.238\n",
      "Method:                 Least Squares   F-statistic:                     2.798\n",
      "Date:                Wed, 12 Sep 2018   Prob (F-statistic):             0.0154\n",
      "Time:                        12:10:23   Log-Likelihood:                -10.288\n",
      "No. Observations:                  47   AIC:                             38.58\n",
      "Df Residuals:                      38   BIC:                             55.23\n",
      "Df Model:                           8                                         \n",
      "Covariance Type:            nonrobust                                         \n",
      "==============================================================================\n",
      "                 coef    std err          t      P>|t|      [0.025      0.975]\n",
      "------------------------------------------------------------------------------\n",
      "Intercept  -1.088e-12   3.59e-12     -0.303      0.764   -8.36e-12    6.19e-12\n",
      "S           1.781e-09   5.88e-09      0.303      0.764   -1.01e-08    1.37e-08\n",
      "I(S ** 2)   -3.48e-07   1.15e-06     -0.303      0.764   -2.68e-06    1.98e-06\n",
      "I(S ** 3)   1.991e-09   2.05e-09      0.971      0.338   -2.16e-09    6.14e-09\n",
      "I(S ** 4)  -1.539e-12   1.26e-12     -1.218      0.231    -4.1e-12    1.02e-12\n",
      "I(S ** 5)   3.194e-16   2.45e-16      1.303      0.201   -1.77e-16    8.16e-16\n",
      "I(S ** 6)   1.589e-19    1.2e-19      1.323      0.194   -8.42e-20    4.02e-19\n",
      "I(S ** 7)   9.748e-20   7.85e-20      1.241      0.222   -6.15e-20    2.56e-19\n",
      "I(S ** 8)  -6.913e-20   5.25e-20     -1.317      0.196   -1.75e-19    3.71e-20\n",
      "I(S ** 9)   8.707e-20   6.48e-20      1.345      0.187    -4.4e-20    2.18e-19\n",
      "I(S ** 10)  1.005e-20   1.76e-20      0.571      0.572   -2.56e-20    4.57e-20\n",
      "==============================================================================\n",
      "Omnibus:                        2.955   Durbin-Watson:                   1.804\n",
      "Prob(Omnibus):                  0.228   Jarque-Bera (JB):                1.921\n",
      "Skew:                           0.350   Prob(JB):                        0.383\n",
      "Kurtosis:                       3.701   Cond. No.                     2.39e+21\n",
      "==============================================================================\n",
      "\n",
      "Warnings:\n",
      "[1] Standard Errors assume that the covariance matrix of the errors is correctly specified.\n",
      "[2] The condition number is large, 2.39e+21. This might indicate that there are\n",
      "strong multicollinearity or other numerical problems.\n"
     ]
    },
    {
     "data": {
      "image/png": "[encoded data removed]",
      "text/plain": [
       "<Figure size 432x288 with 3 Axes>"
      ]
     },
     "metadata": {},
     "output_type": "display_data"
    },
    {
     "name": "stdout",
     "output_type": "stream",
     "text": [
      "                            OLS Regression Results                            \n",
      "==============================================================================\n",
      "Dep. Variable:                  value   R-squared:                       0.231\n",
      "Model:                            OLS   Adj. R-squared:                  0.069\n",
      "Method:                 Least Squares   F-statistic:                     1.424\n",
      "Date:                Wed, 12 Sep 2018   Prob (F-statistic):              0.218\n",
      "Time:                        12:10:28   Log-Likelihood:                -9.3270\n",
      "No. Observations:                  47   AIC:                             36.65\n",
      "Df Residuals:                      38   BIC:                             53.31\n",
      "Df Model:                           8                                         \n",
      "Covariance Type:            nonrobust                                         \n",
      "==============================================================================\n",
      "                 coef    std err          t      P>|t|      [0.025      0.975]\n",
      "------------------------------------------------------------------------------\n",
      "Intercept   3.745e-12   3.31e-12      1.132      0.265   -2.95e-12    1.04e-11\n",
      "S            7.57e-09   6.69e-09      1.132      0.265   -5.97e-09    2.11e-08\n",
      "I(S ** 2)   1.189e-06   1.05e-06      1.132      0.265   -9.38e-07    3.32e-06\n",
      "I(S ** 3)   -6.22e-10   1.85e-09     -0.337      0.738   -4.36e-09    3.12e-09\n",
      "I(S ** 4)  -1.059e-14   1.12e-12     -0.009      0.992   -2.28e-12    2.25e-12\n",
      "I(S ** 5)   3.502e-17   2.15e-16      0.163      0.871      -4e-16     4.7e-16\n",
      "I(S ** 6)   4.274e-20   1.02e-19      0.418      0.678   -1.64e-19     2.5e-19\n",
      "I(S ** 7)   1.279e-20   6.78e-20      0.189      0.851   -1.25e-19     1.5e-19\n",
      "I(S ** 8)  -2.073e-20   4.38e-20     -0.473      0.639   -1.09e-19    6.79e-20\n",
      "I(S ** 9)   1.376e-20   5.37e-20      0.256      0.799   -9.49e-20    1.22e-19\n",
      "I(S ** 10)  1.364e-20   1.72e-20      0.793      0.433   -2.12e-20    4.85e-20\n",
      "==============================================================================\n",
      "Omnibus:                        2.118   Durbin-Watson:                   1.727\n",
      "Prob(Omnibus):                  0.347   Jarque-Bera (JB):                1.237\n",
      "Skew:                           0.154   Prob(JB):                        0.539\n",
      "Kurtosis:                       3.733   Cond. No.                     1.30e+21\n",
      "==============================================================================\n",
      "\n",
      "Warnings:\n",
      "[1] Standard Errors assume that the covariance matrix of the errors is correctly specified.\n",
      "[2] The condition number is large, 1.3e+21. This might indicate that there are\n",
      "strong multicollinearity or other numerical problems.\n"
     ]
    },
    {
     "data": {
      "image/png": "[encoded data removed]",
      "text/plain": [
       "<Figure size 432x288 with 3 Axes>"
      ]
     },
     "metadata": {},
     "output_type": "display_data"
    },
    {
     "name": "stdout",
     "output_type": "stream",
     "text": [
      "                            OLS Regression Results                            \n",
      "==============================================================================\n",
      "Dep. Variable:                  value   R-squared:                       0.313\n",
      "Model:                            OLS   Adj. R-squared:                  0.168\n",
      "Method:                 Least Squares   F-statistic:                     2.165\n",
      "Date:                Wed, 12 Sep 2018   Prob (F-statistic):             0.0529\n",
      "Time:                        12:10:33   Log-Likelihood:                -12.825\n",
      "No. Observations:                  47   AIC:                             43.65\n",
      "Df Residuals:                      38   BIC:                             60.30\n",
      "Df Model:                           8                                         \n",
      "Covariance Type:            nonrobust                                         \n",
      "==============================================================================\n",
      "                 coef    std err          t      P>|t|      [0.025      0.975]\n",
      "------------------------------------------------------------------------------\n",
      "Intercept   4.534e-12   3.23e-12      1.403      0.169   -2.01e-12    1.11e-11\n",
      "S          -1.138e-08   8.11e-09     -1.403      0.169   -2.78e-08    5.04e-09\n",
      "I(S ** 2)   1.454e-06   1.04e-06      1.403      0.169   -6.44e-07    3.55e-06\n",
      "I(S ** 3)  -1.319e-09   1.84e-09     -0.719      0.477   -5.03e-09     2.4e-09\n",
      "I(S ** 4)   4.936e-13   1.12e-12      0.441      0.662   -1.77e-12    2.76e-12\n",
      "I(S ** 5)  -6.866e-17   2.17e-16     -0.317      0.753   -5.07e-16     3.7e-16\n",
      "I(S ** 6)  -9.702e-21   1.06e-19     -0.091      0.928   -2.25e-19    2.05e-19\n",
      "I(S ** 7)  -1.023e-20   7.04e-20     -0.145      0.885   -1.53e-19    1.32e-19\n",
      "I(S ** 8)  -2.519e-21   4.59e-20     -0.055      0.957   -9.54e-20    9.04e-20\n",
      "I(S ** 9)  -1.065e-20   5.58e-20     -0.191      0.850   -1.24e-19    1.02e-19\n",
      "I(S ** 10)  3.781e-22   1.71e-20      0.022      0.982   -3.42e-20    3.49e-20\n",
      "==============================================================================\n",
      "Omnibus:                        2.537   Durbin-Watson:                   1.876\n",
      "Prob(Omnibus):                  0.281   Jarque-Bera (JB):                1.547\n",
      "Skew:                           0.340   Prob(JB):                        0.461\n",
      "Kurtosis:                       3.573   Cond. No.                     1.54e+21\n",
      "==============================================================================\n",
      "\n",
      "Warnings:\n",
      "[1] Standard Errors assume that the covariance matrix of the errors is correctly specified.\n",
      "[2] The condition number is large, 1.54e+21. This might indicate that there are\n",
      "strong multicollinearity or other numerical problems.\n"
     ]
    },
    {
     "data": {
      "image/png": "[encoded data removed]",
      "text/plain": [
       "<Figure size 432x288 with 3 Axes>"
      ]
     },
     "metadata": {},
     "output_type": "display_data"
    },
    {
     "name": "stdout",
     "output_type": "stream",
     "text": [
      "                            OLS Regression Results                            \n",
      "==============================================================================\n",
      "Dep. Variable:                  value   R-squared:                       0.417\n",
      "Model:                            OLS   Adj. R-squared:                  0.297\n",
      "Method:                 Least Squares   F-statistic:                     3.485\n",
      "Date:                Wed, 12 Sep 2018   Prob (F-statistic):            0.00399\n",
      "Time:                        12:10:39   Log-Likelihood:                -6.6639\n",
      "No. Observations:                  48   AIC:                             31.33\n",
      "Df Residuals:                      39   BIC:                             48.17\n",
      "Df Model:                           8                                         \n",
      "Covariance Type:            nonrobust                                         \n",
      "==============================================================================\n",
      "                 coef    std err          t      P>|t|      [0.025      0.975]\n",
      "------------------------------------------------------------------------------\n",
      "Intercept   4.975e-12   2.86e-12      1.741      0.090   -8.04e-13    1.08e-11\n",
      "S          -4.222e-09   2.42e-09     -1.741      0.090   -9.13e-09    6.82e-10\n",
      "I(S ** 2)    1.59e-06   9.13e-07      1.741      0.090   -2.57e-07    3.44e-06\n",
      "I(S ** 3)  -1.672e-09   1.65e-09     -1.013      0.317   -5.01e-09    1.67e-09\n",
      "I(S ** 4)   7.573e-13   1.01e-12      0.749      0.459   -1.29e-12     2.8e-12\n",
      "I(S ** 5)  -1.245e-16   1.95e-16     -0.639      0.527   -5.19e-16     2.7e-16\n",
      "I(S ** 6)  -3.948e-20   9.21e-20     -0.429      0.670   -2.26e-19    1.47e-19\n",
      "I(S ** 7)  -4.862e-20   6.17e-20     -0.788      0.435   -1.73e-19    7.61e-20\n",
      "I(S ** 8)   1.069e-20   3.97e-20      0.269      0.789   -6.96e-20     9.1e-20\n",
      "I(S ** 9)   -2.29e-20    4.8e-20     -0.477      0.636    -1.2e-19    7.42e-20\n",
      "I(S ** 10)  1.472e-20   1.41e-20      1.041      0.304   -1.39e-20    4.33e-20\n",
      "==============================================================================\n",
      "Omnibus:                        2.571   Durbin-Watson:                   1.775\n",
      "Prob(Omnibus):                  0.277   Jarque-Bera (JB):                1.681\n",
      "Skew:                           0.212   Prob(JB):                        0.432\n",
      "Kurtosis:                       3.813   Cond. No.                     2.02e+21\n",
      "==============================================================================\n",
      "\n",
      "Warnings:\n",
      "[1] Standard Errors assume that the covariance matrix of the errors is correctly specified.\n",
      "[2] The condition number is large, 2.02e+21. This might indicate that there are\n",
      "strong multicollinearity or other numerical problems.\n"
     ]
    },
    {
     "data": {
      "image/png": "[encoded data removed]",
      "text/plain": [
       "<Figure size 432x288 with 3 Axes>"
      ]
     },
     "metadata": {},
     "output_type": "display_data"
    }
   ],
   "source": [
    "#indexで5Foldに分ける\n",
    "cv_rand_results = []\n",
    "cv_rand_preds = []\n",
    "cv_rand_scores_rmse = []\n",
    "cv_rand_scores_mae = []\n",
    "\n",
    "\n",
    "\n",
    "\n",
    "i = 0\n",
    "x = data.loc[:11,\"S\"]\n",
    "\n",
    "formula = 'value ~ S + I(S**2)+ I(S**3)+ I(S**4)+ I(S**5)+ I(S**6)+ I(S**7)+ I(S**8)+ I(S**9)+ I(S**10)'\n",
    "\n",
    "\n",
    "#一次式で回帰\n",
    "\n",
    "for train_index, test_index in kf_random.split(data):\n",
    "    \n",
    "    y_pred = []\n",
    "    \n",
    "    i += 1\n",
    "    data_train = data.loc[train_index,:]\n",
    "    data_test = data.loc[test_index,:]\n",
    "    \n",
    "    #fitting\n",
    "    \n",
    "    results = smf.ols(formula, data=data_train).fit()\n",
    "    cv_rand_results.append(results)\n",
    "    \n",
    "    print(results.summary())\n",
    "    \n",
    "    #predict 元のスケールで\n",
    "    test_x = data_test[\"S\"].values\n",
    "    y_pred = results.predict(data_test)    \n",
    "    cv_rand_preds.append(y_pred)\n",
    "    \n",
    "    y_test = data_test[\"value\"].values\n",
    "    \n",
    "    \n",
    "    rmse = np.sqrt(mean_squared_error(y_test, y_pred))\n",
    "    cv_rand_scores_rmse.append(rmse)\n",
    "    mae = mean_absolute_error(y_test, y_pred)\n",
    "    cv_rand_scores_mae.append(mae)\n",
    "    \n",
    "    \n",
    "    #plot\n",
    "    \n",
    "    fig = plt.figure()\n",
    "    ax1 = fig.add_subplot(111)\n",
    "    \n",
    "    axis_x = np.arange(500,3000,10)    \n",
    "    axis_x = pd.DataFrame({\"S\":axis_x})\n",
    "\n",
    "    list_y = results.predict(axis_x)\n",
    "        \n",
    "   ##トレインデータ\n",
    "    \n",
    "    ax1.set_ylim(0,1.75)\n",
    "    ln1=ax1.plot(data_train[\"S\"],data_train[\"value\"],'C1',marker=\".\",linestyle='None')\n",
    "    \n",
    "    ##近似関数\n",
    "    \n",
    "    ax3 = ax1.twinx()\n",
    "    ln3=ax3.plot(axis_x,list_y,'C1',marker=\".\",linestyle='None')\n",
    "    \n",
    "    ##テストデータ\n",
    "    \n",
    "    ax4 = ax1.twinx()\n",
    "    ax4.set_ylim(0,1.75)\n",
    "    ln4=ax4.plot(data_test[\"S\"],data_test[\"value\"],'C1',marker=\".\",linestyle='None',color='red')\n",
    "    \n",
    "    plt.savefig('figure/figure' + str(i) + '.png')\n",
    "    plt.show()"
   ]
  },
  {
   "cell_type": "code",
   "execution_count": 183,
   "metadata": {},
   "outputs": [
    {
     "name": "stdout",
     "output_type": "stream",
     "text": [
      "cv_randでの平方二乗誤差\n",
      "[0.4452897597137936, 0.30354490308078175, 0.2800597859296349, 0.32511499638160146, 0.4021278399326453]\n"
     ]
    }
   ],
   "source": [
    "print(\"cv_randでの平方二乗誤差\")\n",
    "print(cv_rand_scores_rmse)"
   ]
  },
  {
   "cell_type": "code",
   "execution_count": 184,
   "metadata": {},
   "outputs": [
    {
     "name": "stdout",
     "output_type": "stream",
     "text": [
      "cv_randscore_rmseの平均\n",
      "0.3512274570076914\n"
     ]
    }
   ],
   "source": [
    "print(\"cv_randscore_rmseの平均\")\n",
    "print(np.array(cv_rand_scores_rmse).mean())"
   ]
  },
  {
   "cell_type": "code",
   "execution_count": 185,
   "metadata": {},
   "outputs": [
    {
     "name": "stdout",
     "output_type": "stream",
     "text": [
      "cv_randでの絶対平均誤差\n",
      "[0.39058510068607394, 0.2722203916030857, 0.21194620112821402, 0.21602411017050968, 0.2847656100233465]\n"
     ]
    }
   ],
   "source": [
    "print(\"cv_randでの絶対平均誤差\")\n",
    "print(cv_rand_scores_mae)"
   ]
  },
  {
   "cell_type": "code",
   "execution_count": 186,
   "metadata": {},
   "outputs": [
    {
     "name": "stdout",
     "output_type": "stream",
     "text": [
      "cv_randscore_maeの平均\n",
      "0.27510828272224597\n"
     ]
    }
   ],
   "source": [
    "print(\"cv_randscore_maeの平均\")\n",
    "print(np.array(cv_rand_scores_mae).mean())"
   ]
  },
  {
   "cell_type": "code",
   "execution_count": null,
   "metadata": {},
   "outputs": [],
   "source": []
  },
  {
   "cell_type": "code",
   "execution_count": null,
   "metadata": {},
   "outputs": [],
   "source": []
  },
  {
   "cell_type": "code",
   "execution_count": null,
   "metadata": {},
   "outputs": [],
   "source": []
  },
  {
   "cell_type": "markdown",
   "metadata": {},
   "source": [
    "r/d調べてみる"
   ]
  },
  {
   "cell_type": "code",
   "execution_count": 134,
   "metadata": {},
   "outputs": [
    {
     "data": {
      "text/html": [
       "<div>\n",
       "<style scoped>\n",
       "    .dataframe tbody tr th:only-of-type {\n",
       "        vertical-align: middle;\n",
       "    }\n",
       "\n",
       "    .dataframe tbody tr th {\n",
       "        vertical-align: top;\n",
       "    }\n",
       "\n",
       "    .dataframe thead th {\n",
       "        text-align: right;\n",
       "    }\n",
       "</style>\n",
       "<table border=\"1\" class=\"dataframe\">\n",
       "  <thead>\n",
       "    <tr style=\"text-align: right;\">\n",
       "      <th></th>\n",
       "      <th>subject</th>\n",
       "      <th>condition</th>\n",
       "      <th>value</th>\n",
       "      <th>l</th>\n",
       "      <th>d</th>\n",
       "      <th>S</th>\n",
       "      <th>r_d</th>\n",
       "    </tr>\n",
       "  </thead>\n",
       "  <tbody>\n",
       "    <tr>\n",
       "      <th>0</th>\n",
       "      <td>âè</td>\n",
       "      <td>8</td>\n",
       "      <td>1.3</td>\n",
       "      <td>40</td>\n",
       "      <td>60</td>\n",
       "      <td>2400</td>\n",
       "      <td>0.24</td>\n",
       "    </tr>\n",
       "    <tr>\n",
       "      <th>1</th>\n",
       "      <td>âè</td>\n",
       "      <td>1</td>\n",
       "      <td>0.8</td>\n",
       "      <td>45</td>\n",
       "      <td>20</td>\n",
       "      <td>900</td>\n",
       "      <td>0.72</td>\n",
       "    </tr>\n",
       "    <tr>\n",
       "      <th>2</th>\n",
       "      <td>âè</td>\n",
       "      <td>11</td>\n",
       "      <td>0.6</td>\n",
       "      <td>50</td>\n",
       "      <td>60</td>\n",
       "      <td>3000</td>\n",
       "      <td>0.24</td>\n",
       "    </tr>\n",
       "    <tr>\n",
       "      <th>3</th>\n",
       "      <td>âè</td>\n",
       "      <td>10</td>\n",
       "      <td>0.5</td>\n",
       "      <td>50</td>\n",
       "      <td>60</td>\n",
       "      <td>3000</td>\n",
       "      <td>0.24</td>\n",
       "    </tr>\n",
       "    <tr>\n",
       "      <th>4</th>\n",
       "      <td>âè</td>\n",
       "      <td>7</td>\n",
       "      <td>1.0</td>\n",
       "      <td>55</td>\n",
       "      <td>40</td>\n",
       "      <td>2200</td>\n",
       "      <td>0.36</td>\n",
       "    </tr>\n",
       "  </tbody>\n",
       "</table>\n",
       "</div>"
      ],
      "text/plain": [
       "  subject  condition  value   l   d     S   r_d\n",
       "0    âè          8    1.3  40  60  2400  0.24\n",
       "1    âè          1    0.8  45  20   900  0.72\n",
       "2    âè         11    0.6  50  60  3000  0.24\n",
       "3    âè         10    0.5  50  60  3000  0.24\n",
       "4    âè          7    1.0  55  40  2200  0.36"
      ]
     },
     "execution_count": 134,
     "metadata": {},
     "output_type": "execute_result"
    }
   ],
   "source": [
    "df.loc[:,\"r_d\"] = 14.4/df.loc[:,\"d\"]\n",
    "df.head()"
   ]
  },
  {
   "cell_type": "code",
   "execution_count": 135,
   "metadata": {},
   "outputs": [
    {
     "name": "stdout",
     "output_type": "stream",
     "text": [
      "KFold(n_splits=5, random_state=None, shuffle=True)\n",
      "TRAIN: [ 1  3  4  6  7  9 10 11 12 13 14 15 17 19 20 21 22 23 24 25 26 27 28 29\n",
      " 30 31 32 33 34 35 36 38 39 41 42 43 44 45 46 47 48 50 51 53 55 56 58] TEST: [ 0  2  5  8 16 18 37 40 49 52 54 57]\n",
      "train len 47 test len 12\n",
      "TRAIN: [ 0  1  2  3  4  5  7  8  9 10 11 13 15 16 17 18 19 21 22 25 27 28 29 30\n",
      " 31 32 34 35 37 38 39 40 41 42 44 45 46 47 49 50 51 52 53 54 55 56 57] TEST: [ 6 12 14 20 23 24 26 33 36 43 48 58]\n",
      "train len 47 test len 12\n",
      "TRAIN: [ 0  2  3  4  5  6  7  8 11 12 13 14 16 17 18 19 20 21 22 23 24 25 26 27\n",
      " 28 29 31 33 35 36 37 39 40 41 42 43 47 48 49 50 51 52 54 55 56 57 58] TEST: [ 1  9 10 15 30 32 34 38 44 45 46 53]\n",
      "train len 47 test len 12\n",
      "TRAIN: [ 0  1  2  5  6  8  9 10 11 12 14 15 16 18 20 23 24 26 27 28 30 31 32 33\n",
      " 34 35 36 37 38 39 40 42 43 44 45 46 47 48 49 50 51 52 53 54 55 57 58] TEST: [ 3  4  7 13 17 19 21 22 25 29 41 56]\n",
      "train len 47 test len 12\n",
      "TRAIN: [ 0  1  2  3  4  5  6  7  8  9 10 12 13 14 15 16 17 18 19 20 21 22 23 24\n",
      " 25 26 29 30 32 33 34 36 37 38 40 41 43 44 45 46 48 49 52 53 54 56 57 58] TEST: [11 27 28 31 35 39 42 47 50 51 55]\n",
      "train len 48 test len 11\n"
     ]
    }
   ],
   "source": [
    "#方法1\n",
    "data = df.loc[df[\"value\"] != 0,:] #logとるので0を除く\n",
    "data = data.reset_index()\n",
    "\n",
    "kf_random = KFold(n_splits = 5,shuffle = True)\n",
    "kf_random.get_n_splits(data)\n",
    "print(kf_random)\n",
    "for train_index, test_index in kf_random.split(data):\n",
    "    print(\"TRAIN:\", train_index, \"TEST:\", test_index)\n",
    "    print(\"train len\", len(train_index), \"test len\", len(test_index))"
   ]
  },
  {
   "cell_type": "code",
   "execution_count": 136,
   "metadata": {},
   "outputs": [
    {
     "data": {
      "text/plain": [
       "array([0.24, 0.72, 0.36])"
      ]
     },
     "execution_count": 136,
     "metadata": {},
     "output_type": "execute_result"
    }
   ],
   "source": [
    "data.loc[:,\"r_d\"].unique()"
   ]
  },
  {
   "cell_type": "code",
   "execution_count": 137,
   "metadata": {},
   "outputs": [
    {
     "name": "stdout",
     "output_type": "stream",
     "text": [
      "Intercept     -1.087979\n",
      "np.log(r_d)   -0.765877\n",
      "dtype: float64\n"
     ]
    },
    {
     "name": "stderr",
     "output_type": "stream",
     "text": [
      "C:\\ProgramData\\Anaconda3\\lib\\site-packages\\matplotlib\\font_manager.py:1328: UserWarning: findfont: Font family ['serif'] not found. Falling back to DejaVu Sans\n",
      "  (prop.get_family(), self.defaultFamily[fontext]))\n"
     ]
    },
    {
     "data": {
      "image/png": "[encoded data removed]",
      "text/plain": [
       "<Figure size 432x288 with 2 Axes>"
      ]
     },
     "metadata": {},
     "output_type": "display_data"
    },
    {
     "name": "stdout",
     "output_type": "stream",
     "text": [
      "Intercept     -1.161585\n",
      "np.log(r_d)   -0.825672\n",
      "dtype: float64\n"
     ]
    },
    {
     "data": {
      "image/png": "[encoded data removed]",
      "text/plain": [
       "<Figure size 432x288 with 2 Axes>"
      ]
     },
     "metadata": {},
     "output_type": "display_data"
    },
    {
     "name": "stdout",
     "output_type": "stream",
     "text": [
      "Intercept     -1.080249\n",
      "np.log(r_d)   -0.772509\n",
      "dtype: float64\n"
     ]
    },
    {
     "data": {
      "image/png": "[encoded data removed]",
      "text/plain": [
       "<Figure size 432x288 with 2 Axes>"
      ]
     },
     "metadata": {},
     "output_type": "display_data"
    },
    {
     "name": "stdout",
     "output_type": "stream",
     "text": [
      "Intercept     -0.899029\n",
      "np.log(r_d)   -0.596173\n",
      "dtype: float64\n"
     ]
    },
    {
     "data": {
      "image/png": "[encoded data removed]",
      "text/plain": [
       "<Figure size 432x288 with 2 Axes>"
      ]
     },
     "metadata": {},
     "output_type": "display_data"
    },
    {
     "name": "stdout",
     "output_type": "stream",
     "text": [
      "Intercept     -1.045879\n",
      "np.log(r_d)   -0.755047\n",
      "dtype: float64\n"
     ]
    },
    {
     "data": {
      "image/png": "[encoded data removed]",
      "text/plain": [
       "<Figure size 432x288 with 2 Axes>"
      ]
     },
     "metadata": {},
     "output_type": "display_data"
    }
   ],
   "source": [
    "#indexで5Foldに分ける\n",
    "cv_rand_results = []\n",
    "cv_rand_preds = []\n",
    "cv_rand_scores_rmse = []\n",
    "cv_rand_scores_mae = []\n",
    "\n",
    "\n",
    "\n",
    "\n",
    "i = 0\n",
    "data.loc[:,\"r_d\"].unique()\n",
    "\n",
    "formula = 'np.log(value) ~ np.log(r_d)'\n",
    "\n",
    "\n",
    "\n",
    "for train_index, test_index in kf_random.split(data):\n",
    "    \n",
    "    y_pred = []\n",
    "    \n",
    "    i += 1\n",
    "    data_train = data.loc[train_index,:]\n",
    "    data_test = data.loc[test_index,:]\n",
    "    \n",
    "    #fitting\n",
    "    \n",
    "    results = smf.ols(formula, data=data_train).fit()\n",
    "    cv_rand_results.append(results)\n",
    "    \n",
    "    #predict 元のスケールで\n",
    "    \n",
    "    test_x = data_test[\"r_d\"].values\n",
    "    for num in test_x:\n",
    "        y_pred.append(math.e**results.params[0]*(num**results.params[1]) )\n",
    "    \n",
    "    cv_rand_preds.append(y_pred)\n",
    "    \n",
    "    y_test = data_test[\"value\"].values\n",
    "    \n",
    "    \n",
    "    rmse = np.sqrt(mean_squared_error(y_test, y_pred))\n",
    "    cv_rand_scores_rmse.append(rmse)\n",
    "    mae = mean_absolute_error(y_test, y_pred)\n",
    "    cv_rand_scores_mae.append(mae)\n",
    "    \n",
    "    print(results.params)\n",
    "    \n",
    "    #plot\n",
    "    \n",
    "    fig = plt.figure()\n",
    "    ax1 = fig.add_subplot(111)\n",
    "    \n",
    "    \n",
    "   \n",
    "        \n",
    "   ##トレインデータ\n",
    "        \n",
    "\n",
    "    \n",
    "    ax1.set_ylim(0,1.75)\n",
    "    ln1=ax1.plot(data_train[\"r_d\"],data_train[\"value\"],'C1',marker=\".\",linestyle='None')\n",
    "    \n",
    "  \n",
    "    \n",
    "    \n",
    "    ##べき関数\n",
    "    \n",
    "    \n",
    "#    ax3 = ax1.twinx()\n",
    "#    ax3.set_ylim(0,1.75)\n",
    "#    ln3=ax3.plot(axis_x,list_y,'C1',marker=\".\",linestyle='None')\n",
    "    \n",
    "    ##テストデータ\n",
    "    \n",
    "    ax4 = ax1.twinx()\n",
    "    ax4.set_ylim(0,1.75)\n",
    "    ln4=ax4.plot(data_test[\"r_d\"],data_test[\"value\"],'C1',marker=\".\",linestyle='None',color='red')\n",
    "    \n",
    "    plt.savefig('figure/figure' + str(i) + '.png')\n",
    "    plt.show()"
   ]
  },
  {
   "cell_type": "code",
   "execution_count": 138,
   "metadata": {},
   "outputs": [
    {
     "name": "stdout",
     "output_type": "stream",
     "text": [
      "cv_randでの平方二乗誤差\n",
      "[0.40370672091456056, 0.31374431117412616, 0.3065305197491005, 0.3900350471454644, 0.26617860419831557]\n"
     ]
    }
   ],
   "source": [
    "print(\"cv_randでの平方二乗誤差\")\n",
    "print(cv_rand_scores_rmse)"
   ]
  },
  {
   "cell_type": "code",
   "execution_count": 139,
   "metadata": {},
   "outputs": [
    {
     "name": "stdout",
     "output_type": "stream",
     "text": [
      "cv_randscore_rmseの平均\n",
      "0.3360390406363134\n"
     ]
    }
   ],
   "source": [
    "print(\"cv_randscore_rmseの平均\")\n",
    "print(np.array(cv_rand_scores_rmse).mean())"
   ]
  },
  {
   "cell_type": "code",
   "execution_count": 140,
   "metadata": {},
   "outputs": [
    {
     "name": "stdout",
     "output_type": "stream",
     "text": [
      "cv_randでの絶対平均誤差\n",
      "[0.3237292522223388, 0.27787586872760023, 0.27164653830150515, 0.32507865867367347, 0.24750023104574978]\n"
     ]
    }
   ],
   "source": [
    "print(\"cv_randでの絶対平均誤差\")\n",
    "print(cv_rand_scores_mae)"
   ]
  },
  {
   "cell_type": "code",
   "execution_count": 141,
   "metadata": {},
   "outputs": [
    {
     "name": "stdout",
     "output_type": "stream",
     "text": [
      "cv_randscore_maeの平均\n",
      "0.28916610979417345\n"
     ]
    }
   ],
   "source": [
    "print(\"cv_randscore_maeの平均\")\n",
    "print(np.array(cv_rand_scores_mae).mean())"
   ]
  },
  {
   "cell_type": "code",
   "execution_count": 142,
   "metadata": {},
   "outputs": [
    {
     "name": "stdout",
     "output_type": "stream",
     "text": [
      "Intercept    1.253225\n",
      "r_d         -1.096706\n",
      "dtype: float64\n"
     ]
    },
    {
     "name": "stderr",
     "output_type": "stream",
     "text": [
      "C:\\ProgramData\\Anaconda3\\lib\\site-packages\\matplotlib\\font_manager.py:1328: UserWarning: findfont: Font family ['serif'] not found. Falling back to DejaVu Sans\n",
      "  (prop.get_family(), self.defaultFamily[fontext]))\n"
     ]
    },
    {
     "data": {
      "image/png": "[encoded data removed]",
      "text/plain": [
       "<Figure size 432x288 with 2 Axes>"
      ]
     },
     "metadata": {},
     "output_type": "display_data"
    },
    {
     "name": "stdout",
     "output_type": "stream",
     "text": [
      "Intercept    1.215250\n",
      "r_d         -0.911806\n",
      "dtype: float64\n"
     ]
    },
    {
     "data": {
      "image/png": "[encoded data removed]",
      "text/plain": [
       "<Figure size 432x288 with 2 Axes>"
      ]
     },
     "metadata": {},
     "output_type": "display_data"
    },
    {
     "name": "stdout",
     "output_type": "stream",
     "text": [
      "Intercept    1.262500\n",
      "r_d         -1.014093\n",
      "dtype: float64\n"
     ]
    },
    {
     "data": {
      "image/png": "[encoded data removed]",
      "text/plain": [
       "<Figure size 432x288 with 2 Axes>"
      ]
     },
     "metadata": {},
     "output_type": "display_data"
    },
    {
     "name": "stdout",
     "output_type": "stream",
     "text": [
      "Intercept    1.187876\n",
      "r_d         -0.820410\n",
      "dtype: float64\n"
     ]
    },
    {
     "data": {
      "image/png": "[encoded data removed]",
      "text/plain": [
       "<Figure size 432x288 with 2 Axes>"
      ]
     },
     "metadata": {},
     "output_type": "display_data"
    },
    {
     "name": "stdout",
     "output_type": "stream",
     "text": [
      "Intercept    1.108047\n",
      "r_d         -0.617066\n",
      "dtype: float64\n"
     ]
    },
    {
     "data": {
      "image/png": "[encoded data removed]",
      "text/plain": [
       "<Figure size 432x288 with 2 Axes>"
      ]
     },
     "metadata": {},
     "output_type": "display_data"
    }
   ],
   "source": [
    "#indexで5Foldに分ける\n",
    "cv_rand_results = []\n",
    "cv_rand_preds = []\n",
    "cv_rand_scores_rmse = []\n",
    "cv_rand_scores_mae = []\n",
    "\n",
    "\n",
    "\n",
    "\n",
    "i = 0\n",
    "data.loc[:,\"r_d\"].unique()\n",
    "\n",
    "formula = 'value ~ r_d'\n",
    "\n",
    "\n",
    "\n",
    "for train_index, test_index in kf_random.split(data):\n",
    "    \n",
    "    y_pred = []\n",
    "    \n",
    "    i += 1\n",
    "    data_train = data.loc[train_index,:]\n",
    "    data_test = data.loc[test_index,:]\n",
    "    \n",
    "    #fitting\n",
    "    \n",
    "    results = smf.ols(formula, data=data_train).fit()\n",
    "    cv_rand_results.append(results)\n",
    "    \n",
    "    #predict 元のスケールで\n",
    "    \n",
    "    test_x = data_test[\"r_d\"].values\n",
    "    for num in test_x:\n",
    "        y_pred.append(math.e**results.params[0]*(num**results.params[1]) )\n",
    "    \n",
    "    cv_rand_preds.append(y_pred)\n",
    "    \n",
    "    y_test = data_test[\"value\"].values\n",
    "    \n",
    "    \n",
    "    rmse = np.sqrt(mean_squared_error(y_test, y_pred))\n",
    "    cv_rand_scores_rmse.append(rmse)\n",
    "    mae = mean_absolute_error(y_test, y_pred)\n",
    "    cv_rand_scores_mae.append(mae)\n",
    "    \n",
    "    print(results.params)\n",
    "    \n",
    "    #plot\n",
    "    \n",
    "    fig = plt.figure()\n",
    "    ax1 = fig.add_subplot(111)\n",
    "    \n",
    "    \n",
    "   \n",
    "        \n",
    "   ##トレインデータ\n",
    "        \n",
    "\n",
    "    \n",
    "    ax1.set_ylim(0,1.75)\n",
    "    ln1=ax1.plot(data_train[\"r_d\"],data_train[\"value\"],'C1',marker=\".\",linestyle='None')\n",
    "    \n",
    "  \n",
    "    \n",
    "    \n",
    "    ##べき関数\n",
    "    \n",
    "    \n",
    "#    ax3 = ax1.twinx()\n",
    "#    ax3.set_ylim(0,1.75)\n",
    "#    ln3=ax3.plot(axis_x,list_y,'C1',marker=\".\",linestyle='None')\n",
    "    \n",
    "    ##テストデータ\n",
    "    \n",
    "    ax4 = ax1.twinx()\n",
    "    ax4.set_ylim(0,1.75)\n",
    "    ln4=ax4.plot(data_test[\"r_d\"],data_test[\"value\"],'C1',marker=\".\",linestyle='None',color='red')\n",
    "    \n",
    "    plt.savefig('figure/figure' + str(i) + '.png')\n",
    "    plt.show()"
   ]
  },
  {
   "cell_type": "code",
   "execution_count": 143,
   "metadata": {},
   "outputs": [
    {
     "name": "stdout",
     "output_type": "stream",
     "text": [
      "cv_randでの平方二乗誤差\n",
      "[9.718507885729599, 9.026714332129133, 10.037770321543773, 7.57773076592516, 4.816055860910346]\n"
     ]
    }
   ],
   "source": [
    "print(\"cv_randでの平方二乗誤差\")\n",
    "print(cv_rand_scores_rmse)"
   ]
  },
  {
   "cell_type": "code",
   "execution_count": null,
   "metadata": {},
   "outputs": [],
   "source": []
  },
  {
   "cell_type": "code",
   "execution_count": null,
   "metadata": {},
   "outputs": [],
   "source": []
  }
 ],
 "metadata": {
  "kernelspec": {
   "display_name": "Python 3",
   "language": "python",
   "name": "python3"
  },
  "language_info": {
   "codemirror_mode": {
    "name": "ipython",
    "version": 3
   },
   "file_extension": ".py",
   "mimetype": "text/x-python",
   "name": "python",
   "nbconvert_exporter": "python",
   "pygments_lexer": "ipython3",
   "version": "3.6.4"
  }
 },
 "nbformat": 4,
 "nbformat_minor": 2
}
